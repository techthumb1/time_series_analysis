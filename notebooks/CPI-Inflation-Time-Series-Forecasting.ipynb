{
 "cells": [
  {
   "cell_type": "code",
   "execution_count": 1,
   "id": "67b2250d",
   "metadata": {},
   "outputs": [],
   "source": [
    "import numpy as np\n",
    "import pandas as pd\n",
    "import seaborn as sns\n",
    "import plotly.graph_objs as go\n",
    "import matplotlib.pyplot as plt\n",
    "import datetime\n",
    "import statsmodels\n",
    "import statsmodels.api as sm\n",
    "from statsmodels.tsa.stattools import adfuller\n",
    "from statsmodels.tsa.arima_model import ARIMA\n",
    "from statsmodels.tsa.seasonal import seasonal_decompose \n",
    "from statsmodels.graphics.tsaplots import plot_acf, plot_pacf\n",
    "from statsmodels.tsa.stattools import acf, pacf \n",
    "import warnings\n",
    "warnings.simplefilter(\"ignore\")\n",
    "from sklearn.metrics import mean_squared_error\n",
    "from math import sqrt\n",
    "from dateutil.relativedelta import relativedelta\n",
    "from datetime import date, timedelta\n",
    "from statsmodels.tsa.statespace.sarimax import SARIMAX\n",
    "import ipywidgets as widgets"
   ]
  },
  {
   "cell_type": "code",
   "execution_count": 4,
   "id": "6437d546",
   "metadata": {},
   "outputs": [],
   "source": [
    "# !pip install chart_studio\n",
    "import chart_studio\n",
    "import chart_studio.plotly as py"
   ]
  },
  {
   "cell_type": "code",
   "execution_count": 59,
   "id": "97a33e52",
   "metadata": {},
   "outputs": [],
   "source": [
    "data = pd.read_csv('/Users/jasonrobinson/Documents/Projects/bls_project/data/cpi_avg_price_data.csv', parse_dates=['Year'], index_col='Year')\n",
    "data = data.drop('Series ID', axis=1)\n",
    "data = data[:-2]\n",
    "data['Cpi'] = data.sum(axis=1)"
   ]
  },
  {
   "cell_type": "code",
   "execution_count": 60,
   "id": "48e840a3",
   "metadata": {},
   "outputs": [
    {
     "data": {
      "application/vnd.jupyter.widget-view+json": {
       "model_id": "e74db53256db48dfb9383a0650af957a",
       "version_major": 2,
       "version_minor": 0
      },
      "text/plain": [
       "IntRangeSlider(value=(1920, 2020), description='Time Period:', max=2020, min=1920)"
      ]
     },
     "metadata": {},
     "output_type": "display_data"
    }
   ],
   "source": [
    "widget = widgets.IntRangeSlider(value=[1920, 2020], min=1920, max=2020, step=1, description='Time Period:', \n",
    "        disabled=False, continuous_update=True, orientation='horizontal', readout=True, readout_format='d')\n",
    "widget"
   ]
  },
  {
   "cell_type": "code",
   "execution_count": 61,
   "id": "e1638fa5",
   "metadata": {},
   "outputs": [
    {
     "data": {
      "text/plain": [
       "(1920, 2020)"
      ]
     },
     "execution_count": 61,
     "metadata": {},
     "output_type": "execute_result"
    }
   ],
   "source": [
    "years = widget.value\n",
    "years"
   ]
  },
  {
   "cell_type": "code",
   "execution_count": 51,
   "id": "faa136a6",
   "metadata": {},
   "outputs": [],
   "source": [
    "#years = list(range(years[0],years[-1]))"
   ]
  },
  {
   "cell_type": "code",
   "execution_count": 63,
   "id": "0a5726bc",
   "metadata": {},
   "outputs": [],
   "source": [
    "#data['Cpi'] = [d for d in data['Cpi']]"
   ]
  },
  {
   "cell_type": "code",
   "execution_count": 49,
   "id": "b22e52a8",
   "metadata": {},
   "outputs": [
    {
     "data": {
      "application/vnd.plotly.v1+json": {
       "config": {
        "plotlyServerURL": "https://plot.ly"
       },
       "data": [
        {
         "name": "1920",
         "type": "scatter",
         "x": [],
         "y": []
        },
        {
         "name": "1921",
         "type": "scatter",
         "x": [],
         "y": []
        },
        {
         "name": "1922",
         "type": "scatter",
         "x": [],
         "y": []
        },
        {
         "name": "1923",
         "type": "scatter",
         "x": [],
         "y": []
        },
        {
         "name": "1924",
         "type": "scatter",
         "x": [],
         "y": []
        },
        {
         "name": "1925",
         "type": "scatter",
         "x": [],
         "y": []
        },
        {
         "name": "1926",
         "type": "scatter",
         "x": [],
         "y": []
        },
        {
         "name": "1927",
         "type": "scatter",
         "x": [],
         "y": []
        },
        {
         "name": "1928",
         "type": "scatter",
         "x": [],
         "y": []
        },
        {
         "name": "1929",
         "type": "scatter",
         "x": [],
         "y": []
        },
        {
         "name": "1930",
         "type": "scatter",
         "x": [],
         "y": []
        },
        {
         "name": "1931",
         "type": "scatter",
         "x": [],
         "y": []
        },
        {
         "name": "1932",
         "type": "scatter",
         "x": [],
         "y": []
        },
        {
         "name": "1933",
         "type": "scatter",
         "x": [],
         "y": []
        },
        {
         "name": "1934",
         "type": "scatter",
         "x": [],
         "y": []
        },
        {
         "name": "1935",
         "type": "scatter",
         "x": [],
         "y": []
        },
        {
         "name": "1936",
         "type": "scatter",
         "x": [],
         "y": []
        },
        {
         "name": "1937",
         "type": "scatter",
         "x": [],
         "y": []
        },
        {
         "name": "1938",
         "type": "scatter",
         "x": [],
         "y": []
        },
        {
         "name": "1939",
         "type": "scatter",
         "x": [],
         "y": []
        },
        {
         "name": "1940",
         "type": "scatter",
         "x": [],
         "y": []
        },
        {
         "name": "1941",
         "type": "scatter",
         "x": [],
         "y": []
        },
        {
         "name": "1942",
         "type": "scatter",
         "x": [],
         "y": []
        },
        {
         "name": "1943",
         "type": "scatter",
         "x": [],
         "y": []
        },
        {
         "name": "1944",
         "type": "scatter",
         "x": [],
         "y": []
        },
        {
         "name": "1945",
         "type": "scatter",
         "x": [],
         "y": []
        },
        {
         "name": "1946",
         "type": "scatter",
         "x": [],
         "y": []
        },
        {
         "name": "1947",
         "type": "scatter",
         "x": [],
         "y": []
        },
        {
         "name": "1948",
         "type": "scatter",
         "x": [],
         "y": []
        },
        {
         "name": "1949",
         "type": "scatter",
         "x": [],
         "y": []
        },
        {
         "name": "1950",
         "type": "scatter",
         "x": [],
         "y": []
        },
        {
         "name": "1951",
         "type": "scatter",
         "x": [],
         "y": []
        },
        {
         "name": "1952",
         "type": "scatter",
         "x": [],
         "y": []
        },
        {
         "name": "1953",
         "type": "scatter",
         "x": [],
         "y": []
        },
        {
         "name": "1954",
         "type": "scatter",
         "x": [],
         "y": []
        },
        {
         "name": "1955",
         "type": "scatter",
         "x": [],
         "y": []
        },
        {
         "name": "1956",
         "type": "scatter",
         "x": [],
         "y": []
        },
        {
         "name": "1957",
         "type": "scatter",
         "x": [],
         "y": []
        },
        {
         "name": "1958",
         "type": "scatter",
         "x": [],
         "y": []
        },
        {
         "name": "1959",
         "type": "scatter",
         "x": [],
         "y": []
        },
        {
         "name": "1960",
         "type": "scatter",
         "x": [],
         "y": []
        },
        {
         "name": "1961",
         "type": "scatter",
         "x": [],
         "y": []
        },
        {
         "name": "1962",
         "type": "scatter",
         "x": [],
         "y": []
        },
        {
         "name": "1963",
         "type": "scatter",
         "x": [],
         "y": []
        },
        {
         "name": "1964",
         "type": "scatter",
         "x": [],
         "y": []
        },
        {
         "name": "1965",
         "type": "scatter",
         "x": [],
         "y": []
        },
        {
         "name": "1966",
         "type": "scatter",
         "x": [],
         "y": []
        },
        {
         "name": "1967",
         "type": "scatter",
         "x": [],
         "y": []
        },
        {
         "name": "1968",
         "type": "scatter",
         "x": [],
         "y": []
        },
        {
         "name": "1969",
         "type": "scatter",
         "x": [],
         "y": []
        },
        {
         "name": "1970",
         "type": "scatter",
         "x": [],
         "y": []
        },
        {
         "name": "1971",
         "type": "scatter",
         "x": [],
         "y": []
        },
        {
         "name": "1972",
         "type": "scatter",
         "x": [],
         "y": []
        },
        {
         "name": "1973",
         "type": "scatter",
         "x": [],
         "y": []
        },
        {
         "name": "1974",
         "type": "scatter",
         "x": [],
         "y": []
        },
        {
         "name": "1975",
         "type": "scatter",
         "x": [],
         "y": []
        },
        {
         "name": "1976",
         "type": "scatter",
         "x": [],
         "y": []
        },
        {
         "name": "1977",
         "type": "scatter",
         "x": [],
         "y": []
        },
        {
         "name": "1978",
         "type": "scatter",
         "x": [],
         "y": []
        },
        {
         "name": "1979",
         "type": "scatter",
         "x": [],
         "y": []
        },
        {
         "name": "1980",
         "type": "scatter",
         "x": [],
         "y": []
        },
        {
         "name": "1981",
         "type": "scatter",
         "x": [],
         "y": []
        },
        {
         "name": "1982",
         "type": "scatter",
         "x": [],
         "y": []
        },
        {
         "name": "1983",
         "type": "scatter",
         "x": [],
         "y": []
        },
        {
         "name": "1984",
         "type": "scatter",
         "x": [],
         "y": []
        },
        {
         "name": "1985",
         "type": "scatter",
         "x": [],
         "y": []
        },
        {
         "name": "1986",
         "type": "scatter",
         "x": [],
         "y": []
        },
        {
         "name": "1987",
         "type": "scatter",
         "x": [],
         "y": []
        },
        {
         "name": "1988",
         "type": "scatter",
         "x": [],
         "y": []
        },
        {
         "name": "1989",
         "type": "scatter",
         "x": [],
         "y": []
        },
        {
         "name": "1990",
         "type": "scatter",
         "x": [],
         "y": []
        },
        {
         "name": "1991",
         "type": "scatter",
         "x": [],
         "y": []
        },
        {
         "name": "1992",
         "type": "scatter",
         "x": [],
         "y": []
        },
        {
         "name": "1993",
         "type": "scatter",
         "x": [],
         "y": []
        },
        {
         "name": "1994",
         "type": "scatter",
         "x": [],
         "y": []
        },
        {
         "name": "1995",
         "type": "scatter",
         "x": [],
         "y": []
        },
        {
         "name": "1996",
         "type": "scatter",
         "x": [],
         "y": []
        },
        {
         "name": "1997",
         "type": "scatter",
         "x": [],
         "y": []
        },
        {
         "name": "1998",
         "type": "scatter",
         "x": [],
         "y": []
        },
        {
         "name": "1999",
         "type": "scatter",
         "x": [],
         "y": []
        },
        {
         "name": "2000",
         "type": "scatter",
         "x": [],
         "y": []
        },
        {
         "name": "2001",
         "type": "scatter",
         "x": [],
         "y": []
        },
        {
         "name": "2002",
         "type": "scatter",
         "x": [],
         "y": []
        },
        {
         "name": "2003",
         "type": "scatter",
         "x": [],
         "y": []
        },
        {
         "name": "2004",
         "type": "scatter",
         "x": [],
         "y": []
        },
        {
         "name": "2005",
         "type": "scatter",
         "x": [],
         "y": []
        },
        {
         "name": "2006",
         "type": "scatter",
         "x": [],
         "y": []
        },
        {
         "name": "2007",
         "type": "scatter",
         "x": [],
         "y": []
        },
        {
         "name": "2008",
         "type": "scatter",
         "x": [],
         "y": []
        },
        {
         "name": "2009",
         "type": "scatter",
         "x": [],
         "y": []
        },
        {
         "name": "2010",
         "type": "scatter",
         "x": [],
         "y": []
        },
        {
         "name": "2011",
         "type": "scatter",
         "x": [],
         "y": []
        },
        {
         "name": "2012",
         "type": "scatter",
         "x": [],
         "y": []
        },
        {
         "name": "2013",
         "type": "scatter",
         "x": [],
         "y": []
        },
        {
         "name": "2014",
         "type": "scatter",
         "x": [],
         "y": []
        },
        {
         "name": "2015",
         "type": "scatter",
         "x": [],
         "y": []
        },
        {
         "name": "2016",
         "type": "scatter",
         "x": [],
         "y": []
        },
        {
         "name": "2017",
         "type": "scatter",
         "x": [],
         "y": []
        },
        {
         "name": "2018",
         "type": "scatter",
         "x": [],
         "y": []
        },
        {
         "name": "2019",
         "type": "scatter",
         "x": [],
         "y": []
        },
        {
         "name": "2020",
         "type": "scatter",
         "x": [],
         "y": []
        }
       ],
       "layout": {
        "margin": {
         "b": 25,
         "l": 5,
         "r": 0,
         "t": 25
        },
        "template": {
         "data": {
          "bar": [
           {
            "error_x": {
             "color": "#2a3f5f"
            },
            "error_y": {
             "color": "#2a3f5f"
            },
            "marker": {
             "line": {
              "color": "#E5ECF6",
              "width": 0.5
             }
            },
            "type": "bar"
           }
          ],
          "barpolar": [
           {
            "marker": {
             "line": {
              "color": "#E5ECF6",
              "width": 0.5
             }
            },
            "type": "barpolar"
           }
          ],
          "carpet": [
           {
            "aaxis": {
             "endlinecolor": "#2a3f5f",
             "gridcolor": "white",
             "linecolor": "white",
             "minorgridcolor": "white",
             "startlinecolor": "#2a3f5f"
            },
            "baxis": {
             "endlinecolor": "#2a3f5f",
             "gridcolor": "white",
             "linecolor": "white",
             "minorgridcolor": "white",
             "startlinecolor": "#2a3f5f"
            },
            "type": "carpet"
           }
          ],
          "choropleth": [
           {
            "colorbar": {
             "outlinewidth": 0,
             "ticks": ""
            },
            "type": "choropleth"
           }
          ],
          "contour": [
           {
            "colorbar": {
             "outlinewidth": 0,
             "ticks": ""
            },
            "colorscale": [
             [
              0,
              "#0d0887"
             ],
             [
              0.1111111111111111,
              "#46039f"
             ],
             [
              0.2222222222222222,
              "#7201a8"
             ],
             [
              0.3333333333333333,
              "#9c179e"
             ],
             [
              0.4444444444444444,
              "#bd3786"
             ],
             [
              0.5555555555555556,
              "#d8576b"
             ],
             [
              0.6666666666666666,
              "#ed7953"
             ],
             [
              0.7777777777777778,
              "#fb9f3a"
             ],
             [
              0.8888888888888888,
              "#fdca26"
             ],
             [
              1,
              "#f0f921"
             ]
            ],
            "type": "contour"
           }
          ],
          "contourcarpet": [
           {
            "colorbar": {
             "outlinewidth": 0,
             "ticks": ""
            },
            "type": "contourcarpet"
           }
          ],
          "heatmap": [
           {
            "colorbar": {
             "outlinewidth": 0,
             "ticks": ""
            },
            "colorscale": [
             [
              0,
              "#0d0887"
             ],
             [
              0.1111111111111111,
              "#46039f"
             ],
             [
              0.2222222222222222,
              "#7201a8"
             ],
             [
              0.3333333333333333,
              "#9c179e"
             ],
             [
              0.4444444444444444,
              "#bd3786"
             ],
             [
              0.5555555555555556,
              "#d8576b"
             ],
             [
              0.6666666666666666,
              "#ed7953"
             ],
             [
              0.7777777777777778,
              "#fb9f3a"
             ],
             [
              0.8888888888888888,
              "#fdca26"
             ],
             [
              1,
              "#f0f921"
             ]
            ],
            "type": "heatmap"
           }
          ],
          "heatmapgl": [
           {
            "colorbar": {
             "outlinewidth": 0,
             "ticks": ""
            },
            "colorscale": [
             [
              0,
              "#0d0887"
             ],
             [
              0.1111111111111111,
              "#46039f"
             ],
             [
              0.2222222222222222,
              "#7201a8"
             ],
             [
              0.3333333333333333,
              "#9c179e"
             ],
             [
              0.4444444444444444,
              "#bd3786"
             ],
             [
              0.5555555555555556,
              "#d8576b"
             ],
             [
              0.6666666666666666,
              "#ed7953"
             ],
             [
              0.7777777777777778,
              "#fb9f3a"
             ],
             [
              0.8888888888888888,
              "#fdca26"
             ],
             [
              1,
              "#f0f921"
             ]
            ],
            "type": "heatmapgl"
           }
          ],
          "histogram": [
           {
            "marker": {
             "colorbar": {
              "outlinewidth": 0,
              "ticks": ""
             }
            },
            "type": "histogram"
           }
          ],
          "histogram2d": [
           {
            "colorbar": {
             "outlinewidth": 0,
             "ticks": ""
            },
            "colorscale": [
             [
              0,
              "#0d0887"
             ],
             [
              0.1111111111111111,
              "#46039f"
             ],
             [
              0.2222222222222222,
              "#7201a8"
             ],
             [
              0.3333333333333333,
              "#9c179e"
             ],
             [
              0.4444444444444444,
              "#bd3786"
             ],
             [
              0.5555555555555556,
              "#d8576b"
             ],
             [
              0.6666666666666666,
              "#ed7953"
             ],
             [
              0.7777777777777778,
              "#fb9f3a"
             ],
             [
              0.8888888888888888,
              "#fdca26"
             ],
             [
              1,
              "#f0f921"
             ]
            ],
            "type": "histogram2d"
           }
          ],
          "histogram2dcontour": [
           {
            "colorbar": {
             "outlinewidth": 0,
             "ticks": ""
            },
            "colorscale": [
             [
              0,
              "#0d0887"
             ],
             [
              0.1111111111111111,
              "#46039f"
             ],
             [
              0.2222222222222222,
              "#7201a8"
             ],
             [
              0.3333333333333333,
              "#9c179e"
             ],
             [
              0.4444444444444444,
              "#bd3786"
             ],
             [
              0.5555555555555556,
              "#d8576b"
             ],
             [
              0.6666666666666666,
              "#ed7953"
             ],
             [
              0.7777777777777778,
              "#fb9f3a"
             ],
             [
              0.8888888888888888,
              "#fdca26"
             ],
             [
              1,
              "#f0f921"
             ]
            ],
            "type": "histogram2dcontour"
           }
          ],
          "mesh3d": [
           {
            "colorbar": {
             "outlinewidth": 0,
             "ticks": ""
            },
            "type": "mesh3d"
           }
          ],
          "parcoords": [
           {
            "line": {
             "colorbar": {
              "outlinewidth": 0,
              "ticks": ""
             }
            },
            "type": "parcoords"
           }
          ],
          "pie": [
           {
            "automargin": true,
            "type": "pie"
           }
          ],
          "scatter": [
           {
            "marker": {
             "colorbar": {
              "outlinewidth": 0,
              "ticks": ""
             }
            },
            "type": "scatter"
           }
          ],
          "scatter3d": [
           {
            "line": {
             "colorbar": {
              "outlinewidth": 0,
              "ticks": ""
             }
            },
            "marker": {
             "colorbar": {
              "outlinewidth": 0,
              "ticks": ""
             }
            },
            "type": "scatter3d"
           }
          ],
          "scattercarpet": [
           {
            "marker": {
             "colorbar": {
              "outlinewidth": 0,
              "ticks": ""
             }
            },
            "type": "scattercarpet"
           }
          ],
          "scattergeo": [
           {
            "marker": {
             "colorbar": {
              "outlinewidth": 0,
              "ticks": ""
             }
            },
            "type": "scattergeo"
           }
          ],
          "scattergl": [
           {
            "marker": {
             "colorbar": {
              "outlinewidth": 0,
              "ticks": ""
             }
            },
            "type": "scattergl"
           }
          ],
          "scattermapbox": [
           {
            "marker": {
             "colorbar": {
              "outlinewidth": 0,
              "ticks": ""
             }
            },
            "type": "scattermapbox"
           }
          ],
          "scatterpolar": [
           {
            "marker": {
             "colorbar": {
              "outlinewidth": 0,
              "ticks": ""
             }
            },
            "type": "scatterpolar"
           }
          ],
          "scatterpolargl": [
           {
            "marker": {
             "colorbar": {
              "outlinewidth": 0,
              "ticks": ""
             }
            },
            "type": "scatterpolargl"
           }
          ],
          "scatterternary": [
           {
            "marker": {
             "colorbar": {
              "outlinewidth": 0,
              "ticks": ""
             }
            },
            "type": "scatterternary"
           }
          ],
          "surface": [
           {
            "colorbar": {
             "outlinewidth": 0,
             "ticks": ""
            },
            "colorscale": [
             [
              0,
              "#0d0887"
             ],
             [
              0.1111111111111111,
              "#46039f"
             ],
             [
              0.2222222222222222,
              "#7201a8"
             ],
             [
              0.3333333333333333,
              "#9c179e"
             ],
             [
              0.4444444444444444,
              "#bd3786"
             ],
             [
              0.5555555555555556,
              "#d8576b"
             ],
             [
              0.6666666666666666,
              "#ed7953"
             ],
             [
              0.7777777777777778,
              "#fb9f3a"
             ],
             [
              0.8888888888888888,
              "#fdca26"
             ],
             [
              1,
              "#f0f921"
             ]
            ],
            "type": "surface"
           }
          ],
          "table": [
           {
            "cells": {
             "fill": {
              "color": "#EBF0F8"
             },
             "line": {
              "color": "white"
             }
            },
            "header": {
             "fill": {
              "color": "#C8D4E3"
             },
             "line": {
              "color": "white"
             }
            },
            "type": "table"
           }
          ]
         },
         "layout": {
          "annotationdefaults": {
           "arrowcolor": "#2a3f5f",
           "arrowhead": 0,
           "arrowwidth": 1
          },
          "coloraxis": {
           "colorbar": {
            "outlinewidth": 0,
            "ticks": ""
           }
          },
          "colorscale": {
           "diverging": [
            [
             0,
             "#8e0152"
            ],
            [
             0.1,
             "#c51b7d"
            ],
            [
             0.2,
             "#de77ae"
            ],
            [
             0.3,
             "#f1b6da"
            ],
            [
             0.4,
             "#fde0ef"
            ],
            [
             0.5,
             "#f7f7f7"
            ],
            [
             0.6,
             "#e6f5d0"
            ],
            [
             0.7,
             "#b8e186"
            ],
            [
             0.8,
             "#7fbc41"
            ],
            [
             0.9,
             "#4d9221"
            ],
            [
             1,
             "#276419"
            ]
           ],
           "sequential": [
            [
             0,
             "#0d0887"
            ],
            [
             0.1111111111111111,
             "#46039f"
            ],
            [
             0.2222222222222222,
             "#7201a8"
            ],
            [
             0.3333333333333333,
             "#9c179e"
            ],
            [
             0.4444444444444444,
             "#bd3786"
            ],
            [
             0.5555555555555556,
             "#d8576b"
            ],
            [
             0.6666666666666666,
             "#ed7953"
            ],
            [
             0.7777777777777778,
             "#fb9f3a"
            ],
            [
             0.8888888888888888,
             "#fdca26"
            ],
            [
             1,
             "#f0f921"
            ]
           ],
           "sequentialminus": [
            [
             0,
             "#0d0887"
            ],
            [
             0.1111111111111111,
             "#46039f"
            ],
            [
             0.2222222222222222,
             "#7201a8"
            ],
            [
             0.3333333333333333,
             "#9c179e"
            ],
            [
             0.4444444444444444,
             "#bd3786"
            ],
            [
             0.5555555555555556,
             "#d8576b"
            ],
            [
             0.6666666666666666,
             "#ed7953"
            ],
            [
             0.7777777777777778,
             "#fb9f3a"
            ],
            [
             0.8888888888888888,
             "#fdca26"
            ],
            [
             1,
             "#f0f921"
            ]
           ]
          },
          "colorway": [
           "#636efa",
           "#EF553B",
           "#00cc96",
           "#ab63fa",
           "#FFA15A",
           "#19d3f3",
           "#FF6692",
           "#B6E880",
           "#FF97FF",
           "#FECB52"
          ],
          "font": {
           "color": "#2a3f5f"
          },
          "geo": {
           "bgcolor": "white",
           "lakecolor": "white",
           "landcolor": "#E5ECF6",
           "showlakes": true,
           "showland": true,
           "subunitcolor": "white"
          },
          "hoverlabel": {
           "align": "left"
          },
          "hovermode": "closest",
          "mapbox": {
           "style": "light"
          },
          "paper_bgcolor": "white",
          "plot_bgcolor": "#E5ECF6",
          "polar": {
           "angularaxis": {
            "gridcolor": "white",
            "linecolor": "white",
            "ticks": ""
           },
           "bgcolor": "#E5ECF6",
           "radialaxis": {
            "gridcolor": "white",
            "linecolor": "white",
            "ticks": ""
           }
          },
          "scene": {
           "xaxis": {
            "backgroundcolor": "#E5ECF6",
            "gridcolor": "white",
            "gridwidth": 2,
            "linecolor": "white",
            "showbackground": true,
            "ticks": "",
            "zerolinecolor": "white"
           },
           "yaxis": {
            "backgroundcolor": "#E5ECF6",
            "gridcolor": "white",
            "gridwidth": 2,
            "linecolor": "white",
            "showbackground": true,
            "ticks": "",
            "zerolinecolor": "white"
           },
           "zaxis": {
            "backgroundcolor": "#E5ECF6",
            "gridcolor": "white",
            "gridwidth": 2,
            "linecolor": "white",
            "showbackground": true,
            "ticks": "",
            "zerolinecolor": "white"
           }
          },
          "shapedefaults": {
           "line": {
            "color": "#2a3f5f"
           }
          },
          "ternary": {
           "aaxis": {
            "gridcolor": "white",
            "linecolor": "white",
            "ticks": ""
           },
           "baxis": {
            "gridcolor": "white",
            "linecolor": "white",
            "ticks": ""
           },
           "bgcolor": "#E5ECF6",
           "caxis": {
            "gridcolor": "white",
            "linecolor": "white",
            "ticks": ""
           }
          },
          "title": {
           "x": 0.05
          },
          "xaxis": {
           "automargin": true,
           "gridcolor": "white",
           "linecolor": "white",
           "ticks": "",
           "title": {
            "standoff": 15
           },
           "zerolinecolor": "white",
           "zerolinewidth": 2
          },
          "yaxis": {
           "automargin": true,
           "gridcolor": "white",
           "linecolor": "white",
           "ticks": "",
           "title": {
            "standoff": 15
           },
           "zerolinecolor": "white",
           "zerolinewidth": 2
          }
         }
        },
        "title": {
         "text": "Seasonal Trend of Consumer Price Inflation",
         "x": 0,
         "xref": "paper"
        },
        "xaxis": {
         "title": {
          "font": {
           "color": "#7f7f7f",
           "family": "Courier New, monospace",
           "size": 12
          },
          "text": "Consumer Price Index"
         }
        },
        "yaxis": {
         "nticks": 10,
         "title": {
          "font": {
           "color": "#7f7f7f",
           "family": "Courier New, monospace",
           "size": 12
          },
          "text": "Inflation"
         }
        }
       }
      },
      "text/html": [
       "<div>                            <div id=\"4b04d5e7-5c5a-4eec-b2a8-982416c09b3d\" class=\"plotly-graph-div\" style=\"height:525px; width:100%;\"></div>            <script type=\"text/javascript\">                require([\"plotly\"], function(Plotly) {                    window.PLOTLYENV=window.PLOTLYENV || {};                                    if (document.getElementById(\"4b04d5e7-5c5a-4eec-b2a8-982416c09b3d\")) {                    Plotly.newPlot(                        \"4b04d5e7-5c5a-4eec-b2a8-982416c09b3d\",                        [{\"name\": \"1920\", \"type\": \"scatter\", \"x\": [], \"y\": []}, {\"name\": \"1921\", \"type\": \"scatter\", \"x\": [], \"y\": []}, {\"name\": \"1922\", \"type\": \"scatter\", \"x\": [], \"y\": []}, {\"name\": \"1923\", \"type\": \"scatter\", \"x\": [], \"y\": []}, {\"name\": \"1924\", \"type\": \"scatter\", \"x\": [], \"y\": []}, {\"name\": \"1925\", \"type\": \"scatter\", \"x\": [], \"y\": []}, {\"name\": \"1926\", \"type\": \"scatter\", \"x\": [], \"y\": []}, {\"name\": \"1927\", \"type\": \"scatter\", \"x\": [], \"y\": []}, {\"name\": \"1928\", \"type\": \"scatter\", \"x\": [], \"y\": []}, {\"name\": \"1929\", \"type\": \"scatter\", \"x\": [], \"y\": []}, {\"name\": \"1930\", \"type\": \"scatter\", \"x\": [], \"y\": []}, {\"name\": \"1931\", \"type\": \"scatter\", \"x\": [], \"y\": []}, {\"name\": \"1932\", \"type\": \"scatter\", \"x\": [], \"y\": []}, {\"name\": \"1933\", \"type\": \"scatter\", \"x\": [], \"y\": []}, {\"name\": \"1934\", \"type\": \"scatter\", \"x\": [], \"y\": []}, {\"name\": \"1935\", \"type\": \"scatter\", \"x\": [], \"y\": []}, {\"name\": \"1936\", \"type\": \"scatter\", \"x\": [], \"y\": []}, {\"name\": \"1937\", \"type\": \"scatter\", \"x\": [], \"y\": []}, {\"name\": \"1938\", \"type\": \"scatter\", \"x\": [], \"y\": []}, {\"name\": \"1939\", \"type\": \"scatter\", \"x\": [], \"y\": []}, {\"name\": \"1940\", \"type\": \"scatter\", \"x\": [], \"y\": []}, {\"name\": \"1941\", \"type\": \"scatter\", \"x\": [], \"y\": []}, {\"name\": \"1942\", \"type\": \"scatter\", \"x\": [], \"y\": []}, {\"name\": \"1943\", \"type\": \"scatter\", \"x\": [], \"y\": []}, {\"name\": \"1944\", \"type\": \"scatter\", \"x\": [], \"y\": []}, {\"name\": \"1945\", \"type\": \"scatter\", \"x\": [], \"y\": []}, {\"name\": \"1946\", \"type\": \"scatter\", \"x\": [], \"y\": []}, {\"name\": \"1947\", \"type\": \"scatter\", \"x\": [], \"y\": []}, {\"name\": \"1948\", \"type\": \"scatter\", \"x\": [], \"y\": []}, {\"name\": \"1949\", \"type\": \"scatter\", \"x\": [], \"y\": []}, {\"name\": \"1950\", \"type\": \"scatter\", \"x\": [], \"y\": []}, {\"name\": \"1951\", \"type\": \"scatter\", \"x\": [], \"y\": []}, {\"name\": \"1952\", \"type\": \"scatter\", \"x\": [], \"y\": []}, {\"name\": \"1953\", \"type\": \"scatter\", \"x\": [], \"y\": []}, {\"name\": \"1954\", \"type\": \"scatter\", \"x\": [], \"y\": []}, {\"name\": \"1955\", \"type\": \"scatter\", \"x\": [], \"y\": []}, {\"name\": \"1956\", \"type\": \"scatter\", \"x\": [], \"y\": []}, {\"name\": \"1957\", \"type\": \"scatter\", \"x\": [], \"y\": []}, {\"name\": \"1958\", \"type\": \"scatter\", \"x\": [], \"y\": []}, {\"name\": \"1959\", \"type\": \"scatter\", \"x\": [], \"y\": []}, {\"name\": \"1960\", \"type\": \"scatter\", \"x\": [], \"y\": []}, {\"name\": \"1961\", \"type\": \"scatter\", \"x\": [], \"y\": []}, {\"name\": \"1962\", \"type\": \"scatter\", \"x\": [], \"y\": []}, {\"name\": \"1963\", \"type\": \"scatter\", \"x\": [], \"y\": []}, {\"name\": \"1964\", \"type\": \"scatter\", \"x\": [], \"y\": []}, {\"name\": \"1965\", \"type\": \"scatter\", \"x\": [], \"y\": []}, {\"name\": \"1966\", \"type\": \"scatter\", \"x\": [], \"y\": []}, {\"name\": \"1967\", \"type\": \"scatter\", \"x\": [], \"y\": []}, {\"name\": \"1968\", \"type\": \"scatter\", \"x\": [], \"y\": []}, {\"name\": \"1969\", \"type\": \"scatter\", \"x\": [], \"y\": []}, {\"name\": \"1970\", \"type\": \"scatter\", \"x\": [], \"y\": []}, {\"name\": \"1971\", \"type\": \"scatter\", \"x\": [], \"y\": []}, {\"name\": \"1972\", \"type\": \"scatter\", \"x\": [], \"y\": []}, {\"name\": \"1973\", \"type\": \"scatter\", \"x\": [], \"y\": []}, {\"name\": \"1974\", \"type\": \"scatter\", \"x\": [], \"y\": []}, {\"name\": \"1975\", \"type\": \"scatter\", \"x\": [], \"y\": []}, {\"name\": \"1976\", \"type\": \"scatter\", \"x\": [], \"y\": []}, {\"name\": \"1977\", \"type\": \"scatter\", \"x\": [], \"y\": []}, {\"name\": \"1978\", \"type\": \"scatter\", \"x\": [], \"y\": []}, {\"name\": \"1979\", \"type\": \"scatter\", \"x\": [], \"y\": []}, {\"name\": \"1980\", \"type\": \"scatter\", \"x\": [], \"y\": []}, {\"name\": \"1981\", \"type\": \"scatter\", \"x\": [], \"y\": []}, {\"name\": \"1982\", \"type\": \"scatter\", \"x\": [], \"y\": []}, {\"name\": \"1983\", \"type\": \"scatter\", \"x\": [], \"y\": []}, {\"name\": \"1984\", \"type\": \"scatter\", \"x\": [], \"y\": []}, {\"name\": \"1985\", \"type\": \"scatter\", \"x\": [], \"y\": []}, {\"name\": \"1986\", \"type\": \"scatter\", \"x\": [], \"y\": []}, {\"name\": \"1987\", \"type\": \"scatter\", \"x\": [], \"y\": []}, {\"name\": \"1988\", \"type\": \"scatter\", \"x\": [], \"y\": []}, {\"name\": \"1989\", \"type\": \"scatter\", \"x\": [], \"y\": []}, {\"name\": \"1990\", \"type\": \"scatter\", \"x\": [], \"y\": []}, {\"name\": \"1991\", \"type\": \"scatter\", \"x\": [], \"y\": []}, {\"name\": \"1992\", \"type\": \"scatter\", \"x\": [], \"y\": []}, {\"name\": \"1993\", \"type\": \"scatter\", \"x\": [], \"y\": []}, {\"name\": \"1994\", \"type\": \"scatter\", \"x\": [], \"y\": []}, {\"name\": \"1995\", \"type\": \"scatter\", \"x\": [], \"y\": []}, {\"name\": \"1996\", \"type\": \"scatter\", \"x\": [], \"y\": []}, {\"name\": \"1997\", \"type\": \"scatter\", \"x\": [], \"y\": []}, {\"name\": \"1998\", \"type\": \"scatter\", \"x\": [], \"y\": []}, {\"name\": \"1999\", \"type\": \"scatter\", \"x\": [], \"y\": []}, {\"name\": \"2000\", \"type\": \"scatter\", \"x\": [], \"y\": []}, {\"name\": \"2001\", \"type\": \"scatter\", \"x\": [], \"y\": []}, {\"name\": \"2002\", \"type\": \"scatter\", \"x\": [], \"y\": []}, {\"name\": \"2003\", \"type\": \"scatter\", \"x\": [], \"y\": []}, {\"name\": \"2004\", \"type\": \"scatter\", \"x\": [], \"y\": []}, {\"name\": \"2005\", \"type\": \"scatter\", \"x\": [], \"y\": []}, {\"name\": \"2006\", \"type\": \"scatter\", \"x\": [], \"y\": []}, {\"name\": \"2007\", \"type\": \"scatter\", \"x\": [], \"y\": []}, {\"name\": \"2008\", \"type\": \"scatter\", \"x\": [], \"y\": []}, {\"name\": \"2009\", \"type\": \"scatter\", \"x\": [], \"y\": []}, {\"name\": \"2010\", \"type\": \"scatter\", \"x\": [], \"y\": []}, {\"name\": \"2011\", \"type\": \"scatter\", \"x\": [], \"y\": []}, {\"name\": \"2012\", \"type\": \"scatter\", \"x\": [], \"y\": []}, {\"name\": \"2013\", \"type\": \"scatter\", \"x\": [], \"y\": []}, {\"name\": \"2014\", \"type\": \"scatter\", \"x\": [], \"y\": []}, {\"name\": \"2015\", \"type\": \"scatter\", \"x\": [], \"y\": []}, {\"name\": \"2016\", \"type\": \"scatter\", \"x\": [], \"y\": []}, {\"name\": \"2017\", \"type\": \"scatter\", \"x\": [], \"y\": []}, {\"name\": \"2018\", \"type\": \"scatter\", \"x\": [], \"y\": []}, {\"name\": \"2019\", \"type\": \"scatter\", \"x\": [], \"y\": []}, {\"name\": \"2020\", \"type\": \"scatter\", \"x\": [], \"y\": []}],                        {\"margin\": {\"b\": 25, \"l\": 5, \"r\": 0, \"t\": 25}, \"template\": {\"data\": {\"bar\": [{\"error_x\": {\"color\": \"#2a3f5f\"}, \"error_y\": {\"color\": \"#2a3f5f\"}, \"marker\": {\"line\": {\"color\": \"#E5ECF6\", \"width\": 0.5}}, \"type\": \"bar\"}], \"barpolar\": [{\"marker\": {\"line\": {\"color\": \"#E5ECF6\", \"width\": 0.5}}, \"type\": \"barpolar\"}], \"carpet\": [{\"aaxis\": {\"endlinecolor\": \"#2a3f5f\", \"gridcolor\": \"white\", \"linecolor\": \"white\", \"minorgridcolor\": \"white\", \"startlinecolor\": \"#2a3f5f\"}, \"baxis\": {\"endlinecolor\": \"#2a3f5f\", \"gridcolor\": \"white\", \"linecolor\": \"white\", \"minorgridcolor\": \"white\", \"startlinecolor\": \"#2a3f5f\"}, \"type\": \"carpet\"}], \"choropleth\": [{\"colorbar\": {\"outlinewidth\": 0, \"ticks\": \"\"}, \"type\": \"choropleth\"}], \"contour\": [{\"colorbar\": {\"outlinewidth\": 0, \"ticks\": \"\"}, \"colorscale\": [[0.0, \"#0d0887\"], [0.1111111111111111, \"#46039f\"], [0.2222222222222222, \"#7201a8\"], [0.3333333333333333, \"#9c179e\"], [0.4444444444444444, \"#bd3786\"], [0.5555555555555556, \"#d8576b\"], [0.6666666666666666, \"#ed7953\"], [0.7777777777777778, \"#fb9f3a\"], [0.8888888888888888, \"#fdca26\"], [1.0, \"#f0f921\"]], \"type\": \"contour\"}], \"contourcarpet\": [{\"colorbar\": {\"outlinewidth\": 0, \"ticks\": \"\"}, \"type\": \"contourcarpet\"}], \"heatmap\": [{\"colorbar\": {\"outlinewidth\": 0, \"ticks\": \"\"}, \"colorscale\": [[0.0, \"#0d0887\"], [0.1111111111111111, \"#46039f\"], [0.2222222222222222, \"#7201a8\"], [0.3333333333333333, \"#9c179e\"], [0.4444444444444444, \"#bd3786\"], [0.5555555555555556, \"#d8576b\"], [0.6666666666666666, \"#ed7953\"], [0.7777777777777778, \"#fb9f3a\"], [0.8888888888888888, \"#fdca26\"], [1.0, \"#f0f921\"]], \"type\": \"heatmap\"}], \"heatmapgl\": [{\"colorbar\": {\"outlinewidth\": 0, \"ticks\": \"\"}, \"colorscale\": [[0.0, \"#0d0887\"], [0.1111111111111111, \"#46039f\"], [0.2222222222222222, \"#7201a8\"], [0.3333333333333333, \"#9c179e\"], [0.4444444444444444, \"#bd3786\"], [0.5555555555555556, \"#d8576b\"], [0.6666666666666666, \"#ed7953\"], [0.7777777777777778, \"#fb9f3a\"], [0.8888888888888888, \"#fdca26\"], [1.0, \"#f0f921\"]], \"type\": \"heatmapgl\"}], \"histogram\": [{\"marker\": {\"colorbar\": {\"outlinewidth\": 0, \"ticks\": \"\"}}, \"type\": \"histogram\"}], \"histogram2d\": [{\"colorbar\": {\"outlinewidth\": 0, \"ticks\": \"\"}, \"colorscale\": [[0.0, \"#0d0887\"], [0.1111111111111111, \"#46039f\"], [0.2222222222222222, \"#7201a8\"], [0.3333333333333333, \"#9c179e\"], [0.4444444444444444, \"#bd3786\"], [0.5555555555555556, \"#d8576b\"], [0.6666666666666666, \"#ed7953\"], [0.7777777777777778, \"#fb9f3a\"], [0.8888888888888888, \"#fdca26\"], [1.0, \"#f0f921\"]], \"type\": \"histogram2d\"}], \"histogram2dcontour\": [{\"colorbar\": {\"outlinewidth\": 0, \"ticks\": \"\"}, \"colorscale\": [[0.0, \"#0d0887\"], [0.1111111111111111, \"#46039f\"], [0.2222222222222222, \"#7201a8\"], [0.3333333333333333, \"#9c179e\"], [0.4444444444444444, \"#bd3786\"], [0.5555555555555556, \"#d8576b\"], [0.6666666666666666, \"#ed7953\"], [0.7777777777777778, \"#fb9f3a\"], [0.8888888888888888, \"#fdca26\"], [1.0, \"#f0f921\"]], \"type\": \"histogram2dcontour\"}], \"mesh3d\": [{\"colorbar\": {\"outlinewidth\": 0, \"ticks\": \"\"}, \"type\": \"mesh3d\"}], \"parcoords\": [{\"line\": {\"colorbar\": {\"outlinewidth\": 0, \"ticks\": \"\"}}, \"type\": \"parcoords\"}], \"pie\": [{\"automargin\": true, \"type\": \"pie\"}], \"scatter\": [{\"marker\": {\"colorbar\": {\"outlinewidth\": 0, \"ticks\": \"\"}}, \"type\": \"scatter\"}], \"scatter3d\": [{\"line\": {\"colorbar\": {\"outlinewidth\": 0, \"ticks\": \"\"}}, \"marker\": {\"colorbar\": {\"outlinewidth\": 0, \"ticks\": \"\"}}, \"type\": \"scatter3d\"}], \"scattercarpet\": [{\"marker\": {\"colorbar\": {\"outlinewidth\": 0, \"ticks\": \"\"}}, \"type\": \"scattercarpet\"}], \"scattergeo\": [{\"marker\": {\"colorbar\": {\"outlinewidth\": 0, \"ticks\": \"\"}}, \"type\": \"scattergeo\"}], \"scattergl\": [{\"marker\": {\"colorbar\": {\"outlinewidth\": 0, \"ticks\": \"\"}}, \"type\": \"scattergl\"}], \"scattermapbox\": [{\"marker\": {\"colorbar\": {\"outlinewidth\": 0, \"ticks\": \"\"}}, \"type\": \"scattermapbox\"}], \"scatterpolar\": [{\"marker\": {\"colorbar\": {\"outlinewidth\": 0, \"ticks\": \"\"}}, \"type\": \"scatterpolar\"}], \"scatterpolargl\": [{\"marker\": {\"colorbar\": {\"outlinewidth\": 0, \"ticks\": \"\"}}, \"type\": \"scatterpolargl\"}], \"scatterternary\": [{\"marker\": {\"colorbar\": {\"outlinewidth\": 0, \"ticks\": \"\"}}, \"type\": \"scatterternary\"}], \"surface\": [{\"colorbar\": {\"outlinewidth\": 0, \"ticks\": \"\"}, \"colorscale\": [[0.0, \"#0d0887\"], [0.1111111111111111, \"#46039f\"], [0.2222222222222222, \"#7201a8\"], [0.3333333333333333, \"#9c179e\"], [0.4444444444444444, \"#bd3786\"], [0.5555555555555556, \"#d8576b\"], [0.6666666666666666, \"#ed7953\"], [0.7777777777777778, \"#fb9f3a\"], [0.8888888888888888, \"#fdca26\"], [1.0, \"#f0f921\"]], \"type\": \"surface\"}], \"table\": [{\"cells\": {\"fill\": {\"color\": \"#EBF0F8\"}, \"line\": {\"color\": \"white\"}}, \"header\": {\"fill\": {\"color\": \"#C8D4E3\"}, \"line\": {\"color\": \"white\"}}, \"type\": \"table\"}]}, \"layout\": {\"annotationdefaults\": {\"arrowcolor\": \"#2a3f5f\", \"arrowhead\": 0, \"arrowwidth\": 1}, \"coloraxis\": {\"colorbar\": {\"outlinewidth\": 0, \"ticks\": \"\"}}, \"colorscale\": {\"diverging\": [[0, \"#8e0152\"], [0.1, \"#c51b7d\"], [0.2, \"#de77ae\"], [0.3, \"#f1b6da\"], [0.4, \"#fde0ef\"], [0.5, \"#f7f7f7\"], [0.6, \"#e6f5d0\"], [0.7, \"#b8e186\"], [0.8, \"#7fbc41\"], [0.9, \"#4d9221\"], [1, \"#276419\"]], \"sequential\": [[0.0, \"#0d0887\"], [0.1111111111111111, \"#46039f\"], [0.2222222222222222, \"#7201a8\"], [0.3333333333333333, \"#9c179e\"], [0.4444444444444444, \"#bd3786\"], [0.5555555555555556, \"#d8576b\"], [0.6666666666666666, \"#ed7953\"], [0.7777777777777778, \"#fb9f3a\"], [0.8888888888888888, \"#fdca26\"], [1.0, \"#f0f921\"]], \"sequentialminus\": [[0.0, \"#0d0887\"], [0.1111111111111111, \"#46039f\"], [0.2222222222222222, \"#7201a8\"], [0.3333333333333333, \"#9c179e\"], [0.4444444444444444, \"#bd3786\"], [0.5555555555555556, \"#d8576b\"], [0.6666666666666666, \"#ed7953\"], [0.7777777777777778, \"#fb9f3a\"], [0.8888888888888888, \"#fdca26\"], [1.0, \"#f0f921\"]]}, \"colorway\": [\"#636efa\", \"#EF553B\", \"#00cc96\", \"#ab63fa\", \"#FFA15A\", \"#19d3f3\", \"#FF6692\", \"#B6E880\", \"#FF97FF\", \"#FECB52\"], \"font\": {\"color\": \"#2a3f5f\"}, \"geo\": {\"bgcolor\": \"white\", \"lakecolor\": \"white\", \"landcolor\": \"#E5ECF6\", \"showlakes\": true, \"showland\": true, \"subunitcolor\": \"white\"}, \"hoverlabel\": {\"align\": \"left\"}, \"hovermode\": \"closest\", \"mapbox\": {\"style\": \"light\"}, \"paper_bgcolor\": \"white\", \"plot_bgcolor\": \"#E5ECF6\", \"polar\": {\"angularaxis\": {\"gridcolor\": \"white\", \"linecolor\": \"white\", \"ticks\": \"\"}, \"bgcolor\": \"#E5ECF6\", \"radialaxis\": {\"gridcolor\": \"white\", \"linecolor\": \"white\", \"ticks\": \"\"}}, \"scene\": {\"xaxis\": {\"backgroundcolor\": \"#E5ECF6\", \"gridcolor\": \"white\", \"gridwidth\": 2, \"linecolor\": \"white\", \"showbackground\": true, \"ticks\": \"\", \"zerolinecolor\": \"white\"}, \"yaxis\": {\"backgroundcolor\": \"#E5ECF6\", \"gridcolor\": \"white\", \"gridwidth\": 2, \"linecolor\": \"white\", \"showbackground\": true, \"ticks\": \"\", \"zerolinecolor\": \"white\"}, \"zaxis\": {\"backgroundcolor\": \"#E5ECF6\", \"gridcolor\": \"white\", \"gridwidth\": 2, \"linecolor\": \"white\", \"showbackground\": true, \"ticks\": \"\", \"zerolinecolor\": \"white\"}}, \"shapedefaults\": {\"line\": {\"color\": \"#2a3f5f\"}}, \"ternary\": {\"aaxis\": {\"gridcolor\": \"white\", \"linecolor\": \"white\", \"ticks\": \"\"}, \"baxis\": {\"gridcolor\": \"white\", \"linecolor\": \"white\", \"ticks\": \"\"}, \"bgcolor\": \"#E5ECF6\", \"caxis\": {\"gridcolor\": \"white\", \"linecolor\": \"white\", \"ticks\": \"\"}}, \"title\": {\"x\": 0.05}, \"xaxis\": {\"automargin\": true, \"gridcolor\": \"white\", \"linecolor\": \"white\", \"ticks\": \"\", \"title\": {\"standoff\": 15}, \"zerolinecolor\": \"white\", \"zerolinewidth\": 2}, \"yaxis\": {\"automargin\": true, \"gridcolor\": \"white\", \"linecolor\": \"white\", \"ticks\": \"\", \"title\": {\"standoff\": 15}, \"zerolinecolor\": \"white\", \"zerolinewidth\": 2}}}, \"title\": {\"text\": \"Seasonal Trend of Consumer Price Inflation\", \"x\": 0, \"xref\": \"paper\"}, \"xaxis\": {\"title\": {\"font\": {\"color\": \"#7f7f7f\", \"family\": \"Courier New, monospace\", \"size\": 12}, \"text\": \"Consumer Price Index\"}}, \"yaxis\": {\"nticks\": 10, \"title\": {\"font\": {\"color\": \"#7f7f7f\", \"family\": \"Courier New, monospace\", \"size\": 12}, \"text\": \"Inflation\"}}},                        {\"responsive\": true}                    ).then(function(){\n",
       "                            \n",
       "var gd = document.getElementById('4b04d5e7-5c5a-4eec-b2a8-982416c09b3d');\n",
       "var x = new MutationObserver(function (mutations, observer) {{\n",
       "        var display = window.getComputedStyle(gd).display;\n",
       "        if (!display || display === 'none') {{\n",
       "            console.log([gd, 'removed!']);\n",
       "            Plotly.purge(gd);\n",
       "            observer.disconnect();\n",
       "        }}\n",
       "}});\n",
       "\n",
       "// Listen for the removal of the full notebook cells\n",
       "var notebookContainer = gd.closest('#notebook-container');\n",
       "if (notebookContainer) {{\n",
       "    x.observe(notebookContainer, {childList: true});\n",
       "}}\n",
       "\n",
       "// Listen for the clearing of the current output cell\n",
       "var outputEl = gd.closest('.output');\n",
       "if (outputEl) {{\n",
       "    x.observe(outputEl, {childList: true});\n",
       "}}\n",
       "\n",
       "                        })                };                });            </script>        </div>"
      ]
     },
     "metadata": {},
     "output_type": "display_data"
    }
   ],
   "source": [
    "#Draw Plot\n",
    "fig = go.Figure()\n",
    "\n",
    "    fig.add_trace(go.Scatter(\n",
    "        x=data[data['Cpi']==years[i]],\n",
    "        y=data[data['Cpi']==years[i]].round(2),\n",
    "        name=str(years[i])))\n",
    "#Layout changes\n",
    "fig.update_layout(title=go.layout.Title(\n",
    "        text=\"Seasonal Trend of Consumer Price Inflation\",\n",
    "        xref=\"paper\",\n",
    "        x=0),\n",
    "    margin=dict(l=5, r=0, t=25, b=25),\n",
    "    xaxis=go.layout.XAxis(title=go.layout.xaxis.Title(text=\"Consumer Price Index\",font=dict(\n",
    "                family=\"Courier New, monospace\",\n",
    "                size=12,\n",
    "                color=\"#7f7f7f\"))),\n",
    "    yaxis=go.layout.YAxis(title=go.layout.yaxis.Title(text=\"Inflation\",font=dict(\n",
    "                family=\"Courier New, monospace\",\n",
    "                size=12,\n",
    "                color=\"#7f7f7f\"))))\n",
    "fig.update_yaxes(nticks=10)\n",
    "   \n",
    "fig.show()"
   ]
  },
  {
   "cell_type": "code",
   "execution_count": 48,
   "id": "14a05359",
   "metadata": {
    "collapsed": true
   },
   "outputs": [
    {
     "ename": "TypeError",
     "evalue": "Invalid comparison between dtype=datetime64[ns] and int",
     "output_type": "error",
     "traceback": [
      "\u001b[0;31m---------------------------------------------------------------------------\u001b[0m",
      "\u001b[0;31mInvalidComparison\u001b[0m                         Traceback (most recent call last)",
      "\u001b[0;32m/opt/anaconda3/envs/NNs/lib/python3.8/site-packages/pandas/core/arrays/datetimelike.py\u001b[0m in \u001b[0;36mwrapper\u001b[0;34m(self, other)\u001b[0m\n\u001b[1;32m    115\u001b[0m         \u001b[0;32mtry\u001b[0m\u001b[0;34m:\u001b[0m\u001b[0;34m\u001b[0m\u001b[0;34m\u001b[0m\u001b[0m\n\u001b[0;32m--> 116\u001b[0;31m             \u001b[0mother\u001b[0m \u001b[0;34m=\u001b[0m \u001b[0m_validate_comparison_value\u001b[0m\u001b[0;34m(\u001b[0m\u001b[0mself\u001b[0m\u001b[0;34m,\u001b[0m \u001b[0mother\u001b[0m\u001b[0;34m)\u001b[0m\u001b[0;34m\u001b[0m\u001b[0;34m\u001b[0m\u001b[0m\n\u001b[0m\u001b[1;32m    117\u001b[0m         \u001b[0;32mexcept\u001b[0m \u001b[0mInvalidComparison\u001b[0m\u001b[0;34m:\u001b[0m\u001b[0;34m\u001b[0m\u001b[0;34m\u001b[0m\u001b[0m\n",
      "\u001b[0;32m/opt/anaconda3/envs/NNs/lib/python3.8/site-packages/pandas/core/arrays/datetimelike.py\u001b[0m in \u001b[0;36m_validate_comparison_value\u001b[0;34m(self, other)\u001b[0m\n\u001b[1;32m     95\u001b[0m         \u001b[0;32melif\u001b[0m \u001b[0;32mnot\u001b[0m \u001b[0mis_list_like\u001b[0m\u001b[0;34m(\u001b[0m\u001b[0mother\u001b[0m\u001b[0;34m)\u001b[0m\u001b[0;34m:\u001b[0m\u001b[0;34m\u001b[0m\u001b[0;34m\u001b[0m\u001b[0m\n\u001b[0;32m---> 96\u001b[0;31m             \u001b[0;32mraise\u001b[0m \u001b[0mInvalidComparison\u001b[0m\u001b[0;34m(\u001b[0m\u001b[0mother\u001b[0m\u001b[0;34m)\u001b[0m\u001b[0;34m\u001b[0m\u001b[0;34m\u001b[0m\u001b[0m\n\u001b[0m\u001b[1;32m     97\u001b[0m \u001b[0;34m\u001b[0m\u001b[0m\n",
      "\u001b[0;31mInvalidComparison\u001b[0m: 1980",
      "\nDuring handling of the above exception, another exception occurred:\n",
      "\u001b[0;31mTypeError\u001b[0m                                 Traceback (most recent call last)",
      "\u001b[0;32m/var/folders/q3/0g1f31211lbgj741dfjd4r5c0000gn/T/ipykernel_11080/2602240115.py\u001b[0m in \u001b[0;36m<module>\u001b[0;34m\u001b[0m\n\u001b[0;32m----> 1\u001b[0;31m \u001b[0mTrain\u001b[0m \u001b[0;34m=\u001b[0m \u001b[0mdata\u001b[0m\u001b[0;34m[\u001b[0m\u001b[0mdata\u001b[0m\u001b[0;34m.\u001b[0m\u001b[0mYear\u001b[0m \u001b[0;34m<\u001b[0m \u001b[0;36m1980\u001b[0m\u001b[0;34m]\u001b[0m\u001b[0;34m\u001b[0m\u001b[0;34m\u001b[0m\u001b[0m\n\u001b[0m\u001b[1;32m      2\u001b[0m \u001b[0mValid\u001b[0m \u001b[0;34m=\u001b[0m \u001b[0mdata\u001b[0m\u001b[0;34m[\u001b[0m\u001b[0mdata\u001b[0m\u001b[0;34m.\u001b[0m\u001b[0mYear\u001b[0m \u001b[0;34m>\u001b[0m \u001b[0;36m1981\u001b[0m\u001b[0;34m]\u001b[0m\u001b[0;34m\u001b[0m\u001b[0;34m\u001b[0m\u001b[0m\n",
      "\u001b[0;32m/opt/anaconda3/envs/NNs/lib/python3.8/site-packages/pandas/core/ops/common.py\u001b[0m in \u001b[0;36mnew_method\u001b[0;34m(self, other)\u001b[0m\n\u001b[1;32m     63\u001b[0m         \u001b[0mother\u001b[0m \u001b[0;34m=\u001b[0m \u001b[0mitem_from_zerodim\u001b[0m\u001b[0;34m(\u001b[0m\u001b[0mother\u001b[0m\u001b[0;34m)\u001b[0m\u001b[0;34m\u001b[0m\u001b[0;34m\u001b[0m\u001b[0m\n\u001b[1;32m     64\u001b[0m \u001b[0;34m\u001b[0m\u001b[0m\n\u001b[0;32m---> 65\u001b[0;31m         \u001b[0;32mreturn\u001b[0m \u001b[0mmethod\u001b[0m\u001b[0;34m(\u001b[0m\u001b[0mself\u001b[0m\u001b[0;34m,\u001b[0m \u001b[0mother\u001b[0m\u001b[0;34m)\u001b[0m\u001b[0;34m\u001b[0m\u001b[0;34m\u001b[0m\u001b[0m\n\u001b[0m\u001b[1;32m     66\u001b[0m \u001b[0;34m\u001b[0m\u001b[0m\n\u001b[1;32m     67\u001b[0m     \u001b[0;32mreturn\u001b[0m \u001b[0mnew_method\u001b[0m\u001b[0;34m\u001b[0m\u001b[0;34m\u001b[0m\u001b[0m\n",
      "\u001b[0;32m/opt/anaconda3/envs/NNs/lib/python3.8/site-packages/pandas/core/ops/__init__.py\u001b[0m in \u001b[0;36mwrapper\u001b[0;34m(self, other)\u001b[0m\n\u001b[1;32m    368\u001b[0m         \u001b[0mrvalues\u001b[0m \u001b[0;34m=\u001b[0m \u001b[0mextract_array\u001b[0m\u001b[0;34m(\u001b[0m\u001b[0mother\u001b[0m\u001b[0;34m,\u001b[0m \u001b[0mextract_numpy\u001b[0m\u001b[0;34m=\u001b[0m\u001b[0;32mTrue\u001b[0m\u001b[0;34m)\u001b[0m\u001b[0;34m\u001b[0m\u001b[0;34m\u001b[0m\u001b[0m\n\u001b[1;32m    369\u001b[0m \u001b[0;34m\u001b[0m\u001b[0m\n\u001b[0;32m--> 370\u001b[0;31m         \u001b[0mres_values\u001b[0m \u001b[0;34m=\u001b[0m \u001b[0mcomparison_op\u001b[0m\u001b[0;34m(\u001b[0m\u001b[0mlvalues\u001b[0m\u001b[0;34m,\u001b[0m \u001b[0mrvalues\u001b[0m\u001b[0;34m,\u001b[0m \u001b[0mop\u001b[0m\u001b[0;34m)\u001b[0m\u001b[0;34m\u001b[0m\u001b[0;34m\u001b[0m\u001b[0m\n\u001b[0m\u001b[1;32m    371\u001b[0m \u001b[0;34m\u001b[0m\u001b[0m\n\u001b[1;32m    372\u001b[0m         \u001b[0;32mreturn\u001b[0m \u001b[0mself\u001b[0m\u001b[0;34m.\u001b[0m\u001b[0m_construct_result\u001b[0m\u001b[0;34m(\u001b[0m\u001b[0mres_values\u001b[0m\u001b[0;34m,\u001b[0m \u001b[0mname\u001b[0m\u001b[0;34m=\u001b[0m\u001b[0mres_name\u001b[0m\u001b[0;34m)\u001b[0m\u001b[0;34m\u001b[0m\u001b[0;34m\u001b[0m\u001b[0m\n",
      "\u001b[0;32m/opt/anaconda3/envs/NNs/lib/python3.8/site-packages/pandas/core/ops/array_ops.py\u001b[0m in \u001b[0;36mcomparison_op\u001b[0;34m(left, right, op)\u001b[0m\n\u001b[1;32m    228\u001b[0m     \u001b[0;32mif\u001b[0m \u001b[0mshould_extension_dispatch\u001b[0m\u001b[0;34m(\u001b[0m\u001b[0mlvalues\u001b[0m\u001b[0;34m,\u001b[0m \u001b[0mrvalues\u001b[0m\u001b[0;34m)\u001b[0m\u001b[0;34m:\u001b[0m\u001b[0;34m\u001b[0m\u001b[0;34m\u001b[0m\u001b[0m\n\u001b[1;32m    229\u001b[0m         \u001b[0;31m# Call the method on lvalues\u001b[0m\u001b[0;34m\u001b[0m\u001b[0;34m\u001b[0m\u001b[0;34m\u001b[0m\u001b[0m\n\u001b[0;32m--> 230\u001b[0;31m         \u001b[0mres_values\u001b[0m \u001b[0;34m=\u001b[0m \u001b[0mop\u001b[0m\u001b[0;34m(\u001b[0m\u001b[0mlvalues\u001b[0m\u001b[0;34m,\u001b[0m \u001b[0mrvalues\u001b[0m\u001b[0;34m)\u001b[0m\u001b[0;34m\u001b[0m\u001b[0;34m\u001b[0m\u001b[0m\n\u001b[0m\u001b[1;32m    231\u001b[0m \u001b[0;34m\u001b[0m\u001b[0m\n\u001b[1;32m    232\u001b[0m     \u001b[0;32melif\u001b[0m \u001b[0mis_scalar\u001b[0m\u001b[0;34m(\u001b[0m\u001b[0mrvalues\u001b[0m\u001b[0;34m)\u001b[0m \u001b[0;32mand\u001b[0m \u001b[0misna\u001b[0m\u001b[0;34m(\u001b[0m\u001b[0mrvalues\u001b[0m\u001b[0;34m)\u001b[0m\u001b[0;34m:\u001b[0m\u001b[0;34m\u001b[0m\u001b[0;34m\u001b[0m\u001b[0m\n",
      "\u001b[0;32m/opt/anaconda3/envs/NNs/lib/python3.8/site-packages/pandas/core/ops/common.py\u001b[0m in \u001b[0;36mnew_method\u001b[0;34m(self, other)\u001b[0m\n\u001b[1;32m     63\u001b[0m         \u001b[0mother\u001b[0m \u001b[0;34m=\u001b[0m \u001b[0mitem_from_zerodim\u001b[0m\u001b[0;34m(\u001b[0m\u001b[0mother\u001b[0m\u001b[0;34m)\u001b[0m\u001b[0;34m\u001b[0m\u001b[0;34m\u001b[0m\u001b[0m\n\u001b[1;32m     64\u001b[0m \u001b[0;34m\u001b[0m\u001b[0m\n\u001b[0;32m---> 65\u001b[0;31m         \u001b[0;32mreturn\u001b[0m \u001b[0mmethod\u001b[0m\u001b[0;34m(\u001b[0m\u001b[0mself\u001b[0m\u001b[0;34m,\u001b[0m \u001b[0mother\u001b[0m\u001b[0;34m)\u001b[0m\u001b[0;34m\u001b[0m\u001b[0;34m\u001b[0m\u001b[0m\n\u001b[0m\u001b[1;32m     66\u001b[0m \u001b[0;34m\u001b[0m\u001b[0m\n\u001b[1;32m     67\u001b[0m     \u001b[0;32mreturn\u001b[0m \u001b[0mnew_method\u001b[0m\u001b[0;34m\u001b[0m\u001b[0;34m\u001b[0m\u001b[0m\n",
      "\u001b[0;32m/opt/anaconda3/envs/NNs/lib/python3.8/site-packages/pandas/core/arrays/datetimelike.py\u001b[0m in \u001b[0;36mwrapper\u001b[0;34m(self, other)\u001b[0m\n\u001b[1;32m    116\u001b[0m             \u001b[0mother\u001b[0m \u001b[0;34m=\u001b[0m \u001b[0m_validate_comparison_value\u001b[0m\u001b[0;34m(\u001b[0m\u001b[0mself\u001b[0m\u001b[0;34m,\u001b[0m \u001b[0mother\u001b[0m\u001b[0;34m)\u001b[0m\u001b[0;34m\u001b[0m\u001b[0;34m\u001b[0m\u001b[0m\n\u001b[1;32m    117\u001b[0m         \u001b[0;32mexcept\u001b[0m \u001b[0mInvalidComparison\u001b[0m\u001b[0;34m:\u001b[0m\u001b[0;34m\u001b[0m\u001b[0;34m\u001b[0m\u001b[0m\n\u001b[0;32m--> 118\u001b[0;31m             \u001b[0;32mreturn\u001b[0m \u001b[0minvalid_comparison\u001b[0m\u001b[0;34m(\u001b[0m\u001b[0mself\u001b[0m\u001b[0;34m,\u001b[0m \u001b[0mother\u001b[0m\u001b[0;34m,\u001b[0m \u001b[0mop\u001b[0m\u001b[0;34m)\u001b[0m\u001b[0;34m\u001b[0m\u001b[0;34m\u001b[0m\u001b[0m\n\u001b[0m\u001b[1;32m    119\u001b[0m \u001b[0;34m\u001b[0m\u001b[0m\n\u001b[1;32m    120\u001b[0m         \u001b[0mdtype\u001b[0m \u001b[0;34m=\u001b[0m \u001b[0mgetattr\u001b[0m\u001b[0;34m(\u001b[0m\u001b[0mother\u001b[0m\u001b[0;34m,\u001b[0m \u001b[0;34m\"dtype\"\u001b[0m\u001b[0;34m,\u001b[0m \u001b[0;32mNone\u001b[0m\u001b[0;34m)\u001b[0m\u001b[0;34m\u001b[0m\u001b[0;34m\u001b[0m\u001b[0m\n",
      "\u001b[0;32m/opt/anaconda3/envs/NNs/lib/python3.8/site-packages/pandas/core/ops/invalid.py\u001b[0m in \u001b[0;36minvalid_comparison\u001b[0;34m(left, right, op)\u001b[0m\n\u001b[1;32m     32\u001b[0m     \u001b[0;32melse\u001b[0m\u001b[0;34m:\u001b[0m\u001b[0;34m\u001b[0m\u001b[0;34m\u001b[0m\u001b[0m\n\u001b[1;32m     33\u001b[0m         \u001b[0mtyp\u001b[0m \u001b[0;34m=\u001b[0m \u001b[0mtype\u001b[0m\u001b[0;34m(\u001b[0m\u001b[0mright\u001b[0m\u001b[0;34m)\u001b[0m\u001b[0;34m.\u001b[0m\u001b[0m__name__\u001b[0m\u001b[0;34m\u001b[0m\u001b[0;34m\u001b[0m\u001b[0m\n\u001b[0;32m---> 34\u001b[0;31m         \u001b[0;32mraise\u001b[0m \u001b[0mTypeError\u001b[0m\u001b[0;34m(\u001b[0m\u001b[0;34mf\"Invalid comparison between dtype={left.dtype} and {typ}\"\u001b[0m\u001b[0;34m)\u001b[0m\u001b[0;34m\u001b[0m\u001b[0;34m\u001b[0m\u001b[0m\n\u001b[0m\u001b[1;32m     35\u001b[0m     \u001b[0;32mreturn\u001b[0m \u001b[0mres_values\u001b[0m\u001b[0;34m\u001b[0m\u001b[0;34m\u001b[0m\u001b[0m\n\u001b[1;32m     36\u001b[0m \u001b[0;34m\u001b[0m\u001b[0m\n",
      "\u001b[0;31mTypeError\u001b[0m: Invalid comparison between dtype=datetime64[ns] and int"
     ]
    }
   ],
   "source": [
    "Train = data[data.Year < 1980]\n",
    "Valid = data[data.Year > 1981]"
   ]
  },
  {
   "cell_type": "code",
   "execution_count": null,
   "id": "8686d76e",
   "metadata": {},
   "outputs": [],
   "source": [
    " v"
   ]
  }
 ],
 "metadata": {
  "kernelspec": {
   "display_name": "NNse",
   "language": "python",
   "name": "u4-s1-nns"
  },
  "language_info": {
   "codemirror_mode": {
    "name": "ipython",
    "version": 3
   },
   "file_extension": ".py",
   "mimetype": "text/x-python",
   "name": "python",
   "nbconvert_exporter": "python",
   "pygments_lexer": "ipython3",
   "version": "3.8.5"
  }
 },
 "nbformat": 4,
 "nbformat_minor": 5
}
