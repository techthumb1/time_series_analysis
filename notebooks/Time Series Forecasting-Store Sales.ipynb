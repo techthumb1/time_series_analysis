{
 "cells": [
  {
   "cell_type": "markdown",
   "metadata": {},
   "source": [
    "\n",
    "# Time Series Forecasting - Store Sales\n",
    "\n",
    "This is the second part of the project, in the first we performed a deep dive into an anlaysis of sales and transactions. \n",
    "\n",
    "For our next task, we will use the insights gained from our analysis to determine how we will apply a predictive model to the data.\n",
    "\n",
    "Time series provides many optional methods relative to forecasting, in addition to methods such as exponential smoothing, the ARIMA method could provide greater levels of accuracy; however, the observations will not exceed an 18-month period. \n",
    "\n",
    "- The interval of years we will examine are from 2013 - 2017\n",
    "- Prediction range will be for 3, 6, and 12 months into 2018"
   ]
  },
  {
   "cell_type": "code",
   "execution_count": 146,
   "metadata": {},
   "outputs": [],
   "source": [
    "# Import libraries\n",
    "import pandas as pd\n",
    "import numpy as np\n",
    "import matplotlib.pyplot as plt\n",
    "import seaborn as sns\n",
    "\n",
    "# Time series\n",
    "#import statsmodel...\n"
   ]
  },
  {
   "cell_type": "code",
   "execution_count": 147,
   "metadata": {},
   "outputs": [],
   "source": [
    "# Remove before finalize\n",
    "train = pd.read_csv('/Users/jasonrobinson/Downloads/store_sales_clean/train_data_cleaned.csv', parse_dates=True, index_col=\"date\")\n",
    "test = pd.read_csv('/Users/jasonrobinson/Downloads/store_sales_clean/test_data_cleaned.csv', parse_dates=True, index_col=\"date\")"
   ]
  },
  {
   "cell_type": "code",
   "execution_count": null,
   "metadata": {},
   "outputs": [],
   "source": [
    "train = pd.read_csv('../input/store_sales_clean/train_data_cleaned.csv', parse_dates=True, index_col=\"date\")\n",
    "test = pd.read_csv(' ../input/store_sales_clean/test_data_cleaned.csv', parse_dates=True, index_col=\"date\")"
   ]
  },
  {
   "cell_type": "code",
   "execution_count": 148,
   "metadata": {},
   "outputs": [
    {
     "data": {
      "text/html": [
       "<div>\n",
       "<style scoped>\n",
       "    .dataframe tbody tr th:only-of-type {\n",
       "        vertical-align: middle;\n",
       "    }\n",
       "\n",
       "    .dataframe tbody tr th {\n",
       "        vertical-align: top;\n",
       "    }\n",
       "\n",
       "    .dataframe thead th {\n",
       "        text-align: right;\n",
       "    }\n",
       "</style>\n",
       "<table border=\"1\" class=\"dataframe\">\n",
       "  <thead>\n",
       "    <tr style=\"text-align: right;\">\n",
       "      <th></th>\n",
       "      <th>store_nbr</th>\n",
       "      <th>family</th>\n",
       "      <th>sales</th>\n",
       "      <th>onpromotion</th>\n",
       "      <th>city</th>\n",
       "      <th>type_of_store</th>\n",
       "      <th>cluster</th>\n",
       "      <th>dcoilwtico</th>\n",
       "      <th>transactions</th>\n",
       "      <th>n_holidays</th>\n",
       "    </tr>\n",
       "    <tr>\n",
       "      <th>date</th>\n",
       "      <th></th>\n",
       "      <th></th>\n",
       "      <th></th>\n",
       "      <th></th>\n",
       "      <th></th>\n",
       "      <th></th>\n",
       "      <th></th>\n",
       "      <th></th>\n",
       "      <th></th>\n",
       "      <th></th>\n",
       "    </tr>\n",
       "  </thead>\n",
       "  <tbody>\n",
       "    <tr>\n",
       "      <th>2013-01-01</th>\n",
       "      <td>1</td>\n",
       "      <td>Others</td>\n",
       "      <td>0.0</td>\n",
       "      <td>0</td>\n",
       "      <td>Quito</td>\n",
       "      <td>D</td>\n",
       "      <td>13</td>\n",
       "      <td>93.14</td>\n",
       "      <td>NaN</td>\n",
       "      <td>1.0</td>\n",
       "    </tr>\n",
       "    <tr>\n",
       "      <th>2013-01-01</th>\n",
       "      <td>1</td>\n",
       "      <td>Others</td>\n",
       "      <td>0.0</td>\n",
       "      <td>0</td>\n",
       "      <td>Quito</td>\n",
       "      <td>D</td>\n",
       "      <td>13</td>\n",
       "      <td>93.14</td>\n",
       "      <td>NaN</td>\n",
       "      <td>1.0</td>\n",
       "    </tr>\n",
       "  </tbody>\n",
       "</table>\n",
       "</div>"
      ],
      "text/plain": [
       "            store_nbr  family  sales  onpromotion   city type_of_store  \\\n",
       "date                                                                     \n",
       "2013-01-01          1  Others    0.0            0  Quito             D   \n",
       "2013-01-01          1  Others    0.0            0  Quito             D   \n",
       "\n",
       "            cluster  dcoilwtico  transactions  n_holidays  \n",
       "date                                                       \n",
       "2013-01-01       13       93.14           NaN         1.0  \n",
       "2013-01-01       13       93.14           NaN         1.0  "
      ]
     },
     "execution_count": 148,
     "metadata": {},
     "output_type": "execute_result"
    }
   ],
   "source": [
    "train.head(2)"
   ]
  },
  {
   "cell_type": "code",
   "execution_count": 149,
   "metadata": {},
   "outputs": [
    {
     "name": "stdout",
     "output_type": "stream",
     "text": [
      "<class 'pandas.core.frame.DataFrame'>\n",
      "DatetimeIndex: 3000888 entries, 2013-01-01 to 2017-08-15\n",
      "Data columns (total 10 columns):\n",
      " #   Column         Dtype  \n",
      "---  ------         -----  \n",
      " 0   store_nbr      int64  \n",
      " 1   family         object \n",
      " 2   sales          float64\n",
      " 3   onpromotion    int64  \n",
      " 4   city           object \n",
      " 5   type_of_store  object \n",
      " 6   cluster        int64  \n",
      " 7   dcoilwtico     float64\n",
      " 8   transactions   float64\n",
      " 9   n_holidays     float64\n",
      "dtypes: float64(4), int64(3), object(3)\n",
      "memory usage: 251.8+ MB\n"
     ]
    }
   ],
   "source": [
    "train.info()"
   ]
  },
  {
   "cell_type": "code",
   "execution_count": 150,
   "metadata": {},
   "outputs": [
    {
     "data": {
      "text/plain": [
       "DatetimeIndex(['2013-01-01', '2013-01-01', '2013-01-01', '2013-01-01',\n",
       "               '2013-01-01', '2013-01-01', '2013-01-01', '2013-01-01',\n",
       "               '2013-01-01', '2013-01-01',\n",
       "               ...\n",
       "               '2017-08-15', '2017-08-15', '2017-08-15', '2017-08-15',\n",
       "               '2017-08-15', '2017-08-15', '2017-08-15', '2017-08-15',\n",
       "               '2017-08-15', '2017-08-15'],\n",
       "              dtype='datetime64[ns]', name='date', length=3000888, freq=None)"
      ]
     },
     "execution_count": 150,
     "metadata": {},
     "output_type": "execute_result"
    }
   ],
   "source": [
    "train.index"
   ]
  },
  {
   "cell_type": "code",
   "execution_count": 153,
   "metadata": {},
   "outputs": [],
   "source": [
    "#train['store_nbr'].unique()"
   ]
  },
  {
   "cell_type": "code",
   "execution_count": 154,
   "metadata": {},
   "outputs": [
    {
     "data": {
      "text/html": [
       "<div>\n",
       "<style scoped>\n",
       "    .dataframe tbody tr th:only-of-type {\n",
       "        vertical-align: middle;\n",
       "    }\n",
       "\n",
       "    .dataframe tbody tr th {\n",
       "        vertical-align: top;\n",
       "    }\n",
       "\n",
       "    .dataframe thead th {\n",
       "        text-align: right;\n",
       "    }\n",
       "</style>\n",
       "<table border=\"1\" class=\"dataframe\">\n",
       "  <thead>\n",
       "    <tr style=\"text-align: right;\">\n",
       "      <th></th>\n",
       "      <th>store_nbr</th>\n",
       "      <th>sales</th>\n",
       "      <th>onpromotion</th>\n",
       "      <th>cluster</th>\n",
       "      <th>dcoilwtico</th>\n",
       "      <th>transactions</th>\n",
       "      <th>n_holidays</th>\n",
       "    </tr>\n",
       "  </thead>\n",
       "  <tbody>\n",
       "    <tr>\n",
       "      <th>count</th>\n",
       "      <td>3.000888e+06</td>\n",
       "      <td>3.000888e+06</td>\n",
       "      <td>3.000888e+06</td>\n",
       "      <td>3.000888e+06</td>\n",
       "      <td>2.143746e+06</td>\n",
       "      <td>2.755104e+06</td>\n",
       "      <td>3.000888e+06</td>\n",
       "    </tr>\n",
       "    <tr>\n",
       "      <th>mean</th>\n",
       "      <td>2.750000e+01</td>\n",
       "      <td>3.577757e+02</td>\n",
       "      <td>2.602770e+00</td>\n",
       "      <td>8.481481e+00</td>\n",
       "      <td>6.788783e+01</td>\n",
       "      <td>1.694602e+03</td>\n",
       "      <td>1.662708e-01</td>\n",
       "    </tr>\n",
       "    <tr>\n",
       "      <th>std</th>\n",
       "      <td>1.558579e+01</td>\n",
       "      <td>1.101998e+03</td>\n",
       "      <td>1.221888e+01</td>\n",
       "      <td>4.649735e+00</td>\n",
       "      <td>2.566954e+01</td>\n",
       "      <td>9.632810e+02</td>\n",
       "      <td>4.202733e-01</td>\n",
       "    </tr>\n",
       "    <tr>\n",
       "      <th>min</th>\n",
       "      <td>1.000000e+00</td>\n",
       "      <td>0.000000e+00</td>\n",
       "      <td>0.000000e+00</td>\n",
       "      <td>1.000000e+00</td>\n",
       "      <td>2.619000e+01</td>\n",
       "      <td>5.000000e+00</td>\n",
       "      <td>0.000000e+00</td>\n",
       "    </tr>\n",
       "    <tr>\n",
       "      <th>25%</th>\n",
       "      <td>1.400000e+01</td>\n",
       "      <td>0.000000e+00</td>\n",
       "      <td>0.000000e+00</td>\n",
       "      <td>4.000000e+00</td>\n",
       "      <td>4.640000e+01</td>\n",
       "      <td>1.046000e+03</td>\n",
       "      <td>0.000000e+00</td>\n",
       "    </tr>\n",
       "    <tr>\n",
       "      <th>50%</th>\n",
       "      <td>2.750000e+01</td>\n",
       "      <td>1.100000e+01</td>\n",
       "      <td>0.000000e+00</td>\n",
       "      <td>8.500000e+00</td>\n",
       "      <td>5.330000e+01</td>\n",
       "      <td>1.393000e+03</td>\n",
       "      <td>0.000000e+00</td>\n",
       "    </tr>\n",
       "    <tr>\n",
       "      <th>75%</th>\n",
       "      <td>4.100000e+01</td>\n",
       "      <td>1.958473e+02</td>\n",
       "      <td>0.000000e+00</td>\n",
       "      <td>1.300000e+01</td>\n",
       "      <td>9.578000e+01</td>\n",
       "      <td>2.079000e+03</td>\n",
       "      <td>0.000000e+00</td>\n",
       "    </tr>\n",
       "    <tr>\n",
       "      <th>max</th>\n",
       "      <td>5.400000e+01</td>\n",
       "      <td>1.247170e+05</td>\n",
       "      <td>7.410000e+02</td>\n",
       "      <td>1.700000e+01</td>\n",
       "      <td>1.106200e+02</td>\n",
       "      <td>8.359000e+03</td>\n",
       "      <td>3.000000e+00</td>\n",
       "    </tr>\n",
       "  </tbody>\n",
       "</table>\n",
       "</div>"
      ],
      "text/plain": [
       "          store_nbr         sales   onpromotion       cluster    dcoilwtico  \\\n",
       "count  3.000888e+06  3.000888e+06  3.000888e+06  3.000888e+06  2.143746e+06   \n",
       "mean   2.750000e+01  3.577757e+02  2.602770e+00  8.481481e+00  6.788783e+01   \n",
       "std    1.558579e+01  1.101998e+03  1.221888e+01  4.649735e+00  2.566954e+01   \n",
       "min    1.000000e+00  0.000000e+00  0.000000e+00  1.000000e+00  2.619000e+01   \n",
       "25%    1.400000e+01  0.000000e+00  0.000000e+00  4.000000e+00  4.640000e+01   \n",
       "50%    2.750000e+01  1.100000e+01  0.000000e+00  8.500000e+00  5.330000e+01   \n",
       "75%    4.100000e+01  1.958473e+02  0.000000e+00  1.300000e+01  9.578000e+01   \n",
       "max    5.400000e+01  1.247170e+05  7.410000e+02  1.700000e+01  1.106200e+02   \n",
       "\n",
       "       transactions    n_holidays  \n",
       "count  2.755104e+06  3.000888e+06  \n",
       "mean   1.694602e+03  1.662708e-01  \n",
       "std    9.632810e+02  4.202733e-01  \n",
       "min    5.000000e+00  0.000000e+00  \n",
       "25%    1.046000e+03  0.000000e+00  \n",
       "50%    1.393000e+03  0.000000e+00  \n",
       "75%    2.079000e+03  0.000000e+00  \n",
       "max    8.359000e+03  3.000000e+00  "
      ]
     },
     "execution_count": 154,
     "metadata": {},
     "output_type": "execute_result"
    }
   ],
   "source": [
    "train.describe()"
   ]
  },
  {
   "cell_type": "code",
   "execution_count": 155,
   "metadata": {},
   "outputs": [],
   "source": [
    "# ni stands for non-indexed\n",
    "train_ni = train.copy"
   ]
  },
  {
   "cell_type": "code",
   "execution_count": 156,
   "metadata": {},
   "outputs": [],
   "source": [
    "# 18-months\n",
    "month_18 = train.loc['2016-02-15':'2017-08-15']\n",
    "#print(\"All Sales for 18-month period\", month_18)"
   ]
  },
  {
   "cell_type": "code",
   "execution_count": 158,
   "metadata": {},
   "outputs": [
    {
     "data": {
      "text/plain": [
       "date\n",
       "2013-01-01    0.0\n",
       "2013-01-01    0.0\n",
       "2013-01-01    0.0\n",
       "2013-01-01    0.0\n",
       "2013-01-01    0.0\n",
       "Name: sales, dtype: float64"
      ]
     },
     "execution_count": 158,
     "metadata": {},
     "output_type": "execute_result"
    }
   ],
   "source": [
    "targ_sales = train['sales']"
   ]
  },
  {
   "cell_type": "code",
   "execution_count": 178,
   "metadata": {},
   "outputs": [
    {
     "data": {
      "text/html": [
       "<div>\n",
       "<style scoped>\n",
       "    .dataframe tbody tr th:only-of-type {\n",
       "        vertical-align: middle;\n",
       "    }\n",
       "\n",
       "    .dataframe tbody tr th {\n",
       "        vertical-align: top;\n",
       "    }\n",
       "\n",
       "    .dataframe thead th {\n",
       "        text-align: right;\n",
       "    }\n",
       "</style>\n",
       "<table border=\"1\" class=\"dataframe\">\n",
       "  <thead>\n",
       "    <tr style=\"text-align: right;\">\n",
       "      <th></th>\n",
       "      <th>sales</th>\n",
       "      <th>transactions</th>\n",
       "      <th>n_holidays</th>\n",
       "      <th>dcoilwtico</th>\n",
       "    </tr>\n",
       "  </thead>\n",
       "  <tbody>\n",
       "    <tr>\n",
       "      <th>sales</th>\n",
       "      <td>1.000000</td>\n",
       "      <td>0.214815</td>\n",
       "      <td>0.013455</td>\n",
       "      <td>-0.078885</td>\n",
       "    </tr>\n",
       "    <tr>\n",
       "      <th>transactions</th>\n",
       "      <td>0.214815</td>\n",
       "      <td>1.000000</td>\n",
       "      <td>0.043061</td>\n",
       "      <td>0.021867</td>\n",
       "    </tr>\n",
       "    <tr>\n",
       "      <th>n_holidays</th>\n",
       "      <td>0.013455</td>\n",
       "      <td>0.043061</td>\n",
       "      <td>1.000000</td>\n",
       "      <td>-0.051823</td>\n",
       "    </tr>\n",
       "    <tr>\n",
       "      <th>dcoilwtico</th>\n",
       "      <td>-0.078885</td>\n",
       "      <td>0.021867</td>\n",
       "      <td>-0.051823</td>\n",
       "      <td>1.000000</td>\n",
       "    </tr>\n",
       "  </tbody>\n",
       "</table>\n",
       "</div>"
      ],
      "text/plain": [
       "                 sales  transactions  n_holidays  dcoilwtico\n",
       "sales         1.000000      0.214815    0.013455   -0.078885\n",
       "transactions  0.214815      1.000000    0.043061    0.021867\n",
       "n_holidays    0.013455      0.043061    1.000000   -0.051823\n",
       "dcoilwtico   -0.078885      0.021867   -0.051823    1.000000"
      ]
     },
     "execution_count": 178,
     "metadata": {},
     "output_type": "execute_result"
    }
   ],
   "source": [
    "train_corr = train[['sales', 'transactions', 'n_holidays', 'dcoilwtico']].corr(method='pearson')\n",
    "train_corr"
   ]
  },
  {
   "cell_type": "code",
   "execution_count": 179,
   "metadata": {},
   "outputs": [],
   "source": [
    "#train.groupby('n_holidays').agg(median=('sales', 'median'), mean=('sales', 'mean'), max=('sales', 'max'), min=('sales', 'min')).reset_index()"
   ]
  },
  {
   "cell_type": "markdown",
   "metadata": {},
   "source": [
    "\n",
    "## Model development\n",
    "\n",
    "Picking up where we left off beginning our model for autocorrelation, we will apply deep learning techniques to deliver a higher level of accuracy in prediction."
   ]
  },
  {
   "cell_type": "code",
   "execution_count": 180,
   "metadata": {},
   "outputs": [],
   "source": [
    "train_na = train.copy()\n",
    "train_na = train_na.dropna()"
   ]
  },
  {
   "cell_type": "code",
   "execution_count": 181,
   "metadata": {},
   "outputs": [
    {
     "data": {
      "image/png": "[encoded data removed]",
      "text/plain": [
       "<Figure size 432x288 with 1 Axes>"
      ]
     },
     "metadata": {
      "needs_background": "light"
     },
     "output_type": "display_data"
    }
   ],
   "source": [
    "pd.plotting.autocorrelation_plot(train_na['2015':'2016']['transactions'].resample('1m').mean());"
   ]
  },
  {
   "cell_type": "code",
   "execution_count": 182,
   "metadata": {},
   "outputs": [
    {
     "data": {
      "image/png": "[encoded data removed]",
      "text/plain": [
       "<Figure size 432x288 with 1 Axes>"
      ]
     },
     "metadata": {
      "needs_background": "light"
     },
     "output_type": "display_data"
    }
   ],
   "source": [
    "pd.plotting.autocorrelation_plot(train_na['2015':'2016']['sales'].resample('1m').mean());"
   ]
  }
 ],
 "metadata": {
  "kernelspec": {
   "display_name": "Python 3 (ipykernel)",
   "language": "python",
   "name": "python3"
  },
  "language_info": {
   "codemirror_mode": {
    "name": "ipython",
    "version": 3
   },
   "file_extension": ".py",
   "mimetype": "text/x-python",
   "name": "python",
   "nbconvert_exporter": "python",
   "pygments_lexer": "ipython3",
   "version": "3.9.12"
  }
 },
 "nbformat": 4,
 "nbformat_minor": 4
}
