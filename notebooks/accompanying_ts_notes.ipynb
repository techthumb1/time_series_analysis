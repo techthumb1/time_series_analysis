{
 "cells": [
  {
   "cell_type": "markdown",
   "id": "89bbc2be",
   "metadata": {},
   "source": [
    "\n",
    "# TimeSeriesNotes\n",
    "\n",
    "A place to begin organization of all time series...hopefully. There is much information that exists for time series analysis, I believe I have gathered much or enough information to deliver a project to the public without fear of critcism although I am very new to the learning."
   ]
  },
  {
   "cell_type": "markdown",
   "id": "f5e8504e",
   "metadata": {},
   "source": [
    "**[Links to Code and Discussion](https://www.kaggle.com/competitions/store-sales-time-series-forecasting/discussion)**\n",
    "\n",
    "- [Best of Kaggle Notebooks](https://www.kaggle.com/competitions/store-sales-time-series-forecasting/discussion/276912)"
   ]
  },
  {
   "cell_type": "code",
   "execution_count": null,
   "id": "5032072c",
   "metadata": {},
   "outputs": [],
   "source": [
    "# Import libraries\n",
    "import pandas as pd\n",
    "import numpy as np\n",
    "import matplotlib.pyplot as plt\n",
    "import seaborn as sns"
   ]
  },
  {
   "cell_type": "code",
   "execution_count": 3,
   "id": "5582a6d9",
   "metadata": {},
   "outputs": [],
   "source": [
    "# Bring in dataset for testing\n",
    "train = pd.read_csv('/Users/jasonrobinson/Downloads/store_sales_clean/train_data_cleaned.csv', parse_dates=True, index_col=\"date\")\n",
    "test = pd.read_csv('/Users/jasonrobinson/Downloads/store_sales_clean/test_data_cleaned.csv', parse_dates=True, index_col=\"date\")"
   ]
  },
  {
   "cell_type": "code",
   "execution_count": 2,
   "id": "f71c3c64",
   "metadata": {},
   "outputs": [],
   "source": [
    "# Change variables and variable names\n",
    "#For the sake of demonstration, we will train our model on monthly aggregated Sales data of a particular store# Select sales for Store 1 Only.\n",
    "store1_agg = train.loc[train['store_nbr']==1].groupby(['date'])['sales'].sum()\n",
    "store1_agg.index = pd.to_datetime(store1_agg.index)\n",
    "\n",
    "#Aggregate the Data on a Monthly basis.\n",
    "store1_agg_monthly = store1_agg.resample('M').sum()"
   ]
  },
  {
   "cell_type": "code",
   "execution_count": null,
   "id": "c06c947e",
   "metadata": {},
   "outputs": [],
   "source": []
  }
 ],
 "metadata": {
  "kernelspec": {
   "display_name": "NNse",
   "language": "python",
   "name": "u4-s1-nns"
  },
  "language_info": {
   "codemirror_mode": {
    "name": "ipython",
    "version": 3
   },
   "file_extension": ".py",
   "mimetype": "text/x-python",
   "name": "python",
   "nbconvert_exporter": "python",
   "pygments_lexer": "ipython3",
   "version": "3.8.5"
  }
 },
 "nbformat": 4,
 "nbformat_minor": 5
}
