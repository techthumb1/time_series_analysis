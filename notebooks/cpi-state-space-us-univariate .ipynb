{
 "cells": [
  {
   "cell_type": "code",
   "execution_count": null,
   "id": "bfdc0c48",
   "metadata": {},
   "outputs": [],
   "source": [
    "#pip install pmdarima"
   ]
  },
  {
   "cell_type": "markdown",
   "id": "de80a258",
   "metadata": {
    "tags": []
   },
   "source": [
    "# CPI State Space Model Using ARIMA Method\n",
    "\n",
    "[10 year US Government Bond Yields (long-term interest rate)](https://datahub.io/core/bond-yields-us-10y#readme)\n",
    "***\n",
    "\n",
    "### Steps for ARIMA implementation\n",
    "\n",
    "- **Load the data**: The first step for model building is of course to load the dataset\n",
    "- **Preprocessing**: Depending on the dataset, the steps of preprocessing will be defined. This will include creating timestamps, converting the dtype of date/time column, making the series univariate, etc.\n",
    "- **Make series stationary**: In order to satisfy the assumption, it is necessary to make the series stationary. This would include checking the stationarity of the series and performing required transformations\n",
    "- **Determine d value**: For making the series stationary, the number of times the difference operation was performed will be taken as the d value\n",
    "- **Create ACF and PACF plots**: This is the most important step in ARIMA implementation. ACF PACF plots are used to determine the input parameters for our ARIMA model\n",
    "- **Determine the p and q values**: Read the values of p and q from the plots in the previous step\n",
    "- **Fit ARIMA model**: Using the processed data and parameter values we calculated from the previous steps, fit the ARIMA model\n",
    "- **Predict values on validation set**: Predict the future values\n",
    "- **Calculate RMSE**: To check the performance of the model, check the RMSE value using the predictions and actual values on the validation set\n",
    "***\n",
    "\n",
    "### Load the Data\n",
    "\n",
    "We will include Statsmodels into our workflow which we will use specifically for its powerful TSA models.The functions of use will are:\n",
    "- ARIMA\n",
    "- SARIMAX\n",
    "- SEASONAL DECOMPOSE\n",
    "- AUTO CORRELATION AND PARTIAL CORRELATION\n",
    "- ACF AND PACF PLOT\n",
    "- ADF FULLER - TEST\n",
    "- KPSS\n",
    "\n",
    "**Given the variety of tools, we can provide more accurate and useful predictions.**\n"
   ]
  },
  {
   "cell_type": "code",
   "execution_count": 1,
   "id": "1166c4c2",
   "metadata": {},
   "outputs": [
    {
     "name": "stdout",
     "output_type": "stream",
     "text": [
      "Matplotlib: 3.3.2\n",
      "Pandas: 1.1.3\n",
      "Numpy: 1.23.0\n",
      "StatsModel: 0.12.2\n",
      "Scipy: 1.5.2\n",
      "Seaborn: 0.11.2\n"
     ]
    }
   ],
   "source": [
    "# Basic libraries\n",
    "import pandas as pd\n",
    "import numpy as np\n",
    "import seaborn as sns\n",
    "\n",
    "# Statsmodel for statistics\n",
    "import statsmodels.api as sm\n",
    "import statsmodels\n",
    "from statsmodels.tsa.statespace.sarimax import SARIMAX\n",
    "from statsmodels.tsa.seasonal import seasonal_decompose\n",
    "from statsmodels.tsa.stattools import acf, pacf\n",
    "from statsmodels.graphics.tsaplots import plot_acf, plot_pacf\n",
    "from statsmodels.tsa.stattools import adfuller\n",
    "from pmdarima.arima import ADFTest\n",
    "from statsmodels.tsa.stattools import kpss\n",
    "\n",
    "# Scientific computation\n",
    "import scipy\n",
    "from scipy.stats import pearsonr\n",
    "\n",
    "from sklearn.metrics import mean_squared_error\n",
    "from statsmodels.tools.eval_measures import rmse\n",
    "\n",
    "# Matplotlib\n",
    "import matplotlib\n",
    "import matplotlib.pyplot as plt\n",
    "from matplotlib import rcParams\n",
    "from cycler import cycler\n",
    "#\n",
    "#matplotlib.rcParams['figure.figsize'] = [8, 3]\n",
    "#rcParams['figure.figsize'] = 18, 5\n",
    "#rcParams['axes.spines.top'] = True\n",
    "#rcParams['axes.spines.right'] = True\n",
    "#rcParams['axes.prop_cycle'] = cycler(color=['#365977'])\n",
    "#rcParams['lines.linewidth'] = 2.5\n",
    "\n",
    "%matplotlib inline\n",
    "\n",
    "# Ignore warnings\n",
    "import warnings\n",
    "warnings.filterwarnings(\"ignore\")\n",
    "\n",
    "print('Matplotlib:',matplotlib.__version__)\n",
    "print('Pandas:',pd.__version__)\n",
    "print('Numpy:',np.__version__)\n",
    "print('StatsModel:',statsmodels.__version__)\n",
    "print('Scipy:',scipy.__version__)\n",
    "print('Seaborn:', sns.__version__)"
   ]
  },
  {
   "cell_type": "code",
   "execution_count": null,
   "id": "742654d7",
   "metadata": {},
   "outputs": [],
   "source": [
    "# read in cpi data\n",
    "#month = pd.read_csv('/Users/jasonrobinson/Documents/Projects/bls_project/data/cpi_avg_price_data.csv', parse_dates=['Year'], index_col='Year')"
   ]
  },
  {
   "cell_type": "code",
   "execution_count": 8,
   "id": "41858b4c",
   "metadata": {},
   "outputs": [
    {
     "name": "stdout",
     "output_type": "stream",
     "text": [
      "(75, 13)\n"
     ]
    },
    {
     "data": {
      "text/html": [
       "<div>\n",
       "<style scoped>\n",
       "    .dataframe tbody tr th:only-of-type {\n",
       "        vertical-align: middle;\n",
       "    }\n",
       "\n",
       "    .dataframe tbody tr th {\n",
       "        vertical-align: top;\n",
       "    }\n",
       "\n",
       "    .dataframe thead th {\n",
       "        text-align: right;\n",
       "    }\n",
       "</style>\n",
       "<table border=\"1\" class=\"dataframe\">\n",
       "  <thead>\n",
       "    <tr style=\"text-align: right;\">\n",
       "      <th></th>\n",
       "      <th>Jan</th>\n",
       "      <th>Feb</th>\n",
       "      <th>Mar</th>\n",
       "      <th>Apr</th>\n",
       "      <th>May</th>\n",
       "      <th>Jun</th>\n",
       "      <th>Jul</th>\n",
       "      <th>Aug</th>\n",
       "      <th>Sep</th>\n",
       "      <th>Oct</th>\n",
       "      <th>Nov</th>\n",
       "      <th>Dec</th>\n",
       "      <th>CPI</th>\n",
       "    </tr>\n",
       "    <tr>\n",
       "      <th>Year</th>\n",
       "      <th></th>\n",
       "      <th></th>\n",
       "      <th></th>\n",
       "      <th></th>\n",
       "      <th></th>\n",
       "      <th></th>\n",
       "      <th></th>\n",
       "      <th></th>\n",
       "      <th></th>\n",
       "      <th></th>\n",
       "      <th></th>\n",
       "      <th></th>\n",
       "      <th></th>\n",
       "    </tr>\n",
       "  </thead>\n",
       "  <tbody>\n",
       "    <tr>\n",
       "      <th>1948-01-01</th>\n",
       "      <td>23.7</td>\n",
       "      <td>23.5</td>\n",
       "      <td>23.4</td>\n",
       "      <td>23.8</td>\n",
       "      <td>23.9</td>\n",
       "      <td>24.1</td>\n",
       "      <td>24.4</td>\n",
       "      <td>24.5</td>\n",
       "      <td>24.5</td>\n",
       "      <td>24.4</td>\n",
       "      <td>24.2</td>\n",
       "      <td>24.1</td>\n",
       "      <td>288.5</td>\n",
       "    </tr>\n",
       "    <tr>\n",
       "      <th>1949-01-01</th>\n",
       "      <td>24.0</td>\n",
       "      <td>23.8</td>\n",
       "      <td>23.8</td>\n",
       "      <td>23.9</td>\n",
       "      <td>23.8</td>\n",
       "      <td>23.9</td>\n",
       "      <td>23.7</td>\n",
       "      <td>23.8</td>\n",
       "      <td>23.9</td>\n",
       "      <td>23.7</td>\n",
       "      <td>23.8</td>\n",
       "      <td>23.6</td>\n",
       "      <td>285.7</td>\n",
       "    </tr>\n",
       "    <tr>\n",
       "      <th>1950-01-01</th>\n",
       "      <td>23.5</td>\n",
       "      <td>23.5</td>\n",
       "      <td>23.6</td>\n",
       "      <td>23.6</td>\n",
       "      <td>23.7</td>\n",
       "      <td>23.8</td>\n",
       "      <td>24.1</td>\n",
       "      <td>24.3</td>\n",
       "      <td>24.4</td>\n",
       "      <td>24.6</td>\n",
       "      <td>24.7</td>\n",
       "      <td>25.0</td>\n",
       "      <td>288.8</td>\n",
       "    </tr>\n",
       "    <tr>\n",
       "      <th>1951-01-01</th>\n",
       "      <td>25.4</td>\n",
       "      <td>25.7</td>\n",
       "      <td>25.8</td>\n",
       "      <td>25.8</td>\n",
       "      <td>25.9</td>\n",
       "      <td>25.9</td>\n",
       "      <td>25.9</td>\n",
       "      <td>25.9</td>\n",
       "      <td>26.1</td>\n",
       "      <td>26.2</td>\n",
       "      <td>26.4</td>\n",
       "      <td>26.5</td>\n",
       "      <td>311.5</td>\n",
       "    </tr>\n",
       "    <tr>\n",
       "      <th>1952-01-01</th>\n",
       "      <td>26.5</td>\n",
       "      <td>26.3</td>\n",
       "      <td>26.3</td>\n",
       "      <td>26.4</td>\n",
       "      <td>26.4</td>\n",
       "      <td>26.5</td>\n",
       "      <td>26.7</td>\n",
       "      <td>26.7</td>\n",
       "      <td>26.7</td>\n",
       "      <td>26.7</td>\n",
       "      <td>26.7</td>\n",
       "      <td>26.7</td>\n",
       "      <td>318.6</td>\n",
       "    </tr>\n",
       "  </tbody>\n",
       "</table>\n",
       "</div>"
      ],
      "text/plain": [
       "             Jan   Feb   Mar   Apr   May   Jun   Jul   Aug   Sep   Oct   Nov  \\\n",
       "Year                                                                           \n",
       "1948-01-01  23.7  23.5  23.4  23.8  23.9  24.1  24.4  24.5  24.5  24.4  24.2   \n",
       "1949-01-01  24.0  23.8  23.8  23.9  23.8  23.9  23.7  23.8  23.9  23.7  23.8   \n",
       "1950-01-01  23.5  23.5  23.6  23.6  23.7  23.8  24.1  24.3  24.4  24.6  24.7   \n",
       "1951-01-01  25.4  25.7  25.8  25.8  25.9  25.9  25.9  25.9  26.1  26.2  26.4   \n",
       "1952-01-01  26.5  26.3  26.3  26.4  26.4  26.5  26.7  26.7  26.7  26.7  26.7   \n",
       "\n",
       "             Dec    CPI  \n",
       "Year                     \n",
       "1948-01-01  24.1  288.5  \n",
       "1949-01-01  23.6  285.7  \n",
       "1950-01-01  25.0  288.8  \n",
       "1951-01-01  26.5  311.5  \n",
       "1952-01-01  26.7  318.6  "
      ]
     },
     "execution_count": 8,
     "metadata": {},
     "output_type": "execute_result"
    }
   ],
   "source": [
    "month = pd.read_csv('/Users/jasonrobinson/Documents/Projects/time_series_analysis/data/cpi_state_space.csv',parse_dates=['Year'], index_col='Year')\n",
    "print(month.shape)\n",
    "# Remove leaky data\n",
    "month = month[:-1]\n",
    "month.head()"
   ]
  },
  {
   "cell_type": "code",
   "execution_count": 9,
   "id": "91df5c5e",
   "metadata": {},
   "outputs": [],
   "source": [
    "month = month[['CPI']]"
   ]
  },
  {
   "cell_type": "code",
   "execution_count": 10,
   "id": "abc17829",
   "metadata": {},
   "outputs": [
    {
     "data": {
      "text/html": [
       "<div>\n",
       "<style scoped>\n",
       "    .dataframe tbody tr th:only-of-type {\n",
       "        vertical-align: middle;\n",
       "    }\n",
       "\n",
       "    .dataframe tbody tr th {\n",
       "        vertical-align: top;\n",
       "    }\n",
       "\n",
       "    .dataframe thead th {\n",
       "        text-align: right;\n",
       "    }\n",
       "</style>\n",
       "<table border=\"1\" class=\"dataframe\">\n",
       "  <thead>\n",
       "    <tr style=\"text-align: right;\">\n",
       "      <th></th>\n",
       "      <th>CPI</th>\n",
       "    </tr>\n",
       "    <tr>\n",
       "      <th>Year</th>\n",
       "      <th></th>\n",
       "    </tr>\n",
       "  </thead>\n",
       "  <tbody>\n",
       "    <tr>\n",
       "      <th>1948-01-01</th>\n",
       "      <td>288.5</td>\n",
       "    </tr>\n",
       "    <tr>\n",
       "      <th>1949-01-01</th>\n",
       "      <td>285.7</td>\n",
       "    </tr>\n",
       "    <tr>\n",
       "      <th>1950-01-01</th>\n",
       "      <td>288.8</td>\n",
       "    </tr>\n",
       "    <tr>\n",
       "      <th>1951-01-01</th>\n",
       "      <td>311.5</td>\n",
       "    </tr>\n",
       "    <tr>\n",
       "      <th>1952-01-01</th>\n",
       "      <td>318.6</td>\n",
       "    </tr>\n",
       "    <tr>\n",
       "      <th>...</th>\n",
       "      <td>...</td>\n",
       "    </tr>\n",
       "    <tr>\n",
       "      <th>2017-01-01</th>\n",
       "      <td>2941.4</td>\n",
       "    </tr>\n",
       "    <tr>\n",
       "      <th>2018-01-01</th>\n",
       "      <td>3013.3</td>\n",
       "    </tr>\n",
       "    <tr>\n",
       "      <th>2019-01-01</th>\n",
       "      <td>3067.9</td>\n",
       "    </tr>\n",
       "    <tr>\n",
       "      <th>2020-01-01</th>\n",
       "      <td>3105.7</td>\n",
       "    </tr>\n",
       "    <tr>\n",
       "      <th>2021-01-01</th>\n",
       "      <td>3251.6</td>\n",
       "    </tr>\n",
       "  </tbody>\n",
       "</table>\n",
       "<p>74 rows × 1 columns</p>\n",
       "</div>"
      ],
      "text/plain": [
       "               CPI\n",
       "Year              \n",
       "1948-01-01   288.5\n",
       "1949-01-01   285.7\n",
       "1950-01-01   288.8\n",
       "1951-01-01   311.5\n",
       "1952-01-01   318.6\n",
       "...            ...\n",
       "2017-01-01  2941.4\n",
       "2018-01-01  3013.3\n",
       "2019-01-01  3067.9\n",
       "2020-01-01  3105.7\n",
       "2021-01-01  3251.6\n",
       "\n",
       "[74 rows x 1 columns]"
      ]
     },
     "execution_count": 10,
     "metadata": {},
     "output_type": "execute_result"
    }
   ],
   "source": [
    "month"
   ]
  },
  {
   "cell_type": "markdown",
   "id": "a58caae7",
   "metadata": {},
   "source": [
    "### Preprocessing"
   ]
  },
  {
   "cell_type": "markdown",
   "id": "299e64c0",
   "metadata": {},
   "source": [
    "**Task**: Either use univariate or multivariate time series analysis.\n",
    "If multivariate incorporate method to sum or average annual value for specific year"
   ]
  },
  {
   "cell_type": "code",
   "execution_count": 11,
   "id": "b292c699",
   "metadata": {},
   "outputs": [],
   "source": [
    "# Sum each row for univariate analysis\n",
    "#month['CPI'] = month.sum(axis=1)\n",
    "#month['CPI'] "
   ]
  },
  {
   "cell_type": "code",
   "execution_count": 32,
   "id": "ac0dc434",
   "metadata": {},
   "outputs": [
    {
     "data": {
      "text/html": [
       "<div>\n",
       "<style scoped>\n",
       "    .dataframe tbody tr th:only-of-type {\n",
       "        vertical-align: middle;\n",
       "    }\n",
       "\n",
       "    .dataframe tbody tr th {\n",
       "        vertical-align: top;\n",
       "    }\n",
       "\n",
       "    .dataframe thead th {\n",
       "        text-align: right;\n",
       "    }\n",
       "</style>\n",
       "<table border=\"1\" class=\"dataframe\">\n",
       "  <thead>\n",
       "    <tr style=\"text-align: right;\">\n",
       "      <th></th>\n",
       "      <th>CPI</th>\n",
       "    </tr>\n",
       "  </thead>\n",
       "  <tbody>\n",
       "    <tr>\n",
       "      <th>count</th>\n",
       "      <td>74.000000</td>\n",
       "    </tr>\n",
       "    <tr>\n",
       "      <th>mean</th>\n",
       "      <td>1385.637838</td>\n",
       "    </tr>\n",
       "    <tr>\n",
       "      <th>std</th>\n",
       "      <td>971.641076</td>\n",
       "    </tr>\n",
       "    <tr>\n",
       "      <th>min</th>\n",
       "      <td>285.700000</td>\n",
       "    </tr>\n",
       "    <tr>\n",
       "      <th>25%</th>\n",
       "      <td>392.200000</td>\n",
       "    </tr>\n",
       "    <tr>\n",
       "      <th>50%</th>\n",
       "      <td>1268.700000</td>\n",
       "    </tr>\n",
       "    <tr>\n",
       "      <th>75%</th>\n",
       "      <td>2195.250000</td>\n",
       "    </tr>\n",
       "    <tr>\n",
       "      <th>max</th>\n",
       "      <td>3251.600000</td>\n",
       "    </tr>\n",
       "  </tbody>\n",
       "</table>\n",
       "</div>"
      ],
      "text/plain": [
       "               CPI\n",
       "count    74.000000\n",
       "mean   1385.637838\n",
       "std     971.641076\n",
       "min     285.700000\n",
       "25%     392.200000\n",
       "50%    1268.700000\n",
       "75%    2195.250000\n",
       "max    3251.600000"
      ]
     },
     "execution_count": 32,
     "metadata": {},
     "output_type": "execute_result"
    }
   ],
   "source": [
    "month.describe()"
   ]
  },
  {
   "cell_type": "markdown",
   "id": "aced1fe5",
   "metadata": {
    "jp-MarkdownHeadingCollapsed": true,
    "tags": []
   },
   "source": [
    "\n",
    "### Visualize our data\n",
    "\n",
    "For the entire range we see an upward and downward non-stationary trend."
   ]
  },
  {
   "cell_type": "code",
   "execution_count": 12,
   "id": "9afba650",
   "metadata": {},
   "outputs": [
    {
     "data": {
      "image/png": "[encoded data removed]",
      "text/plain": [
       "<Figure size 360x360 with 1 Axes>"
      ]
     },
     "metadata": {
      "needs_background": "light"
     },
     "output_type": "display_data"
    }
   ],
   "source": [
    "# Long right skewed distribution\n",
    "sns.displot(data=month['CPI']);"
   ]
  },
  {
   "cell_type": "code",
   "execution_count": 13,
   "id": "bdc8ae79",
   "metadata": {},
   "outputs": [
    {
     "data": {
      "image/png": "[encoded data removed]",
      "text/plain": [
       "<Figure size 432x288 with 1 Axes>"
      ]
     },
     "metadata": {
      "needs_background": "light"
     },
     "output_type": "display_data"
    }
   ],
   "source": [
    "month['CPI'].plot(x='CPI',grid=True);"
   ]
  },
  {
   "cell_type": "code",
   "execution_count": 14,
   "id": "824dda02",
   "metadata": {},
   "outputs": [
    {
     "data": {
      "image/png": "[encoded data removed]",
      "text/plain": [
       "<Figure size 432x288 with 1 Axes>"
      ]
     },
     "metadata": {
      "needs_background": "light"
     },
     "output_type": "display_data"
    }
   ],
   "source": [
    "# Comparing 2 previous decades\n",
    "plt.scatter(month['CPI']['1990':'2000'], month['CPI']['2000':'2010']);"
   ]
  },
  {
   "cell_type": "code",
   "execution_count": 15,
   "id": "82ae93ab",
   "metadata": {},
   "outputs": [
    {
     "data": {
      "image/png": "[encoded data removed]",
      "text/plain": [
       "<Figure size 432x288 with 1 Axes>"
      ]
     },
     "metadata": {
      "needs_background": "light"
     },
     "output_type": "display_data"
    }
   ],
   "source": [
    "month['CPI']['1980':'1990'].plot();"
   ]
  },
  {
   "cell_type": "markdown",
   "id": "90ea1439",
   "metadata": {
    "jp-MarkdownHeadingCollapsed": true,
    "tags": []
   },
   "source": [
    "\n",
    "### Test for Stationarity\n",
    "\n",
    "To be capable of applying an **ARIMA** method, we will first need to add stationarity. First let's confirm that our time series is not stationary. A few methods exist for this, but we will use the **KPSS** method.\n",
    "\n"
   ]
  },
  {
   "cell_type": "code",
   "execution_count": 16,
   "id": "d34dab01",
   "metadata": {},
   "outputs": [
    {
     "data": {
      "text/plain": [
       "(0.4312793465751795, True)"
      ]
     },
     "execution_count": 16,
     "metadata": {},
     "output_type": "execute_result"
    }
   ],
   "source": [
    "from pmdarima.arima import ADFTest\n",
    "# Augmented Dickey-Fuller test\n",
    "\n",
    "adf_test = ADFTest(alpha=0.05)\n",
    "adf_test.should_diff(month['CPI'])"
   ]
  },
  {
   "cell_type": "code",
   "execution_count": 33,
   "id": "73ec1a15",
   "metadata": {},
   "outputs": [
    {
     "name": "stdout",
     "output_type": "stream",
     "text": [
      "Results of Dickey-Fuller Test:\n",
      "Test Statistic                  2.369475\n",
      "p-value                         0.998995\n",
      "#Lags Used                      1.000000\n",
      "Number of Observations Used    72.000000\n",
      "Critical Value (1%)            -3.524624\n",
      "Critical Value (5%)            -2.902607\n",
      "Critical Value (10%)           -2.588679\n",
      "dtype: float64\n"
     ]
    }
   ],
   "source": [
    "from statsmodels.tsa.stattools import adfuller\n",
    "# We acquire greater results through adfuller\n",
    "\n",
    "def adf_test(month):\n",
    "    print(\"Results of Dickey-Fuller Test:\")\n",
    "    dftest = adfuller(month['CPI'], autolag=\"AIC\")\n",
    "    dfoutput = pd.Series(\n",
    "        dftest[0:4],\n",
    "        index=[\n",
    "            \"Test Statistic\",\n",
    "            \"p-value\",\n",
    "            \"#Lags Used\",\n",
    "            \"Number of Observations Used\",\n",
    "        ],\n",
    "    )\n",
    "    for key, value in dftest[4].items():\n",
    "        dfoutput[\"Critical Value (%s)\" % key] = value\n",
    "    print(dfoutput)\n",
    "    \n",
    "\n",
    "    \n",
    "adf_test(month)"
   ]
  },
  {
   "cell_type": "code",
   "execution_count": null,
   "id": "baaaf873",
   "metadata": {},
   "outputs": [],
   "source": [
    "from statsmodels.tsa.stattools import kpss\n",
    "\n",
    "\n",
    "def kpss_test(month):\n",
    "    print(\"Results of KPSS Test:\")\n",
    "    kpsstest = kpss(month['CPI'], regression=\"ct\", nlags=\"auto\")\n",
    "    kpss_output = pd.Series(\n",
    "        kpsstest[0:3], index=[\"Test Statistic\", \"p-value\", \"Lags Used\"]\n",
    "    )\n",
    "    for key, value in kpsstest[3].items():\n",
    "        kpss_output[\"Critical Value (%s)\" % key] = value\n",
    "    print(kpss_output)\n",
    "    \n",
    "    \n",
    "    \n",
    "kpss_test(month)"
   ]
  },
  {
   "cell_type": "code",
   "execution_count": null,
   "id": "605e5d22",
   "metadata": {},
   "outputs": [],
   "source": [
    "# Reject the null hypothesis - test statistic actual pvalue smaller\n",
    "sm.tsa.stattools.kpss(month['CPI'], regression='ct')"
   ]
  },
  {
   "cell_type": "code",
   "execution_count": 20,
   "id": "d1aa7c72",
   "metadata": {},
   "outputs": [
    {
     "data": {
      "image/png": "[encoded data removed]",
      "text/plain": [
       "<Figure size 432x288 with 4 Axes>"
      ]
     },
     "metadata": {
      "needs_background": "light"
     },
     "output_type": "display_data"
    }
   ],
   "source": [
    "from statsmodels.tsa.seasonal import seasonal_decompose\n",
    "\n",
    "seas_dcomp = seasonal_decompose(month['CPI'],period=12,model='multiplicative')\n",
    "seas_dcomp.plot();"
   ]
  },
  {
   "cell_type": "markdown",
   "id": "0c6116df",
   "metadata": {
    "jp-MarkdownHeadingCollapsed": true,
    "tags": []
   },
   "source": [
    "\n",
    "### Make Series Stationary Using Log Transform\n"
   ]
  },
  {
   "cell_type": "code",
   "execution_count": 35,
   "id": "af4d29fd",
   "metadata": {},
   "outputs": [],
   "source": [
    "#Transform the data from non-statinary to stationary\n",
    "# First differencing\n",
    "month_log = np.log(month['CPI'])\n",
    "month_diff = month_log.diff().dropna()"
   ]
  },
  {
   "cell_type": "code",
   "execution_count": 36,
   "id": "e478442a",
   "metadata": {},
   "outputs": [
    {
     "name": "stdout",
     "output_type": "stream",
     "text": [
      "Test Statistic: -2.253457\n",
      "p-value: 0.187418\n",
      "Critical values:\n",
      "\t1%: -3.527\n",
      "\t5%: -2.904\n",
      "\t10%: -2.589\n"
     ]
    }
   ],
   "source": [
    "# Check for stationarity\n",
    "result = adfuller(month_diff)\n",
    "print('Test Statistic: %f' %result[0])\n",
    "print('p-value: %f' %result[1])\n",
    "print('Critical values:')\n",
    "for key, value in result[4].items ():\n",
    "     print('\\t%s: %.3f' %(key, value))"
   ]
  },
  {
   "cell_type": "code",
   "execution_count": 37,
   "id": "952cec9b",
   "metadata": {},
   "outputs": [
    {
     "name": "stdout",
     "output_type": "stream",
     "text": [
      "Test Statistic: 0.130000\n",
      "p-value: 0.081766\n",
      "Critical values:\n",
      "\t10%: 0.119\n",
      "\t5%: 0.146\n",
      "\t2.5%: 0.176\n",
      "\t1%: 0.216\n"
     ]
    }
   ],
   "source": [
    "result_kpss_ct_log=kpss(month_diff,regression=\"ct\")\n",
    "print('Test Statistic: %f' % np.round(result_kpss_ct_log[0],2))\n",
    "print('p-value: %f' %result_kpss_ct_log[1])\n",
    "print('Critical values:')\n",
    "for key, value in result_kpss_ct_log[3].items():\n",
    "     print('\\t%s: %.3f' %(key, value))"
   ]
  },
  {
   "cell_type": "code",
   "execution_count": 38,
   "id": "062e8404",
   "metadata": {},
   "outputs": [
    {
     "data": {
      "image/png": "[encoded data removed]",
      "text/plain": [
       "<Figure size 1080x576 with 1 Axes>"
      ]
     },
     "metadata": {
      "needs_background": "light"
     },
     "output_type": "display_data"
    }
   ],
   "source": [
    "# Before and After confirmation\n",
    "plt.figure(figsize=(15,8))\n",
    "plt.plot(month_diff,label=\"after\")\n",
    "plt.plot(month['CPI'],label=\"before\")\n",
    "plt.tick_params(\n",
    "    axis='x',        \n",
    "    which='both',\n",
    "    color='orange',\n",
    "    bottom=False,      \n",
    "    top=False,        \n",
    "    labelbottom=True)\n",
    "plt.legend()\n",
    "plt.show()"
   ]
  },
  {
   "cell_type": "code",
   "execution_count": 39,
   "id": "9e9f138b",
   "metadata": {},
   "outputs": [
    {
     "data": {
      "image/png": "[encoded data removed]",
      "text/plain": [
       "<Figure size 432x288 with 1 Axes>"
      ]
     },
     "metadata": {
      "needs_background": "light"
     },
     "output_type": "display_data"
    }
   ],
   "source": [
    "# Closer display\n",
    "month_diff.plot()\n",
    "plt.tick_params(\n",
    "    axis='x',        \n",
    "    which='both',\n",
    "    color='orange',\n",
    "    bottom=False,      \n",
    "    top=False,        \n",
    "    labelbottom='CPI')\n",
    "plt.show();"
   ]
  },
  {
   "cell_type": "markdown",
   "id": "c8945f61",
   "metadata": {
    "jp-MarkdownHeadingCollapsed": true,
    "tags": []
   },
   "source": [
    "\n",
    "### ACF/PACF\n",
    "\n",
    "We can use these two functions to allow us to see at which level of lag is most significant towards the current value.\n"
   ]
  },
  {
   "cell_type": "code",
   "execution_count": 40,
   "id": "de921f7d",
   "metadata": {},
   "outputs": [
    {
     "data": {
      "text/plain": [
       "array([ 1.        ,  0.96462686,  0.93087422,  0.89605767,  0.86097073,\n",
       "        0.82591324,  0.7905578 ,  0.75421508,  0.71597011,  0.6771392 ,\n",
       "        0.63769855,  0.5979538 ,  0.55862121,  0.51879962,  0.47694696,\n",
       "        0.43602383,  0.39533848,  0.35511115,  0.31548499,  0.27615422,\n",
       "        0.23692476,  0.19745469,  0.15850187,  0.12045099,  0.08255924,\n",
       "        0.0444266 ,  0.00671071, -0.02989925, -0.06554118, -0.10054258,\n",
       "       -0.13461162, -0.16757414, -0.19843329, -0.22623966, -0.25147202,\n",
       "       -0.27493632, -0.29718644, -0.31871012, -0.33914181, -0.35854139,\n",
       "       -0.37689689])"
      ]
     },
     "execution_count": 40,
     "metadata": {},
     "output_type": "execute_result"
    }
   ],
   "source": [
    "# Autocorrelation\n",
    "acf_month = acf(month['CPI'])\n",
    "acf_month"
   ]
  },
  {
   "cell_type": "markdown",
   "id": "3466f9f8",
   "metadata": {},
   "source": [
    "Nice, we can definitely tell the difference, but let's see if we can do better"
   ]
  },
  {
   "cell_type": "markdown",
   "id": "3e502e38",
   "metadata": {},
   "source": [
    "Most important is ?"
   ]
  },
  {
   "cell_type": "code",
   "execution_count": 46,
   "id": "19a56bff",
   "metadata": {},
   "outputs": [
    {
     "data": {
      "image/png": "[encoded data removed]",
      "text/plain": [
       "<Figure size 432x288 with 1 Axes>"
      ]
     },
     "metadata": {
      "needs_background": "light"
     },
     "output_type": "display_data"
    }
   ],
   "source": [
    "plot_acf(month_diff, lags=12);"
   ]
  },
  {
   "cell_type": "code",
   "execution_count": 47,
   "id": "0a6f77b8",
   "metadata": {
    "collapsed": true
   },
   "outputs": [
    {
     "ename": "ValueError",
     "evalue": "Can only compute partial correlations for lags up to 50% of the sample size. The requested nlags 40 must be < 36.",
     "output_type": "error",
     "traceback": [
      "\u001b[0;31m---------------------------------------------------------------------------\u001b[0m",
      "\u001b[0;31mValueError\u001b[0m                                Traceback (most recent call last)",
      "\u001b[0;32m/var/folders/q3/0g1f31211lbgj741dfjd4r5c0000gn/T/ipykernel_14217/4071965968.py\u001b[0m in \u001b[0;36m<module>\u001b[0;34m\u001b[0m\n\u001b[1;32m      1\u001b[0m \u001b[0;31m# Partial autocorrelation\u001b[0m\u001b[0;34m\u001b[0m\u001b[0;34m\u001b[0m\u001b[0;34m\u001b[0m\u001b[0m\n\u001b[0;32m----> 2\u001b[0;31m \u001b[0mpacf_month\u001b[0m \u001b[0;34m=\u001b[0m \u001b[0mpacf\u001b[0m\u001b[0;34m(\u001b[0m\u001b[0mmonth_diff\u001b[0m\u001b[0;34m)\u001b[0m\u001b[0;34m\u001b[0m\u001b[0;34m\u001b[0m\u001b[0m\n\u001b[0m\u001b[1;32m      3\u001b[0m \u001b[0mpacf_month\u001b[0m\u001b[0;34m\u001b[0m\u001b[0;34m\u001b[0m\u001b[0m\n",
      "\u001b[0;32m/opt/anaconda3/envs/NNs/lib/python3.8/site-packages/statsmodels/tsa/stattools.py\u001b[0m in \u001b[0;36mpacf\u001b[0;34m(x, nlags, method, alpha)\u001b[0m\n\u001b[1;32m   1031\u001b[0m         \u001b[0mnlags\u001b[0m \u001b[0;34m=\u001b[0m \u001b[0;36m40\u001b[0m\u001b[0;34m\u001b[0m\u001b[0;34m\u001b[0m\u001b[0m\n\u001b[1;32m   1032\u001b[0m     \u001b[0;32mif\u001b[0m \u001b[0mnlags\u001b[0m \u001b[0;34m>=\u001b[0m \u001b[0mx\u001b[0m\u001b[0;34m.\u001b[0m\u001b[0mshape\u001b[0m\u001b[0;34m[\u001b[0m\u001b[0;36m0\u001b[0m\u001b[0;34m]\u001b[0m \u001b[0;34m//\u001b[0m \u001b[0;36m2\u001b[0m\u001b[0;34m:\u001b[0m\u001b[0;34m\u001b[0m\u001b[0;34m\u001b[0m\u001b[0m\n\u001b[0;32m-> 1033\u001b[0;31m         raise ValueError(\n\u001b[0m\u001b[1;32m   1034\u001b[0m             \u001b[0;34m\"Can only compute partial correlations for lags up to 50% of the \"\u001b[0m\u001b[0;34m\u001b[0m\u001b[0;34m\u001b[0m\u001b[0m\n\u001b[1;32m   1035\u001b[0m             \u001b[0;34mf\"sample size. The requested nlags {nlags} must be < \"\u001b[0m\u001b[0;34m\u001b[0m\u001b[0;34m\u001b[0m\u001b[0m\n",
      "\u001b[0;31mValueError\u001b[0m: Can only compute partial correlations for lags up to 50% of the sample size. The requested nlags 40 must be < 36."
     ]
    }
   ],
   "source": [
    "# Partial autocorrelation\n",
    "pacf_month = pacf(month_diff)\n",
    "pacf_month"
   ]
  },
  {
   "cell_type": "code",
   "execution_count": 43,
   "id": "195e6e25",
   "metadata": {
    "collapsed": true
   },
   "outputs": [
    {
     "ename": "NameError",
     "evalue": "name 'pacf_month' is not defined",
     "output_type": "error",
     "traceback": [
      "\u001b[0;31m---------------------------------------------------------------------------\u001b[0m",
      "\u001b[0;31mNameError\u001b[0m                                 Traceback (most recent call last)",
      "\u001b[0;32m/var/folders/q3/0g1f31211lbgj741dfjd4r5c0000gn/T/ipykernel_14217/860414716.py\u001b[0m in \u001b[0;36m<module>\u001b[0;34m\u001b[0m\n\u001b[0;32m----> 1\u001b[0;31m \u001b[0mplot_pacf\u001b[0m\u001b[0;34m(\u001b[0m\u001b[0mpacf_month\u001b[0m\u001b[0;34m,\u001b[0m \u001b[0mlags\u001b[0m\u001b[0;34m=\u001b[0m\u001b[0;36m12\u001b[0m\u001b[0;34m)\u001b[0m\u001b[0;34m;\u001b[0m\u001b[0;34m\u001b[0m\u001b[0;34m\u001b[0m\u001b[0m\n\u001b[0m",
      "\u001b[0;31mNameError\u001b[0m: name 'pacf_month' is not defined"
     ]
    }
   ],
   "source": [
    "plot_pacf(pacf_month, lags=12);"
   ]
  },
  {
   "cell_type": "code",
   "execution_count": 44,
   "id": "db70b4e5",
   "metadata": {},
   "outputs": [
    {
     "data": {
      "image/png": "[encoded data removed]",
      "text/plain": [
       "<Figure size 432x288 with 1 Axes>"
      ]
     },
     "metadata": {
      "needs_background": "light"
     },
     "output_type": "display_data"
    }
   ],
   "source": [
    "# Visualize our plots\n",
    "plt.title('Consumer Price Index with First-order difference', size=25)\n",
    "plt.plot(month['CPI'], label='CPI')\n",
    "plt.plot(month_diff, label='First-order difference', color='orange')\n",
    "plt.legend();"
   ]
  },
  {
   "cell_type": "markdown",
   "id": "dab47f11",
   "metadata": {},
   "source": [
    "\n",
    "## Auto-ARIMA"
   ]
  },
  {
   "cell_type": "code",
   "execution_count": 49,
   "id": "6d8bfdce",
   "metadata": {},
   "outputs": [
    {
     "name": "stdout",
     "output_type": "stream",
     "text": [
      "Performing stepwise search to minimize aic\n",
      " ARIMA(0,0,0)(0,1,0)[24] intercept   : AIC=733.461, Time=2.30 sec\n",
      " ARIMA(1,0,0)(1,1,0)[24] intercept   : AIC=inf, Time=0.89 sec\n",
      " ARIMA(0,0,1)(0,1,1)[24] intercept   : AIC=inf, Time=0.56 sec\n",
      " ARIMA(0,0,0)(0,1,0)[24]             : AIC=846.505, Time=0.02 sec\n",
      " ARIMA(0,0,0)(1,1,0)[24] intercept   : AIC=731.213, Time=0.48 sec\n",
      " ARIMA(0,0,0)(2,1,0)[24] intercept   : AIC=736.941, Time=0.46 sec\n",
      " ARIMA(0,0,0)(1,1,1)[24] intercept   : AIC=inf, Time=0.86 sec\n",
      " ARIMA(0,0,0)(0,1,1)[24] intercept   : AIC=inf, Time=0.42 sec\n",
      " ARIMA(0,0,0)(2,1,1)[24] intercept   : AIC=inf, Time=2.32 sec\n",
      " ARIMA(0,0,1)(1,1,0)[24] intercept   : AIC=inf, Time=0.67 sec\n",
      " ARIMA(1,0,1)(1,1,0)[24] intercept   : AIC=503.322, Time=1.07 sec\n",
      " ARIMA(1,0,1)(0,1,0)[24] intercept   : AIC=505.322, Time=0.31 sec\n",
      " ARIMA(1,0,1)(2,1,0)[24] intercept   : AIC=502.832, Time=2.60 sec\n",
      " ARIMA(1,0,1)(3,1,0)[24] intercept   : AIC=507.487, Time=5.81 sec\n",
      " ARIMA(1,0,1)(2,1,1)[24] intercept   : AIC=inf, Time=3.55 sec\n",
      " ARIMA(1,0,1)(1,1,1)[24] intercept   : AIC=inf, Time=1.27 sec\n",
      " ARIMA(1,0,1)(3,1,1)[24] intercept   : AIC=inf, Time=6.49 sec\n",
      " ARIMA(0,0,1)(2,1,0)[24] intercept   : AIC=inf, Time=2.24 sec\n",
      " ARIMA(1,0,0)(2,1,0)[24] intercept   : AIC=inf, Time=2.40 sec\n",
      " ARIMA(2,0,1)(2,1,0)[24] intercept   : AIC=497.493, Time=3.24 sec\n",
      " ARIMA(2,0,1)(1,1,0)[24] intercept   : AIC=496.955, Time=1.24 sec\n",
      " ARIMA(2,0,1)(0,1,0)[24] intercept   : AIC=499.242, Time=0.28 sec\n",
      " ARIMA(2,0,1)(1,1,1)[24] intercept   : AIC=inf, Time=1.46 sec\n",
      " ARIMA(2,0,1)(0,1,1)[24] intercept   : AIC=497.898, Time=1.25 sec\n",
      " ARIMA(2,0,1)(2,1,1)[24] intercept   : AIC=inf, Time=4.59 sec\n",
      " ARIMA(2,0,0)(1,1,0)[24] intercept   : AIC=inf, Time=1.08 sec\n",
      " ARIMA(3,0,1)(1,1,0)[24] intercept   : AIC=inf, Time=1.36 sec\n",
      " ARIMA(2,0,2)(1,1,0)[24] intercept   : AIC=498.728, Time=1.45 sec\n",
      " ARIMA(1,0,2)(1,1,0)[24] intercept   : AIC=501.492, Time=1.26 sec\n",
      " ARIMA(3,0,0)(1,1,0)[24] intercept   : AIC=inf, Time=1.34 sec\n",
      " ARIMA(3,0,2)(1,1,0)[24] intercept   : AIC=inf, Time=1.89 sec\n",
      " ARIMA(2,0,1)(1,1,0)[24]             : AIC=inf, Time=1.20 sec\n",
      "\n",
      "Best model:  ARIMA(2,0,1)(1,1,0)[24] intercept\n",
      "Total fit time: 56.364 seconds\n"
     ]
    },
    {
     "data": {
      "text/html": [
       "<table class=\"simpletable\">\n",
       "<caption>SARIMAX Results</caption>\n",
       "<tr>\n",
       "  <th>Dep. Variable:</th>                  <td>y</td>                <th>  No. Observations:  </th>    <td>74</td>   \n",
       "</tr>\n",
       "<tr>\n",
       "  <th>Model:</th>           <td>SARIMAX(2, 0, 1)x(1, 1, [], 24)</td> <th>  Log Likelihood     </th> <td>-242.477</td>\n",
       "</tr>\n",
       "<tr>\n",
       "  <th>Date:</th>                   <td>Sat, 23 Jul 2022</td>         <th>  AIC                </th>  <td>496.955</td>\n",
       "</tr>\n",
       "<tr>\n",
       "  <th>Time:</th>                       <td>01:38:36</td>             <th>  BIC                </th>  <td>508.427</td>\n",
       "</tr>\n",
       "<tr>\n",
       "  <th>Sample:</th>                         <td>0</td>                <th>  HQIC               </th>  <td>501.323</td>\n",
       "</tr>\n",
       "<tr>\n",
       "  <th></th>                              <td> - 74</td>              <th>                     </th>     <td> </td>   \n",
       "</tr>\n",
       "<tr>\n",
       "  <th>Covariance Type:</th>               <td>opg</td>               <th>                     </th>     <td> </td>   \n",
       "</tr>\n",
       "</table>\n",
       "<table class=\"simpletable\">\n",
       "<tr>\n",
       "      <td></td>         <th>coef</th>     <th>std err</th>      <th>z</th>      <th>P>|z|</th>  <th>[0.025</th>    <th>0.975]</th>  \n",
       "</tr>\n",
       "<tr>\n",
       "  <th>intercept</th> <td>    3.4498</td> <td>    5.383</td> <td>    0.641</td> <td> 0.522</td> <td>   -7.100</td> <td>   13.999</td>\n",
       "</tr>\n",
       "<tr>\n",
       "  <th>ar.L1</th>     <td>    1.8724</td> <td>    0.159</td> <td>   11.747</td> <td> 0.000</td> <td>    1.560</td> <td>    2.185</td>\n",
       "</tr>\n",
       "<tr>\n",
       "  <th>ar.L2</th>     <td>   -0.8729</td> <td>    0.162</td> <td>   -5.383</td> <td> 0.000</td> <td>   -1.191</td> <td>   -0.555</td>\n",
       "</tr>\n",
       "<tr>\n",
       "  <th>ma.L1</th>     <td>   -0.4070</td> <td>    0.312</td> <td>   -1.306</td> <td> 0.191</td> <td>   -1.018</td> <td>    0.204</td>\n",
       "</tr>\n",
       "<tr>\n",
       "  <th>ar.S.L24</th>  <td>   -0.5013</td> <td>    0.274</td> <td>   -1.833</td> <td> 0.067</td> <td>   -1.037</td> <td>    0.035</td>\n",
       "</tr>\n",
       "<tr>\n",
       "  <th>sigma2</th>    <td>  758.5680</td> <td>  146.208</td> <td>    5.188</td> <td> 0.000</td> <td>  472.005</td> <td> 1045.131</td>\n",
       "</tr>\n",
       "</table>\n",
       "<table class=\"simpletable\">\n",
       "<tr>\n",
       "  <th>Ljung-Box (L1) (Q):</th>     <td>0.05</td> <th>  Jarque-Bera (JB):  </th> <td>11.68</td>\n",
       "</tr>\n",
       "<tr>\n",
       "  <th>Prob(Q):</th>                <td>0.83</td> <th>  Prob(JB):          </th> <td>0.00</td> \n",
       "</tr>\n",
       "<tr>\n",
       "  <th>Heteroskedasticity (H):</th> <td>3.02</td> <th>  Skew:              </th> <td>0.10</td> \n",
       "</tr>\n",
       "<tr>\n",
       "  <th>Prob(H) (two-sided):</th>    <td>0.03</td> <th>  Kurtosis:          </th> <td>5.36</td> \n",
       "</tr>\n",
       "</table><br/><br/>Warnings:<br/>[1] Covariance matrix calculated using the outer product of gradients (complex-step)."
      ],
      "text/plain": [
       "<class 'statsmodels.iolib.summary.Summary'>\n",
       "\"\"\"\n",
       "                                      SARIMAX Results                                      \n",
       "===========================================================================================\n",
       "Dep. Variable:                                   y   No. Observations:                   74\n",
       "Model:             SARIMAX(2, 0, 1)x(1, 1, [], 24)   Log Likelihood                -242.477\n",
       "Date:                             Sat, 23 Jul 2022   AIC                            496.955\n",
       "Time:                                     01:38:36   BIC                            508.427\n",
       "Sample:                                          0   HQIC                           501.323\n",
       "                                              - 74                                         \n",
       "Covariance Type:                               opg                                         \n",
       "==============================================================================\n",
       "                 coef    std err          z      P>|z|      [0.025      0.975]\n",
       "------------------------------------------------------------------------------\n",
       "intercept      3.4498      5.383      0.641      0.522      -7.100      13.999\n",
       "ar.L1          1.8724      0.159     11.747      0.000       1.560       2.185\n",
       "ar.L2         -0.8729      0.162     -5.383      0.000      -1.191      -0.555\n",
       "ma.L1         -0.4070      0.312     -1.306      0.191      -1.018       0.204\n",
       "ar.S.L24      -0.5013      0.274     -1.833      0.067      -1.037       0.035\n",
       "sigma2       758.5680    146.208      5.188      0.000     472.005    1045.131\n",
       "===================================================================================\n",
       "Ljung-Box (L1) (Q):                   0.05   Jarque-Bera (JB):                11.68\n",
       "Prob(Q):                              0.83   Prob(JB):                         0.00\n",
       "Heteroskedasticity (H):               3.02   Skew:                             0.10\n",
       "Prob(H) (two-sided):                  0.03   Kurtosis:                         5.36\n",
       "===================================================================================\n",
       "\n",
       "Warnings:\n",
       "[1] Covariance matrix calculated using the outer product of gradients (complex-step).\n",
       "\"\"\""
      ]
     },
     "execution_count": 49,
     "metadata": {},
     "output_type": "execute_result"
    }
   ],
   "source": [
    "from pmdarima import auto_arima\n",
    "\n",
    "model = auto_arima(month['CPI'],start_p=0, d=0, start_q=0, \n",
    "                          max_p=3, max_d=3, max_q=3, start_P=0, \n",
    "                          D=1, start_Q=0, max_P=3, max_D=3,\n",
    "                          max_Q=3, m=12, seasonal=True, \n",
    "                          error_action='warn',trace = True,\n",
    "                          supress_warnings=True,stepwise = True,\n",
    "                          random_state=42,n_fits = 25 )\n",
    "\n",
    "model.summary()"
   ]
  },
  {
   "cell_type": "code",
   "execution_count": 51,
   "id": "521bf9f8",
   "metadata": {},
   "outputs": [
    {
     "ename": "NameError",
     "evalue": "name 'train' is not defined",
     "output_type": "error",
     "traceback": [
      "\u001b[0;31m---------------------------------------------------------------------------\u001b[0m",
      "\u001b[0;31mNameError\u001b[0m                                 Traceback (most recent call last)",
      "\u001b[0;32m/var/folders/q3/0g1f31211lbgj741dfjd4r5c0000gn/T/ipykernel_14217/3194034988.py\u001b[0m in \u001b[0;36m<module>\u001b[0;34m\u001b[0m\n\u001b[1;32m      2\u001b[0m \u001b[0mprediction\u001b[0m\u001b[0;34m.\u001b[0m\u001b[0mcolumns\u001b[0m \u001b[0;34m=\u001b[0m \u001b[0;34m[\u001b[0m\u001b[0;34m'CPI'\u001b[0m\u001b[0;34m]\u001b[0m\u001b[0;34m\u001b[0m\u001b[0;34m\u001b[0m\u001b[0m\n\u001b[1;32m      3\u001b[0m \u001b[0mplt\u001b[0m\u001b[0;34m.\u001b[0m\u001b[0mfigure\u001b[0m\u001b[0;34m(\u001b[0m\u001b[0mfigsize\u001b[0m\u001b[0;34m=\u001b[0m\u001b[0;34m(\u001b[0m\u001b[0;36m8\u001b[0m\u001b[0;34m,\u001b[0m\u001b[0;36m5\u001b[0m\u001b[0;34m)\u001b[0m\u001b[0;34m)\u001b[0m\u001b[0;34m\u001b[0m\u001b[0;34m\u001b[0m\u001b[0m\n\u001b[0;32m----> 4\u001b[0;31m \u001b[0mplt\u001b[0m\u001b[0;34m.\u001b[0m\u001b[0mplot\u001b[0m\u001b[0;34m(\u001b[0m\u001b[0mtrain\u001b[0m\u001b[0;34m,\u001b[0m\u001b[0mlabel\u001b[0m\u001b[0;34m=\u001b[0m\u001b[0;34m\"Training\"\u001b[0m\u001b[0;34m)\u001b[0m\u001b[0;34m\u001b[0m\u001b[0;34m\u001b[0m\u001b[0m\n\u001b[0m\u001b[1;32m      5\u001b[0m \u001b[0mplt\u001b[0m\u001b[0;34m.\u001b[0m\u001b[0mplot\u001b[0m\u001b[0;34m(\u001b[0m\u001b[0mtest\u001b[0m\u001b[0;34m,\u001b[0m\u001b[0mlabel\u001b[0m\u001b[0;34m=\u001b[0m\u001b[0;34m\"Test\"\u001b[0m\u001b[0;34m)\u001b[0m\u001b[0;34m\u001b[0m\u001b[0;34m\u001b[0m\u001b[0m\n\u001b[1;32m      6\u001b[0m \u001b[0mplt\u001b[0m\u001b[0;34m.\u001b[0m\u001b[0mplot\u001b[0m\u001b[0;34m(\u001b[0m\u001b[0mprediction\u001b[0m\u001b[0;34m,\u001b[0m\u001b[0mlabel\u001b[0m\u001b[0;34m=\u001b[0m\u001b[0;34m\"Predicted\"\u001b[0m\u001b[0;34m)\u001b[0m\u001b[0;34m\u001b[0m\u001b[0;34m\u001b[0m\u001b[0m\n",
      "\u001b[0;31mNameError\u001b[0m: name 'train' is not defined"
     ]
    },
    {
     "data": {
      "text/plain": [
       "<Figure size 576x360 with 0 Axes>"
      ]
     },
     "metadata": {},
     "output_type": "display_data"
    }
   ],
   "source": [
    "prediction = pd.DataFrame(model.predict(n_periods = 30),index=test.index)\n",
    "prediction.columns = ['CPI']\n",
    "plt.figure(figsize=(8,5))\n",
    "plt.plot(train,label=\"Training\")\n",
    "plt.plot(test,label=\"Test\")\n",
    "plt.plot(prediction,label=\"Predicted\")\n",
    "plt.legend(loc = 'upper left')\n",
    "plt.savefig('FirstPred.jpg')\n",
    "plt.show()"
   ]
  },
  {
   "cell_type": "markdown",
   "id": "8009618a",
   "metadata": {
    "jp-MarkdownHeadingCollapsed": true,
    "tags": []
   },
   "source": [
    "\n",
    "## SARIMAX\n",
    "\n",
    "Using the SARIMAX model we will incorporate two orders. The first-order is p,d,q and the second P,D,Q,m to account for seasonality. Placing our model in _state space_ form"
   ]
  },
  {
   "cell_type": "code",
   "execution_count": null,
   "id": "5030a503",
   "metadata": {},
   "outputs": [],
   "source": [
    "model=sm.tsa.statespace.SARIMAX(month_diff,order=(1, 1, 1),seasonal_order=(1,1,1,12))\n",
    "results=model.fit()"
   ]
  },
  {
   "cell_type": "code",
   "execution_count": null,
   "id": "eb7b9ff6",
   "metadata": {},
   "outputs": [],
   "source": [
    "month['forecast']=results.predict(start=90,end=103,dynamic=True)\n",
    "month[[month_diff,'forecast']].plot(figsize=(12,8))"
   ]
  },
  {
   "cell_type": "code",
   "execution_count": 52,
   "id": "33b515e4",
   "metadata": {},
   "outputs": [
    {
     "name": "stdout",
     "output_type": "stream",
     "text": [
      "RUNNING THE L-BFGS-B CODE\n",
      "\n",
      "           * * *\n",
      "\n",
      "Machine precision = 2.220D-16\n",
      " N =            4     M =           10\n",
      "\n",
      "At X0         0 variables are exactly at the bounds\n",
      "\n",
      "At iterate    0    f=  1.80265D+03    |proj g|=  3.50436D+03\n",
      "\n",
      "At iterate    5    f=  1.59884D+01    |proj g|=  2.10535D+01\n",
      "\n",
      "At iterate   10    f=  6.39092D+00    |proj g|=  8.67940D-01\n",
      "\n",
      "At iterate   15    f=  5.26311D+00    |proj g|=  4.73833D-02\n",
      "\n",
      "At iterate   20    f=  5.10728D+00    |proj g|=  1.92476D-02\n",
      "\n",
      "At iterate   25    f=  5.09858D+00    |proj g|=  1.43847D-03\n",
      "\n",
      "At iterate   30    f=  5.09593D+00    |proj g|=  8.15289D-03\n",
      "\n",
      "At iterate   35    f=  5.09508D+00    |proj g|=  5.58152D-04\n",
      "\n",
      "           * * *\n",
      "\n",
      "Tit   = total number of iterations\n",
      "Tnf   = total number of function evaluations\n",
      "Tnint = total number of segments explored during Cauchy searches\n",
      "Skip  = number of BFGS updates skipped\n",
      "Nact  = number of active bounds at final generalized Cauchy point\n",
      "Projg = norm of the final projected gradient\n",
      "F     = final function value\n",
      "\n",
      "           * * *\n",
      "\n",
      "   N    Tit     Tnf  Tnint  Skip  Nact     Projg        F\n",
      "    4     37     40      1     0     0   7.218D-06   5.095D+00\n",
      "  F =   5.0950771149973324     \n",
      "\n",
      "CONVERGENCE: NORM_OF_PROJECTED_GRADIENT_<=_PGTOL            \n"
     ]
    },
    {
     "name": "stderr",
     "output_type": "stream",
     "text": [
      " This problem is unconstrained.\n"
     ]
    },
    {
     "data": {
      "text/html": [
       "<table class=\"simpletable\">\n",
       "<caption>SARIMAX Results</caption>\n",
       "<tr>\n",
       "  <th>Dep. Variable:</th>                  <td>CPI</td>               <th>  No. Observations:  </th>    <td>74</td>   \n",
       "</tr>\n",
       "<tr>\n",
       "  <th>Model:</th>           <td>SARIMAX(1, 0, 0)x(1, 0, [1], 12)</td> <th>  Log Likelihood     </th> <td>-377.036</td>\n",
       "</tr>\n",
       "<tr>\n",
       "  <th>Date:</th>                    <td>Sat, 23 Jul 2022</td>         <th>  AIC                </th>  <td>762.071</td>\n",
       "</tr>\n",
       "<tr>\n",
       "  <th>Time:</th>                        <td>01:43:59</td>             <th>  BIC                </th>  <td>771.288</td>\n",
       "</tr>\n",
       "<tr>\n",
       "  <th>Sample:</th>                     <td>01-01-1948</td>            <th>  HQIC               </th>  <td>765.748</td>\n",
       "</tr>\n",
       "<tr>\n",
       "  <th></th>                           <td>- 01-01-2021</td>           <th>                     </th>     <td> </td>   \n",
       "</tr>\n",
       "<tr>\n",
       "  <th>Covariance Type:</th>                <td>opg</td>               <th>                     </th>     <td> </td>   \n",
       "</tr>\n",
       "</table>\n",
       "<table class=\"simpletable\">\n",
       "<tr>\n",
       "      <td></td>        <th>coef</th>     <th>std err</th>      <th>z</th>      <th>P>|z|</th>  <th>[0.025</th>    <th>0.975]</th>  \n",
       "</tr>\n",
       "<tr>\n",
       "  <th>ar.L1</th>    <td>    0.9994</td> <td>    0.001</td> <td>  683.452</td> <td> 0.000</td> <td>    0.997</td> <td>    1.002</td>\n",
       "</tr>\n",
       "<tr>\n",
       "  <th>ar.S.L12</th> <td>    0.8005</td> <td>    0.189</td> <td>    4.236</td> <td> 0.000</td> <td>    0.430</td> <td>    1.171</td>\n",
       "</tr>\n",
       "<tr>\n",
       "  <th>ma.S.L12</th> <td>   -0.2183</td> <td>    0.269</td> <td>   -0.812</td> <td> 0.417</td> <td>   -0.745</td> <td>    0.308</td>\n",
       "</tr>\n",
       "<tr>\n",
       "  <th>sigma2</th>   <td> 1228.6411</td> <td>  163.796</td> <td>    7.501</td> <td> 0.000</td> <td>  907.606</td> <td> 1549.676</td>\n",
       "</tr>\n",
       "</table>\n",
       "<table class=\"simpletable\">\n",
       "<tr>\n",
       "  <th>Ljung-Box (L1) (Q):</th>     <td>9.88</td>  <th>  Jarque-Bera (JB):  </th> <td>78.29</td>\n",
       "</tr>\n",
       "<tr>\n",
       "  <th>Prob(Q):</th>                <td>0.00</td>  <th>  Prob(JB):          </th> <td>0.00</td> \n",
       "</tr>\n",
       "<tr>\n",
       "  <th>Heteroskedasticity (H):</th> <td>17.95</td> <th>  Skew:              </th> <td>1.48</td> \n",
       "</tr>\n",
       "<tr>\n",
       "  <th>Prob(H) (two-sided):</th>    <td>0.00</td>  <th>  Kurtosis:          </th> <td>7.07</td> \n",
       "</tr>\n",
       "</table><br/><br/>Warnings:<br/>[1] Covariance matrix calculated using the outer product of gradients (complex-step)."
      ],
      "text/plain": [
       "<class 'statsmodels.iolib.summary.Summary'>\n",
       "\"\"\"\n",
       "                                      SARIMAX Results                                       \n",
       "============================================================================================\n",
       "Dep. Variable:                                  CPI   No. Observations:                   74\n",
       "Model:             SARIMAX(1, 0, 0)x(1, 0, [1], 12)   Log Likelihood                -377.036\n",
       "Date:                              Sat, 23 Jul 2022   AIC                            762.071\n",
       "Time:                                      01:43:59   BIC                            771.288\n",
       "Sample:                                  01-01-1948   HQIC                           765.748\n",
       "                                       - 01-01-2021                                         \n",
       "Covariance Type:                                opg                                         \n",
       "==============================================================================\n",
       "                 coef    std err          z      P>|z|      [0.025      0.975]\n",
       "------------------------------------------------------------------------------\n",
       "ar.L1          0.9994      0.001    683.452      0.000       0.997       1.002\n",
       "ar.S.L12       0.8005      0.189      4.236      0.000       0.430       1.171\n",
       "ma.S.L12      -0.2183      0.269     -0.812      0.417      -0.745       0.308\n",
       "sigma2      1228.6411    163.796      7.501      0.000     907.606    1549.676\n",
       "===================================================================================\n",
       "Ljung-Box (L1) (Q):                   9.88   Jarque-Bera (JB):                78.29\n",
       "Prob(Q):                              0.00   Prob(JB):                         0.00\n",
       "Heteroskedasticity (H):              17.95   Skew:                             1.48\n",
       "Prob(H) (two-sided):                  0.00   Kurtosis:                         7.07\n",
       "===================================================================================\n",
       "\n",
       "Warnings:\n",
       "[1] Covariance matrix calculated using the outer product of gradients (complex-step).\n",
       "\"\"\""
      ]
     },
     "execution_count": 52,
     "metadata": {},
     "output_type": "execute_result"
    }
   ],
   "source": [
    "# Split data into train / test sets\n",
    "train = month['CPI'].iloc[:len(month['CPI'])]\n",
    "test = month['CPI'].iloc[len(month['CPI']):] # set one year(12 months) for testing\n",
    "  \n",
    "from statsmodels.tsa.statespace.sarimax import SARIMAX\n",
    "  \n",
    "model = SARIMAX(train,\n",
    "                order=(1, 0, 0),\n",
    "                seasonal_order=(1, 0, 1, 12),\n",
    "                enforce_stationarity=True,\n",
    "                mle_regression=True)\n",
    "  \n",
    "result = model.fit()\n",
    "result.summary()"
   ]
  },
  {
   "cell_type": "code",
   "execution_count": 53,
   "id": "6b66f92a",
   "metadata": {
    "collapsed": true
   },
   "outputs": [
    {
     "ename": "ValueError",
     "evalue": "zero-size array to reduction operation fmin which has no identity",
     "output_type": "error",
     "traceback": [
      "\u001b[0;31m---------------------------------------------------------------------------\u001b[0m",
      "\u001b[0;31mValueError\u001b[0m                                Traceback (most recent call last)",
      "\u001b[0;32m/var/folders/q3/0g1f31211lbgj741dfjd4r5c0000gn/T/ipykernel_14217/788295600.py\u001b[0m in \u001b[0;36m<module>\u001b[0;34m\u001b[0m\n\u001b[1;32m      8\u001b[0m \u001b[0;31m# plot predictions and actual values\u001b[0m\u001b[0;34m\u001b[0m\u001b[0;34m\u001b[0m\u001b[0;34m\u001b[0m\u001b[0m\n\u001b[1;32m      9\u001b[0m \u001b[0mpredictions\u001b[0m\u001b[0;34m.\u001b[0m\u001b[0mplot\u001b[0m\u001b[0;34m(\u001b[0m\u001b[0mlegend\u001b[0m \u001b[0;34m=\u001b[0m \u001b[0;32mTrue\u001b[0m\u001b[0;34m)\u001b[0m\u001b[0;34m;\u001b[0m\u001b[0;34m\u001b[0m\u001b[0;34m\u001b[0m\u001b[0m\n\u001b[0;32m---> 10\u001b[0;31m \u001b[0mtest\u001b[0m\u001b[0;34m.\u001b[0m\u001b[0mplot\u001b[0m\u001b[0;34m(\u001b[0m\u001b[0mlegend\u001b[0m \u001b[0;34m=\u001b[0m \u001b[0;32mTrue\u001b[0m\u001b[0;34m)\u001b[0m\u001b[0;34m;\u001b[0m\u001b[0;34m\u001b[0m\u001b[0;34m\u001b[0m\u001b[0m\n\u001b[0m",
      "\u001b[0;32m/opt/anaconda3/envs/NNs/lib/python3.8/site-packages/pandas/plotting/_core.py\u001b[0m in \u001b[0;36m__call__\u001b[0;34m(self, *args, **kwargs)\u001b[0m\n\u001b[1;32m    947\u001b[0m                     \u001b[0mdata\u001b[0m\u001b[0;34m.\u001b[0m\u001b[0mcolumns\u001b[0m \u001b[0;34m=\u001b[0m \u001b[0mlabel_name\u001b[0m\u001b[0;34m\u001b[0m\u001b[0;34m\u001b[0m\u001b[0m\n\u001b[1;32m    948\u001b[0m \u001b[0;34m\u001b[0m\u001b[0m\n\u001b[0;32m--> 949\u001b[0;31m         \u001b[0;32mreturn\u001b[0m \u001b[0mplot_backend\u001b[0m\u001b[0;34m.\u001b[0m\u001b[0mplot\u001b[0m\u001b[0;34m(\u001b[0m\u001b[0mdata\u001b[0m\u001b[0;34m,\u001b[0m \u001b[0mkind\u001b[0m\u001b[0;34m=\u001b[0m\u001b[0mkind\u001b[0m\u001b[0;34m,\u001b[0m \u001b[0;34m**\u001b[0m\u001b[0mkwargs\u001b[0m\u001b[0;34m)\u001b[0m\u001b[0;34m\u001b[0m\u001b[0;34m\u001b[0m\u001b[0m\n\u001b[0m\u001b[1;32m    950\u001b[0m \u001b[0;34m\u001b[0m\u001b[0m\n\u001b[1;32m    951\u001b[0m     \u001b[0m__call__\u001b[0m\u001b[0;34m.\u001b[0m\u001b[0m__doc__\u001b[0m \u001b[0;34m=\u001b[0m \u001b[0m__doc__\u001b[0m\u001b[0;34m\u001b[0m\u001b[0;34m\u001b[0m\u001b[0m\n",
      "\u001b[0;32m/opt/anaconda3/envs/NNs/lib/python3.8/site-packages/pandas/plotting/_matplotlib/__init__.py\u001b[0m in \u001b[0;36mplot\u001b[0;34m(data, kind, **kwargs)\u001b[0m\n\u001b[1;32m     59\u001b[0m             \u001b[0mkwargs\u001b[0m\u001b[0;34m[\u001b[0m\u001b[0;34m\"ax\"\u001b[0m\u001b[0;34m]\u001b[0m \u001b[0;34m=\u001b[0m \u001b[0mgetattr\u001b[0m\u001b[0;34m(\u001b[0m\u001b[0max\u001b[0m\u001b[0;34m,\u001b[0m \u001b[0;34m\"left_ax\"\u001b[0m\u001b[0;34m,\u001b[0m \u001b[0max\u001b[0m\u001b[0;34m)\u001b[0m\u001b[0;34m\u001b[0m\u001b[0;34m\u001b[0m\u001b[0m\n\u001b[1;32m     60\u001b[0m     \u001b[0mplot_obj\u001b[0m \u001b[0;34m=\u001b[0m \u001b[0mPLOT_CLASSES\u001b[0m\u001b[0;34m[\u001b[0m\u001b[0mkind\u001b[0m\u001b[0;34m]\u001b[0m\u001b[0;34m(\u001b[0m\u001b[0mdata\u001b[0m\u001b[0;34m,\u001b[0m \u001b[0;34m**\u001b[0m\u001b[0mkwargs\u001b[0m\u001b[0;34m)\u001b[0m\u001b[0;34m\u001b[0m\u001b[0;34m\u001b[0m\u001b[0m\n\u001b[0;32m---> 61\u001b[0;31m     \u001b[0mplot_obj\u001b[0m\u001b[0;34m.\u001b[0m\u001b[0mgenerate\u001b[0m\u001b[0;34m(\u001b[0m\u001b[0;34m)\u001b[0m\u001b[0;34m\u001b[0m\u001b[0;34m\u001b[0m\u001b[0m\n\u001b[0m\u001b[1;32m     62\u001b[0m     \u001b[0mplot_obj\u001b[0m\u001b[0;34m.\u001b[0m\u001b[0mdraw\u001b[0m\u001b[0;34m(\u001b[0m\u001b[0;34m)\u001b[0m\u001b[0;34m\u001b[0m\u001b[0;34m\u001b[0m\u001b[0m\n\u001b[1;32m     63\u001b[0m     \u001b[0;32mreturn\u001b[0m \u001b[0mplot_obj\u001b[0m\u001b[0;34m.\u001b[0m\u001b[0mresult\u001b[0m\u001b[0;34m\u001b[0m\u001b[0;34m\u001b[0m\u001b[0m\n",
      "\u001b[0;32m/opt/anaconda3/envs/NNs/lib/python3.8/site-packages/pandas/plotting/_matplotlib/core.py\u001b[0m in \u001b[0;36mgenerate\u001b[0;34m(self)\u001b[0m\n\u001b[1;32m    269\u001b[0m         \u001b[0mself\u001b[0m\u001b[0;34m.\u001b[0m\u001b[0m_compute_plot_data\u001b[0m\u001b[0;34m(\u001b[0m\u001b[0;34m)\u001b[0m\u001b[0;34m\u001b[0m\u001b[0;34m\u001b[0m\u001b[0m\n\u001b[1;32m    270\u001b[0m         \u001b[0mself\u001b[0m\u001b[0;34m.\u001b[0m\u001b[0m_setup_subplots\u001b[0m\u001b[0;34m(\u001b[0m\u001b[0;34m)\u001b[0m\u001b[0;34m\u001b[0m\u001b[0;34m\u001b[0m\u001b[0m\n\u001b[0;32m--> 271\u001b[0;31m         \u001b[0mself\u001b[0m\u001b[0;34m.\u001b[0m\u001b[0m_make_plot\u001b[0m\u001b[0;34m(\u001b[0m\u001b[0;34m)\u001b[0m\u001b[0;34m\u001b[0m\u001b[0;34m\u001b[0m\u001b[0m\n\u001b[0m\u001b[1;32m    272\u001b[0m         \u001b[0mself\u001b[0m\u001b[0;34m.\u001b[0m\u001b[0m_add_table\u001b[0m\u001b[0;34m(\u001b[0m\u001b[0;34m)\u001b[0m\u001b[0;34m\u001b[0m\u001b[0;34m\u001b[0m\u001b[0m\n\u001b[1;32m    273\u001b[0m         \u001b[0mself\u001b[0m\u001b[0;34m.\u001b[0m\u001b[0m_make_legend\u001b[0m\u001b[0;34m(\u001b[0m\u001b[0;34m)\u001b[0m\u001b[0;34m\u001b[0m\u001b[0;34m\u001b[0m\u001b[0m\n",
      "\u001b[0;32m/opt/anaconda3/envs/NNs/lib/python3.8/site-packages/pandas/plotting/_matplotlib/core.py\u001b[0m in \u001b[0;36m_make_plot\u001b[0;34m(self)\u001b[0m\n\u001b[1;32m   1133\u001b[0m                 \u001b[0;31m# TODO: GH28021, should find a way to change view limit on xaxis\u001b[0m\u001b[0;34m\u001b[0m\u001b[0;34m\u001b[0m\u001b[0;34m\u001b[0m\u001b[0m\n\u001b[1;32m   1134\u001b[0m                 \u001b[0mlines\u001b[0m \u001b[0;34m=\u001b[0m \u001b[0m_get_all_lines\u001b[0m\u001b[0;34m(\u001b[0m\u001b[0max\u001b[0m\u001b[0;34m)\u001b[0m\u001b[0;34m\u001b[0m\u001b[0;34m\u001b[0m\u001b[0m\n\u001b[0;32m-> 1135\u001b[0;31m                 \u001b[0mleft\u001b[0m\u001b[0;34m,\u001b[0m \u001b[0mright\u001b[0m \u001b[0;34m=\u001b[0m \u001b[0m_get_xlim\u001b[0m\u001b[0;34m(\u001b[0m\u001b[0mlines\u001b[0m\u001b[0;34m)\u001b[0m\u001b[0;34m\u001b[0m\u001b[0;34m\u001b[0m\u001b[0m\n\u001b[0m\u001b[1;32m   1136\u001b[0m                 \u001b[0max\u001b[0m\u001b[0;34m.\u001b[0m\u001b[0mset_xlim\u001b[0m\u001b[0;34m(\u001b[0m\u001b[0mleft\u001b[0m\u001b[0;34m,\u001b[0m \u001b[0mright\u001b[0m\u001b[0;34m)\u001b[0m\u001b[0;34m\u001b[0m\u001b[0;34m\u001b[0m\u001b[0m\n\u001b[1;32m   1137\u001b[0m \u001b[0;34m\u001b[0m\u001b[0m\n",
      "\u001b[0;32m/opt/anaconda3/envs/NNs/lib/python3.8/site-packages/pandas/plotting/_matplotlib/tools.py\u001b[0m in \u001b[0;36m_get_xlim\u001b[0;34m(lines)\u001b[0m\n\u001b[1;32m    374\u001b[0m     \u001b[0;32mfor\u001b[0m \u001b[0ml\u001b[0m \u001b[0;32min\u001b[0m \u001b[0mlines\u001b[0m\u001b[0;34m:\u001b[0m\u001b[0;34m\u001b[0m\u001b[0;34m\u001b[0m\u001b[0m\n\u001b[1;32m    375\u001b[0m         \u001b[0mx\u001b[0m \u001b[0;34m=\u001b[0m \u001b[0ml\u001b[0m\u001b[0;34m.\u001b[0m\u001b[0mget_xdata\u001b[0m\u001b[0;34m(\u001b[0m\u001b[0morig\u001b[0m\u001b[0;34m=\u001b[0m\u001b[0;32mFalse\u001b[0m\u001b[0;34m)\u001b[0m\u001b[0;34m\u001b[0m\u001b[0;34m\u001b[0m\u001b[0m\n\u001b[0;32m--> 376\u001b[0;31m         \u001b[0mleft\u001b[0m \u001b[0;34m=\u001b[0m \u001b[0mmin\u001b[0m\u001b[0;34m(\u001b[0m\u001b[0mnp\u001b[0m\u001b[0;34m.\u001b[0m\u001b[0mnanmin\u001b[0m\u001b[0;34m(\u001b[0m\u001b[0mx\u001b[0m\u001b[0;34m)\u001b[0m\u001b[0;34m,\u001b[0m \u001b[0mleft\u001b[0m\u001b[0;34m)\u001b[0m\u001b[0;34m\u001b[0m\u001b[0;34m\u001b[0m\u001b[0m\n\u001b[0m\u001b[1;32m    377\u001b[0m         \u001b[0mright\u001b[0m \u001b[0;34m=\u001b[0m \u001b[0mmax\u001b[0m\u001b[0;34m(\u001b[0m\u001b[0mnp\u001b[0m\u001b[0;34m.\u001b[0m\u001b[0mnanmax\u001b[0m\u001b[0;34m(\u001b[0m\u001b[0mx\u001b[0m\u001b[0;34m)\u001b[0m\u001b[0;34m,\u001b[0m \u001b[0mright\u001b[0m\u001b[0;34m)\u001b[0m\u001b[0;34m\u001b[0m\u001b[0;34m\u001b[0m\u001b[0m\n\u001b[1;32m    378\u001b[0m     \u001b[0;32mreturn\u001b[0m \u001b[0mleft\u001b[0m\u001b[0;34m,\u001b[0m \u001b[0mright\u001b[0m\u001b[0;34m\u001b[0m\u001b[0;34m\u001b[0m\u001b[0m\n",
      "\u001b[0;32m/opt/anaconda3/envs/NNs/lib/python3.8/site-packages/numpy/core/overrides.py\u001b[0m in \u001b[0;36mnanmin\u001b[0;34m(*args, **kwargs)\u001b[0m\n",
      "\u001b[0;32m/opt/anaconda3/envs/NNs/lib/python3.8/site-packages/numpy/lib/nanfunctions.py\u001b[0m in \u001b[0;36mnanmin\u001b[0;34m(a, axis, out, keepdims, initial, where)\u001b[0m\n\u001b[1;32m    341\u001b[0m         \u001b[0;31m# Fast, but not safe for subclasses of ndarray, or object arrays,\u001b[0m\u001b[0;34m\u001b[0m\u001b[0;34m\u001b[0m\u001b[0;34m\u001b[0m\u001b[0m\n\u001b[1;32m    342\u001b[0m         \u001b[0;31m# which do not implement isnan (gh-9009), or fmin correctly (gh-8975)\u001b[0m\u001b[0;34m\u001b[0m\u001b[0;34m\u001b[0m\u001b[0;34m\u001b[0m\u001b[0m\n\u001b[0;32m--> 343\u001b[0;31m         \u001b[0mres\u001b[0m \u001b[0;34m=\u001b[0m \u001b[0mnp\u001b[0m\u001b[0;34m.\u001b[0m\u001b[0mfmin\u001b[0m\u001b[0;34m.\u001b[0m\u001b[0mreduce\u001b[0m\u001b[0;34m(\u001b[0m\u001b[0ma\u001b[0m\u001b[0;34m,\u001b[0m \u001b[0maxis\u001b[0m\u001b[0;34m=\u001b[0m\u001b[0maxis\u001b[0m\u001b[0;34m,\u001b[0m \u001b[0mout\u001b[0m\u001b[0;34m=\u001b[0m\u001b[0mout\u001b[0m\u001b[0;34m,\u001b[0m \u001b[0;34m**\u001b[0m\u001b[0mkwargs\u001b[0m\u001b[0;34m)\u001b[0m\u001b[0;34m\u001b[0m\u001b[0;34m\u001b[0m\u001b[0m\n\u001b[0m\u001b[1;32m    344\u001b[0m         \u001b[0;32mif\u001b[0m \u001b[0mnp\u001b[0m\u001b[0;34m.\u001b[0m\u001b[0misnan\u001b[0m\u001b[0;34m(\u001b[0m\u001b[0mres\u001b[0m\u001b[0;34m)\u001b[0m\u001b[0;34m.\u001b[0m\u001b[0many\u001b[0m\u001b[0;34m(\u001b[0m\u001b[0;34m)\u001b[0m\u001b[0;34m:\u001b[0m\u001b[0;34m\u001b[0m\u001b[0;34m\u001b[0m\u001b[0m\n\u001b[1;32m    345\u001b[0m             warnings.warn(\"All-NaN slice encountered\", RuntimeWarning,\n",
      "\u001b[0;31mValueError\u001b[0m: zero-size array to reduction operation fmin which has no identity"
     ]
    },
    {
     "data": {
      "image/png": "[encoded data removed]",
      "text/plain": [
       "<Figure size 432x288 with 1 Axes>"
      ]
     },
     "metadata": {
      "needs_background": "light"
     },
     "output_type": "display_data"
    }
   ],
   "source": [
    "start = len(train)\n",
    "end = len(train) + len(test) + 1   #10 years into the future\n",
    "  \n",
    "# Predictions for one-year against the test set\n",
    "predictions = result.predict(start, end,\n",
    "                             typ = 'levels').rename(\"Predictions\")\n",
    "  \n",
    "# plot predictions and actual values\n",
    "predictions.plot(legend = True);\n",
    "test.plot(legend = True);"
   ]
  },
  {
   "cell_type": "markdown",
   "id": "81f5b883",
   "metadata": {},
   "source": [
    "## External code (COME BACK BUT NOT RELEVANT)"
   ]
  },
  {
   "cell_type": "code",
   "execution_count": null,
   "id": "d1869e73",
   "metadata": {},
   "outputs": [],
   "source": [
    "import plotly.graph_objects as go"
   ]
  },
  {
   "cell_type": "code",
   "execution_count": null,
   "id": "080c7203",
   "metadata": {},
   "outputs": [],
   "source": [
    "#month['Cpi'] = np.where(month['Cpi'] > month['Cpi'].shift(1), 1, -1)\n",
    "\n",
    "\n",
    "#fig = go.Figure(data=go.Scatter(\n",
    "#                    y=np.exp(month['Cpi'].cumsum()),\n",
    "#                    x=month.index,\n",
    "#                    name=\"Cpi\")\n",
    "#               )\n",
    "fig.add_trace(\n",
    "        go.Scatter(\n",
    "            y=np.log(month['CPI']),\n",
    "            x=month.index,\n",
    "            name=\"Predictions\")\n",
    "    )\n",
    "fig.update_layout(title=dict(text=\"Consumer Price Index\",font=dict(size=18)),\n",
    "                 legend=dict(font=dict(size=10)),\n",
    "                  width=600,\n",
    "                  height=500)\n",
    "\n",
    "fig.update_xaxes(tickfont=dict(size=15, color=\"#434\"))\n",
    "fig.update_yaxes(tickfont=dict(size=15, color=\"#434\"))\n",
    "\n",
    "fig.show()"
   ]
  },
  {
   "cell_type": "code",
   "execution_count": null,
   "id": "14ca7325",
   "metadata": {},
   "outputs": [],
   "source": [
    "from sklearn.metrics import mean_squared_error\n",
    "from statsmodels.tools.eval_measures import rmse\n",
    "# Mse - always non-negative and values close to zero are better\n",
    "# Incorporates both the variance of the estimator and its bias.\n",
    "\n",
    "rmse(test, predictions)\n",
    "mean_squared_error(test, predictions)"
   ]
  },
  {
   "cell_type": "code",
   "execution_count": 54,
   "id": "d2f13e34",
   "metadata": {},
   "outputs": [
    {
     "name": "stdout",
     "output_type": "stream",
     "text": [
      "RUNNING THE L-BFGS-B CODE\n",
      "\n",
      "           * * *\n",
      "\n",
      "Machine precision = 2.220D-16\n",
      " N =            5     M =           10\n",
      "\n",
      "At X0         0 variables are exactly at the bounds\n",
      "\n",
      "At iterate    0    f= -1.88930D+00    |proj g|=  2.09608D+00\n",
      "\n",
      "At iterate    5    f= -1.89462D+00    |proj g|=  3.32313D+00\n",
      "\n",
      "At iterate   10    f= -1.94958D+00    |proj g|=  9.56586D-02\n"
     ]
    },
    {
     "name": "stderr",
     "output_type": "stream",
     "text": [
      " This problem is unconstrained.\n"
     ]
    },
    {
     "name": "stdout",
     "output_type": "stream",
     "text": [
      "\n",
      "At iterate   15    f= -1.95003D+00    |proj g|=  4.41081D-02\n",
      "\n",
      "At iterate   20    f= -1.95679D+00    |proj g|=  6.65171D-01\n",
      "\n",
      "At iterate   25    f= -1.95823D+00    |proj g|=  6.15386D-01\n",
      "\n",
      "At iterate   30    f= -1.97932D+00    |proj g|=  7.78332D-01\n",
      "\n",
      "At iterate   35    f= -1.98381D+00    |proj g|=  4.10864D-01\n",
      "\n",
      "           * * *\n",
      "\n",
      "Tit   = total number of iterations\n",
      "Tnf   = total number of function evaluations\n",
      "Tnint = total number of segments explored during Cauchy searches\n",
      "Skip  = number of BFGS updates skipped\n",
      "Nact  = number of active bounds at final generalized Cauchy point\n",
      "Projg = norm of the final projected gradient\n",
      "F     = final function value\n",
      "\n",
      "           * * *\n",
      "\n",
      "   N    Tit     Tnf  Tnint  Skip  Nact     Projg        F\n",
      "    5     39     73      1     0     0   2.112D-01  -1.985D+00\n",
      "  F =  -1.9849281894524402     \n",
      "\n",
      "CONVERGENCE: REL_REDUCTION_OF_F_<=_FACTR*EPSMCH             \n"
     ]
    },
    {
     "data": {
      "image/png": "[encoded data removed]",
      "text/plain": [
       "<Figure size 864x360 with 1 Axes>"
      ]
     },
     "metadata": {
      "needs_background": "light"
     },
     "output_type": "display_data"
    }
   ],
   "source": [
    "# Train the model on the full dataset\n",
    "model = model = SARIMAX(month_diff, \n",
    "                        order = (0, 1, 1), \n",
    "                        seasonal_order =(2, 1, 1, 12))\n",
    "result = model.fit()\n",
    "  \n",
    "# Forecast for the next 3 years\n",
    "forecast = result.predict(start = len(month_diff), \n",
    "                          end = (len(month_diff)-1) + 3 * 12, \n",
    "                          typ = 'levels').rename('Forecast')\n",
    "  \n",
    "# Plot the forecast values\n",
    "month_diff.plot(figsize = (12, 5), legend = True)\n",
    "forecast.plot(legend = True);\n"
   ]
  },
  {
   "cell_type": "code",
   "execution_count": null,
   "id": "9b71f2e4",
   "metadata": {},
   "outputs": [],
   "source": [
    "#from sklearn.model_selection import train_test_split\n",
    "#train, val = train_test_split(month, test_size=len(test),  \n",
    "#                              random_state=42)"
   ]
  },
  {
   "cell_type": "code",
   "execution_count": null,
   "id": "7abb01e1",
   "metadata": {},
   "outputs": [],
   "source": [
    "start = len(month_diff)\n",
    "end = len(month['CPI']) + len(test) - 1\n",
    "  \n",
    "# Predictions for one-year against the test set\n",
    "predictions = result.predict(start, end,\n",
    "                             typ = 'levels').rename(\"Predictions\")\n",
    "  \n",
    "# plot predictions and actual values\n",
    "predictions.plot(legend = True);\n",
    "test.plot(legend = True);"
   ]
  },
  {
   "cell_type": "markdown",
   "id": "144e2c1d",
   "metadata": {},
   "source": [
    "\n",
    "### Alternate version\n"
   ]
  },
  {
   "cell_type": "code",
   "execution_count": null,
   "id": "28a06216",
   "metadata": {},
   "outputs": [],
   "source": [
    "mod = sm.tsa.statespace.SARIMAX(month_diff, order=(2,1,1), seasonal_order=(1,1,0,100), simple_differencing=True)\n",
    "res = mod.fit(disp=False)\n",
    "print(res.summary())"
   ]
  },
  {
   "cell_type": "code",
   "execution_count": null,
   "id": "8e57d773",
   "metadata": {},
   "outputs": [],
   "source": [
    "# In-sample one-step-ahead predictions\n",
    "predict = res.get_prediction()\n",
    "predict_ci = predict.conf_int()\n",
    "predict_ci"
   ]
  },
  {
   "cell_type": "markdown",
   "id": "d8fb4215",
   "metadata": {},
   "source": [
    "### The credible intervals?? How they expand over future, etc."
   ]
  },
  {
   "cell_type": "code",
   "execution_count": null,
   "id": "1733adb3",
   "metadata": {},
   "outputs": [],
   "source": []
  }
 ],
 "metadata": {
  "kernelspec": {
   "display_name": "NNse",
   "language": "python",
   "name": "u4-s1-nns"
  },
  "language_info": {
   "codemirror_mode": {
    "name": "ipython",
    "version": 3
   },
   "file_extension": ".py",
   "mimetype": "text/x-python",
   "name": "python",
   "nbconvert_exporter": "python",
   "pygments_lexer": "ipython3",
   "version": "3.8.5"
  }
 },
 "nbformat": 4,
 "nbformat_minor": 5
}
