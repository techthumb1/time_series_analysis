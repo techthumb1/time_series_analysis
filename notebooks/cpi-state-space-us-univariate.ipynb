{
 "cells": [
  {
   "cell_type": "code",
   "execution_count": null,
   "id": "bfdc0c48",
   "metadata": {},
   "outputs": [],
   "source": [
    "#pip install pmdarima"
   ]
  },
  {
   "cell_type": "markdown",
   "id": "de80a258",
   "metadata": {
    "tags": []
   },
   "source": [
    "# CPI State Space Model Using ARIMA Method\n",
    "\n",
    "[10 year US Government Bond Yields (long-term interest rate)](https://datahub.io/core/bond-yields-us-10y#readme)\n",
    "***\n",
    "\n",
    "### Steps for ARIMA implementation\n",
    "\n",
    "- **Load the data**: The first step for model building is of course to load the dataset\n",
    "- **Preprocessing**: Depending on the dataset, the steps of preprocessing will be defined. This will include creating timestamps, converting the dtype of date/time column, making the series univariate, etc.\n",
    "- **Make series stationary**: In order to satisfy the assumption, it is necessary to make the series stationary. This would include checking the stationarity of the series and performing required transformations\n",
    "- **Determine d value**: For making the series stationary, the number of times the difference operation was performed will be taken as the d value\n",
    "- **Create ACF and PACF plots**: This is the most important step in ARIMA implementation. ACF PACF plots are used to determine the input parameters for our ARIMA model\n",
    "- **Determine the p and q values**: Read the values of p and q from the plots in the previous step\n",
    "- **Fit ARIMA model**: Using the processed data and parameter values we calculated from the previous steps, fit the ARIMA model\n",
    "- **Predict values on validation set**: Predict the future values\n",
    "- **Calculate RMSE**: To check the performance of the model, check the RMSE value using the predictions and actual values on the validation set\n",
    "***\n",
    "\n",
    "### Load the Data\n",
    "\n",
    "We will include Statsmodels into our workflow which we will use specifically for its powerful TSA models.The functions of use will are:\n",
    "- ARIMA\n",
    "- SARIMAX\n",
    "- SEASONAL DECOMPOSE\n",
    "- AUTO CORRELATION AND PARTIAL CORRELATION\n",
    "- ACF AND PACF PLOT\n",
    "- ADF FULLER - TEST\n",
    "- KPSS\n",
    "\n",
    "**Given the variety of tools, we can provide more accurate and useful predictions.**\n"
   ]
  },
  {
   "cell_type": "code",
   "execution_count": 14,
   "id": "1166c4c2",
   "metadata": {},
   "outputs": [
    {
     "name": "stdout",
     "output_type": "stream",
     "text": [
      "Matplotlib: 3.3.2\n",
      "Pandas: 1.1.3\n",
      "Numpy: 1.23.0\n",
      "StatsModel: 0.12.2\n",
      "Scipy: 1.5.2\n",
      "Seaborn: 0.11.2\n"
     ]
    }
   ],
   "source": [
    "# Basic libraries\n",
    "import pandas as pd\n",
    "import numpy as np\n",
    "import seaborn as sns\n",
    "\n",
    "# Statsmodel for statistics\n",
    "import statsmodels.api as sm\n",
    "import statsmodels\n",
    "from statsmodels.tsa.statespace.sarimax import SARIMAX\n",
    "from statsmodels.tsa.seasonal import seasonal_decompose\n",
    "from statsmodels.tsa.stattools import acf, pacf\n",
    "from statsmodels.graphics.tsaplots import plot_acf, plot_pacf\n",
    "from statsmodels.tsa.stattools import adfuller\n",
    "from pmdarima.arima import ADFTest\n",
    "from statsmodels.tsa.stattools import kpss\n",
    "\n",
    "# Scientific computation\n",
    "import scipy\n",
    "from scipy.stats import pearsonr\n",
    "\n",
    "from sklearn.metrics import mean_squared_error\n",
    "from statsmodels.tools.eval_measures import rmse\n",
    "\n",
    "# Matplotlib\n",
    "import matplotlib.pyplot as plt\n",
    "from matplotlib import rcParams\n",
    "from cycler import cycler\n",
    "#\n",
    "#matplotlib.rcParams['figure.figsize'] = [8, 3]\n",
    "#rcParams['figure.figsize'] = 18, 5\n",
    "#rcParams['axes.spines.top'] = True\n",
    "#rcParams['axes.spines.right'] = True\n",
    "#rcParams['axes.prop_cycle'] = cycler(color=['#365977'])\n",
    "#rcParams['lines.linewidth'] = 2.5\n",
    "\n",
    "%matplotlib inline\n",
    "\n",
    "# Ignore warnings\n",
    "import warnings\n",
    "warnings.filterwarnings(\"ignore\")\n",
    "\n",
    "print('Matplotlib:',matplotlib.__version__)\n",
    "print('Pandas:',pd.__version__)\n",
    "print('Numpy:',np.__version__)\n",
    "print('StatsModel:',statsmodels.__version__)\n",
    "print('Scipy:',scipy.__version__)\n",
    "print('Seaborn:', sns.__version__)"
   ]
  },
  {
   "cell_type": "code",
   "execution_count": 6,
   "id": "742654d7",
   "metadata": {},
   "outputs": [],
   "source": [
    "# read in cpi data\n",
    "month = pd.read_csv('/Users/jasonrobinson/Documents/Projects/bls_project/data/cpi_avg_price_data.csv', parse_dates=['Year'], index_col='Year')"
   ]
  },
  {
   "cell_type": "markdown",
   "id": "a58caae7",
   "metadata": {},
   "source": [
    "### Preprocessing"
   ]
  },
  {
   "cell_type": "code",
   "execution_count": 7,
   "id": "05f9d9d0",
   "metadata": {},
   "outputs": [],
   "source": [
    "# Drop unncessary column\n",
    "month = month.drop('Series ID', axis=1)\n",
    "# Remove leaky data\n",
    "month = month[:-2]"
   ]
  },
  {
   "cell_type": "markdown",
   "id": "299e64c0",
   "metadata": {},
   "source": [
    "**Task**: Either use univariate or multivariate time series analysis.\n",
    "If multivariate incorporate method to sum or average annual value for specific year"
   ]
  },
  {
   "cell_type": "code",
   "execution_count": 8,
   "id": "b292c699",
   "metadata": {},
   "outputs": [],
   "source": [
    "# Sum each row for univariate analysis\n",
    "month['Cpi'] = month.sum(axis=1)"
   ]
  },
  {
   "cell_type": "markdown",
   "id": "aced1fe5",
   "metadata": {
    "jp-MarkdownHeadingCollapsed": true,
    "tags": []
   },
   "source": [
    "\n",
    "### Visualize our data\n",
    "\n",
    "For the entire range we see an upward and downward non-stationary trend."
   ]
  },
  {
   "cell_type": "code",
   "execution_count": 9,
   "id": "9afba650",
   "metadata": {},
   "outputs": [
    {
     "data": {
      "image/png": "[encoded data removed]",
      "text/plain": [
       "<Figure size 360x360 with 1 Axes>"
      ]
     },
     "metadata": {
      "needs_background": "light"
     },
     "output_type": "display_data"
    }
   ],
   "source": [
    "# Long right skewed distribution\n",
    "sns.displot(data=month['Cpi']);"
   ]
  },
  {
   "cell_type": "code",
   "execution_count": 10,
   "id": "bdc8ae79",
   "metadata": {},
   "outputs": [
    {
     "data": {
      "image/png": "[encoded data removed]",
      "text/plain": [
       "<Figure size 432x288 with 1 Axes>"
      ]
     },
     "metadata": {
      "needs_background": "light"
     },
     "output_type": "display_data"
    }
   ],
   "source": [
    "month['Cpi'].plot(x='CPI',grid=True);"
   ]
  },
  {
   "cell_type": "code",
   "execution_count": 15,
   "id": "824dda02",
   "metadata": {},
   "outputs": [
    {
     "data": {
      "image/png": "[encoded data removed]",
      "text/plain": [
       "<Figure size 432x288 with 1 Axes>"
      ]
     },
     "metadata": {
      "needs_background": "light"
     },
     "output_type": "display_data"
    }
   ],
   "source": [
    "# Comparing 2 previous decades\n",
    "plt.scatter(month['Cpi']['1990':'2000'], month['Cpi']['2000':'2010']);"
   ]
  },
  {
   "cell_type": "code",
   "execution_count": 12,
   "id": "82ae93ab",
   "metadata": {},
   "outputs": [
    {
     "data": {
      "image/png": "[encoded data removed]",
      "text/plain": [
       "<Figure size 432x288 with 1 Axes>"
      ]
     },
     "metadata": {
      "needs_background": "light"
     },
     "output_type": "display_data"
    }
   ],
   "source": [
    "month['Cpi']['1980':'1990'].plot();"
   ]
  },
  {
   "cell_type": "markdown",
   "id": "90ea1439",
   "metadata": {
    "jp-MarkdownHeadingCollapsed": true,
    "tags": []
   },
   "source": [
    "\n",
    "### Test for Stationarity\n",
    "\n",
    "To be capable of applying an **ARIMA** method, we will first need to add stationarity. First let's confirm that our time series is not stationary. A few methods exist for this, but we will use the **KPSS** method.\n",
    "\n"
   ]
  },
  {
   "cell_type": "code",
   "execution_count": null,
   "id": "d34dab01",
   "metadata": {},
   "outputs": [],
   "source": [
    "from pmdarima.arima import ADFTest\n",
    "# Augmented Dickey-Fuller test\n",
    "\n",
    "adf_test = ADFTest(alpha=0.05)\n",
    "adf_test.should_diff(month['Cpi'])"
   ]
  },
  {
   "cell_type": "code",
   "execution_count": null,
   "id": "73ec1a15",
   "metadata": {},
   "outputs": [],
   "source": [
    "from statsmodels.tsa.stattools import adfuller\n",
    "# We acquire greater results through adfuller\n",
    "\n",
    "def adf_test(month):\n",
    "    print(\"Results of Dickey-Fuller Test:\")\n",
    "    dftest = adfuller(month['Cpi'], autolag=\"AIC\")\n",
    "    dfoutput = pd.Series(\n",
    "        dftest[0:4],\n",
    "        index=[\n",
    "            \"Test Statistic\",\n",
    "            \"p-value\",\n",
    "            \"#Lags Used\",\n",
    "            \"Number of Observations Used\",\n",
    "        ],\n",
    "    )\n",
    "    for key, value in dftest[4].items():\n",
    "        dfoutput[\"Critical Value (%s)\" % key] = value\n",
    "    print(dfoutput)\n",
    "    \n",
    "\n",
    "    \n",
    "adf_test(month)"
   ]
  },
  {
   "cell_type": "code",
   "execution_count": null,
   "id": "baaaf873",
   "metadata": {},
   "outputs": [],
   "source": [
    "from statsmodels.tsa.stattools import kpss\n",
    "\n",
    "\n",
    "def kpss_test(month):\n",
    "    print(\"Results of KPSS Test:\")\n",
    "    kpsstest = kpss(month['Cpi'], regression=\"ct\", nlags=\"auto\")\n",
    "    kpss_output = pd.Series(\n",
    "        kpsstest[0:3], index=[\"Test Statistic\", \"p-value\", \"Lags Used\"]\n",
    "    )\n",
    "    for key, value in kpsstest[3].items():\n",
    "        kpss_output[\"Critical Value (%s)\" % key] = value\n",
    "    print(kpss_output)\n",
    "    \n",
    "    \n",
    "    \n",
    "kpss_test(month)"
   ]
  },
  {
   "cell_type": "code",
   "execution_count": null,
   "id": "605e5d22",
   "metadata": {},
   "outputs": [],
   "source": [
    "# Reject the null hypothesis - test statistic actual pvalue smaller\n",
    "sm.tsa.stattools.kpss(month['Cpi'], regression='ct')"
   ]
  },
  {
   "cell_type": "code",
   "execution_count": null,
   "id": "d1aa7c72",
   "metadata": {},
   "outputs": [],
   "source": [
    "from statsmodels.tsa.seasonal import seasonal_decompose\n",
    "\n",
    "seas_dcomp = seasonal_decompose(month['Cpi'],period=12,model='multiplicative')\n",
    "seas_dcomp.plot();"
   ]
  },
  {
   "cell_type": "markdown",
   "id": "0c6116df",
   "metadata": {
    "jp-MarkdownHeadingCollapsed": true,
    "tags": []
   },
   "source": [
    "\n",
    "### Make Series Stationary Using Log Transform\n"
   ]
  },
  {
   "cell_type": "code",
   "execution_count": null,
   "id": "af4d29fd",
   "metadata": {},
   "outputs": [],
   "source": [
    "#Transform the data from non-statinary to stationary\n",
    "month_log = np.log(month['Cpi'])\n",
    "month_diff = month_log.diff().dropna()"
   ]
  },
  {
   "cell_type": "code",
   "execution_count": null,
   "id": "e478442a",
   "metadata": {},
   "outputs": [],
   "source": [
    "# Check for stationarity\n",
    "result = adfuller(month_diff)\n",
    "print('Test Statistic: %f' %result[0])\n",
    "print('p-value: %f' %result[1])\n",
    "print('Critical values:')\n",
    "for key, value in result[4].items ():\n",
    "     print('\\t%s: %.3f' %(key, value))"
   ]
  },
  {
   "cell_type": "code",
   "execution_count": null,
   "id": "952cec9b",
   "metadata": {},
   "outputs": [],
   "source": [
    "result_kpss_ct_log=kpss(month_diff,regression=\"ct\")\n",
    "print('Test Statistic: %f' % np.round(result_kpss_ct_log[0],2))\n",
    "print('p-value: %f' %result_kpss_ct_log[1])\n",
    "print('Critical values:')\n",
    "for key, value in result_kpss_ct_log[3].items():\n",
    "     print('\\t%s: %.3f' %(key, value))"
   ]
  },
  {
   "cell_type": "code",
   "execution_count": null,
   "id": "062e8404",
   "metadata": {},
   "outputs": [],
   "source": [
    "# Before and After confirmation\n",
    "plt.figure(figsize=(15,8))\n",
    "plt.plot(month_diff,label=\"after\")\n",
    "plt.plot(month['Cpi'],label=\"before\")\n",
    "plt.tick_params(\n",
    "    axis='x',        \n",
    "    which='both',\n",
    "    color='orange',\n",
    "    bottom=False,      \n",
    "    top=False,        \n",
    "    labelbottom=True)\n",
    "plt.legend()\n",
    "plt.show()"
   ]
  },
  {
   "cell_type": "code",
   "execution_count": null,
   "id": "9e9f138b",
   "metadata": {},
   "outputs": [],
   "source": [
    "# Closer display\n",
    "month_diff.plot()\n",
    "plt.tick_params(\n",
    "    axis='x',        \n",
    "    which='both',\n",
    "    color='orange',\n",
    "    bottom=False,      \n",
    "    top=False,        \n",
    "    labelbottom='CPI')\n",
    "plt.show();"
   ]
  },
  {
   "cell_type": "markdown",
   "id": "c8945f61",
   "metadata": {
    "jp-MarkdownHeadingCollapsed": true,
    "tags": []
   },
   "source": [
    "\n",
    "### ACF/PACF\n",
    "\n",
    "We can use these two functions to allow us to see at which level of lag is most significant towards the current value.\n"
   ]
  },
  {
   "cell_type": "code",
   "execution_count": null,
   "id": "de921f7d",
   "metadata": {},
   "outputs": [],
   "source": [
    "# Autocorrelation\n",
    "acf_month = acf(month['Cpi'])\n",
    "acf_month"
   ]
  },
  {
   "cell_type": "markdown",
   "id": "3466f9f8",
   "metadata": {},
   "source": [
    "Nice, we can definitely tell the difference, but let's see if we can do better"
   ]
  },
  {
   "cell_type": "markdown",
   "id": "3e502e38",
   "metadata": {},
   "source": [
    "Most important is ?"
   ]
  },
  {
   "cell_type": "code",
   "execution_count": null,
   "id": "19a56bff",
   "metadata": {},
   "outputs": [],
   "source": [
    "plot_acf(month_diff, lags=12);"
   ]
  },
  {
   "cell_type": "code",
   "execution_count": null,
   "id": "0a6f77b8",
   "metadata": {
    "scrolled": true
   },
   "outputs": [],
   "source": [
    "# Partial autocorrelation\n",
    "pacf_month = pacf(month['Cpi'])\n",
    "pacf_month.round(2)"
   ]
  },
  {
   "cell_type": "code",
   "execution_count": null,
   "id": "195e6e25",
   "metadata": {},
   "outputs": [],
   "source": [
    "plot_pacf(pacf_month, lags=12);"
   ]
  },
  {
   "cell_type": "code",
   "execution_count": null,
   "id": "db70b4e5",
   "metadata": {},
   "outputs": [],
   "source": [
    "# Visualize our plots\n",
    "plt.title('Consumer Price Index with First-order difference', size=25)\n",
    "plt.plot(month['Cpi'], label='CPI')\n",
    "plt.plot(month_diff, label='First-order difference', color='orange')\n",
    "plt.legend();"
   ]
  },
  {
   "cell_type": "markdown",
   "id": "dab47f11",
   "metadata": {},
   "source": [
    "\n",
    "## Auto-ARIMA"
   ]
  },
  {
   "cell_type": "code",
   "execution_count": null,
   "id": "6d8bfdce",
   "metadata": {},
   "outputs": [],
   "source": [
    "from pmdarima import auto_arima\n",
    "\n",
    "month_fit = auto_arima(month_diff,start_p=0, d=0, start_q=0, \n",
    "                          max_p=3, max_d=3, max_q=3, start_P=0, \n",
    "                          D=1, start_Q=0, max_P=3, max_D=3,\n",
    "                          max_Q=3, m=12, seasonal=True, \n",
    "                          error_action='warn',trace = True,\n",
    "                          supress_warnings=True,stepwise = True,\n",
    "                          random_state=42,n_fits = 50 )\n",
    "\n",
    "month_fit.summary()"
   ]
  },
  {
   "cell_type": "markdown",
   "id": "8009618a",
   "metadata": {
    "jp-MarkdownHeadingCollapsed": true,
    "tags": []
   },
   "source": [
    "\n",
    "## SARIMAX\n",
    "\n",
    "Using the SARIMAX model we will incorporate two orders. The first-order is p,d,q and the other is P,D,Q,m to accountfor seasonality."
   ]
  },
  {
   "cell_type": "code",
   "execution_count": null,
   "id": "33b515e4",
   "metadata": {},
   "outputs": [],
   "source": [
    "# Split data into train / test sets\n",
    "train = month['Cpi'].iloc[:len(month['Cpi'])-3]\n",
    "test = month['Cpi'].iloc[len(month['Cpi'])-3:] # set one year(12 months) for testing\n",
    "  \n",
    "from statsmodels.tsa.statespace.sarimax import SARIMAX\n",
    "  \n",
    "model = SARIMAX(train,\n",
    "                order = (1, 1,0))\n",
    "  \n",
    "result = model.fit()\n",
    "result.summary()"
   ]
  },
  {
   "cell_type": "code",
   "execution_count": null,
   "id": "6b66f92a",
   "metadata": {},
   "outputs": [],
   "source": [
    "start = len(train)\n",
    "end = len(train) + len(test) + 10   #10 years into the future\n",
    "  \n",
    "# Predictions for one-year against the test set\n",
    "predictions = result.predict(start, end,\n",
    "                             typ = 'levels').rename(\"Predictions\")\n",
    "  \n",
    "# plot predictions and actual values\n",
    "predictions.plot(legend = True);\n",
    "test.plot(legend = True);"
   ]
  },
  {
   "cell_type": "markdown",
   "id": "81f5b883",
   "metadata": {},
   "source": [
    "## External code (COME BACK BUT NOT RELEVANT)"
   ]
  },
  {
   "cell_type": "code",
   "execution_count": null,
   "id": "d1869e73",
   "metadata": {},
   "outputs": [],
   "source": [
    "import plotly.graph_objects as go"
   ]
  },
  {
   "cell_type": "code",
   "execution_count": null,
   "id": "080c7203",
   "metadata": {},
   "outputs": [],
   "source": [
    "#month['Cpi'] = np.where(month['Cpi'] > month['Cpi'].shift(1), 1, -1)\n",
    "\n",
    "\n",
    "#fig = go.Figure(data=go.Scatter(\n",
    "#                    y=np.exp(month['Cpi'].cumsum()),\n",
    "#                    x=month.index,\n",
    "#                    name=\"Cpi\")\n",
    "#               )\n",
    "fig.add_trace(\n",
    "        go.Scatter(\n",
    "            y=np.log(month['Cpi']),\n",
    "            x=month.index,\n",
    "            name=\"Predictions\")\n",
    "    )\n",
    "fig.update_layout(title=dict(text=\"Consumer Price Index\",font=dict(size=18)),\n",
    "                 legend=dict(font=dict(size=10)),\n",
    "                  width=600,\n",
    "                  height=500)\n",
    "\n",
    "fig.update_xaxes(tickfont=dict(size=15, color=\"#434\"))\n",
    "fig.update_yaxes(tickfont=dict(size=15, color=\"#434\"))\n",
    "\n",
    "fig.show()"
   ]
  },
  {
   "cell_type": "code",
   "execution_count": null,
   "id": "14ca7325",
   "metadata": {},
   "outputs": [],
   "source": [
    "from sklearn.metrics import mean_squared_error\n",
    "from statsmodels.tools.eval_measures import rmse\n",
    "# Mse - always non-negative and values close to zero are better\n",
    "# Incorporates both the variance of the estimator and its bias.\n",
    "\n",
    "rmse(test, predictions)\n",
    "mean_squared_error(test, predictions)"
   ]
  },
  {
   "cell_type": "code",
   "execution_count": null,
   "id": "d2f13e34",
   "metadata": {},
   "outputs": [],
   "source": [
    "# Train the model on the full dataset\n",
    "model = model = SARIMAX(month_diff, \n",
    "                        order = (0, 1, 1), \n",
    "                        seasonal_order =(2, 1, 1, 12))\n",
    "result = model.fit()\n",
    "  \n",
    "# Forecast for the next 3 years\n",
    "forecast = result.predict(start = len(month_diff), \n",
    "                          end = (len(month_diff)-1) + 3 * 12, \n",
    "                          typ = 'levels').rename('Forecast')\n",
    "  \n",
    "# Plot the forecast values\n",
    "month_diff.plot(figsize = (12, 5), legend = True)\n",
    "forecast.plot(legend = True);\n"
   ]
  },
  {
   "cell_type": "code",
   "execution_count": null,
   "id": "9b71f2e4",
   "metadata": {},
   "outputs": [],
   "source": [
    "#from sklearn.model_selection import train_test_split\n",
    "#train, val = train_test_split(month, test_size=len(test),  \n",
    "#                              random_state=42)"
   ]
  },
  {
   "cell_type": "code",
   "execution_count": null,
   "id": "7abb01e1",
   "metadata": {},
   "outputs": [],
   "source": [
    "start = len(month_diff)\n",
    "end = len(month['Cpi']) + len(test) - 1\n",
    "  \n",
    "# Predictions for one-year against the test set\n",
    "predictions = result.predict(start, end,\n",
    "                             typ = 'levels').rename(\"Predictions\")\n",
    "  \n",
    "# plot predictions and actual values\n",
    "predictions.plot(legend = True);\n",
    "test.plot(legend = True);"
   ]
  },
  {
   "cell_type": "markdown",
   "id": "144e2c1d",
   "metadata": {},
   "source": [
    "\n",
    "### Alternate version\n"
   ]
  },
  {
   "cell_type": "code",
   "execution_count": null,
   "id": "28a06216",
   "metadata": {},
   "outputs": [],
   "source": [
    "mod = sm.tsa.statespace.SARIMAX(month_diff, order=(2,1,1), seasonal_order=(1,1,0,100), simple_differencing=True)\n",
    "res = mod.fit(disp=False)\n",
    "print(res.summary())"
   ]
  },
  {
   "cell_type": "code",
   "execution_count": null,
   "id": "8e57d773",
   "metadata": {},
   "outputs": [],
   "source": [
    "# In-sample one-step-ahead predictions\n",
    "predict = res.get_prediction()\n",
    "predict_ci = predict.conf_int()\n",
    "predict_ci"
   ]
  },
  {
   "cell_type": "code",
   "execution_count": null,
   "id": "09684861",
   "metadata": {},
   "outputs": [],
   "source": []
  }
 ],
 "metadata": {
  "kernelspec": {
   "display_name": "NNse",
   "language": "python",
   "name": "u4-s1-nns"
  },
  "language_info": {
   "codemirror_mode": {
    "name": "ipython",
    "version": 3
   },
   "file_extension": ".py",
   "mimetype": "text/x-python",
   "name": "python",
   "nbconvert_exporter": "python",
   "pygments_lexer": "ipython3",
   "version": "3.8.5"
  }
 },
 "nbformat": 4,
 "nbformat_minor": 5
}
