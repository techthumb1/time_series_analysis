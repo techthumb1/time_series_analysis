{
 "cells": [
  {
   "cell_type": "code",
   "execution_count": 104,
   "id": "bfdc0c48",
   "metadata": {},
   "outputs": [],
   "source": [
    "#pip install pmdarima"
   ]
  },
  {
   "cell_type": "markdown",
   "id": "de80a258",
   "metadata": {
    "tags": []
   },
   "source": [
    "# CPI State Space Model Using ARIMA Method\n",
    "\n",
    "[10 year US Government Bond Yields (long-term interest rate)](https://datahub.io/core/bond-yields-us-10y#readme)\n",
    "***\n",
    "\n",
    "### Steps for ARIMA implementation\n",
    "\n",
    "- **Load the data**: The first step for model building is of course to load the dataset\n",
    "- **Preprocessing**: Depending on the dataset, the steps of preprocessing will be defined. This will include creating timestamps, converting the dtype of date/time column, making the series univariate, etc.\n",
    "- **Make series stationary**: In order to satisfy the assumption, it is necessary to make the series stationary. This would include checking the stationarity of the series and performing required transformations\n",
    "- **Determine d value**: For making the series stationary, the number of times the difference operation was performed will be taken as the d value\n",
    "- **Create ACF and PACF plots**: This is the most important step in ARIMA implementation. ACF PACF plots are used to determine the input parameters for our ARIMA model\n",
    "- **Determine the p and q values**: Read the values of p and q from the plots in the previous step\n",
    "- **Fit ARIMA model**: Using the processed data and parameter values we calculated from the previous steps, fit the ARIMA model\n",
    "- **Predict values on validation set**: Predict the future values\n",
    "- **Calculate RMSE**: To check the performance of the model, check the RMSE value using the predictions and actual values on the validation set\n",
    "***\n",
    "\n",
    "### Load the Data\n",
    "\n",
    "We will include Statsmodels into our workflow which we will use specifically for its powerful TSA models.The functions of use will are:\n",
    "- ARIMA\n",
    "- SARIMAX\n",
    "- SEASONAL DECOMPOSE\n",
    "- AUTO CORRELATION AND PARTIAL CORRELATION\n",
    "- ACF AND PACF PLOT\n",
    "- ADF FULLER - TEST\n",
    "- KPSS\n",
    "\n",
    "**Given the variety of tools, we can provide more accurate and useful predictions.**\n"
   ]
  },
  {
   "cell_type": "code",
   "execution_count": 105,
   "id": "953994c0",
   "metadata": {},
   "outputs": [],
   "source": [
    "#conda install seaborn"
   ]
  },
  {
   "cell_type": "code",
   "execution_count": 106,
   "id": "1166c4c2",
   "metadata": {},
   "outputs": [
    {
     "name": "stdout",
     "output_type": "stream",
     "text": [
      "Matplotlib: 3.3.2\n",
      "Pandas: 1.1.3\n",
      "Numpy: 1.23.0\n",
      "StatsModel: 0.12.2\n",
      "Scipy: 1.5.2\n",
      "Seaborn: 0.11.2\n"
     ]
    }
   ],
   "source": [
    "# Importing required libraries\n",
    "import pandas as pd\n",
    "import numpy as np\n",
    "import seaborn as sns\n",
    "import matplotlib\n",
    "import matplotlib.pyplot as plt\n",
    "\n",
    "import statsmodels.api as sm\n",
    "import statsmodels\n",
    "from statsmodels.tsa.statespace.sarimax import SARIMAX\n",
    "from statsmodels.tsa.seasonal import seasonal_decompose\n",
    "from statsmodels.tsa.stattools import acf, pacf\n",
    "from statsmodels.graphics.tsaplots import plot_acf, plot_pacf\n",
    "from statsmodels.tsa.stattools import adfuller\n",
    "from pmdarima.arima import ADFTest\n",
    "from statsmodels.tsa.stattools import kpss\n",
    "\n",
    "import scipy\n",
    "from scipy.stats import pearsonr\n",
    "\n",
    "from sklearn.metrics import mean_squared_error\n",
    "from statsmodels.tools.eval_measures import rmse\n",
    "\n",
    "#matplotlib.rcParams['figure.figsize'] = [8, 3]\n",
    "%matplotlib inline\n",
    "\n",
    "import warnings\n",
    "warnings.filterwarnings(\"ignore\")\n",
    "\n",
    "#from matplotlib import rcParams\n",
    "#from cycler import cycler\n",
    "\n",
    "#rcParams['figure.figsize'] = 18, 5\n",
    "#rcParams['axes.spines.top'] = True\n",
    "#rcParams['axes.spines.right'] = True\n",
    "#rcParams['axes.prop_cycle'] = cycler(color=['#365977'])\n",
    "#rcParams['lines.linewidth'] = 2.5\n",
    "\n",
    "print('Matplotlib:',matplotlib.__version__)\n",
    "print('Pandas:',pd.__version__)\n",
    "print('Numpy:',np.__version__)\n",
    "print('StatsModel:',statsmodels.__version__)\n",
    "print('Scipy:',scipy.__version__)\n",
    "print('Seaborn:', sns.__version__)"
   ]
  },
  {
   "cell_type": "code",
   "execution_count": 107,
   "id": "742654d7",
   "metadata": {},
   "outputs": [],
   "source": [
    "# read in cpi data\\\n",
    "month = pd.read_csv('/Users/jasonrobinson/Documents/Projects/bls_project/data/cpi_avg_price_data.csv', parse_dates=['Year'], index_col='Year')"
   ]
  },
  {
   "cell_type": "markdown",
   "id": "a58caae7",
   "metadata": {},
   "source": [
    "### Preprocessing"
   ]
  },
  {
   "cell_type": "code",
   "execution_count": 108,
   "id": "05f9d9d0",
   "metadata": {},
   "outputs": [],
   "source": [
    "# Drop unncessary column\n",
    "month = month.drop('Series ID', axis=1)\n",
    "# Remove leaky data\n",
    "month = month[:-2]\n",
    "# Sum each row for univariate analysis\n",
    "#month = months.sum(axis=1)"
   ]
  },
  {
   "cell_type": "markdown",
   "id": "299e64c0",
   "metadata": {},
   "source": [
    "**Task**: Either use univariate or multivariate time series analysis.\n",
    "If multivariate incorporate method to sum or average annual value for specific year"
   ]
  },
  {
   "cell_type": "code",
   "execution_count": 109,
   "id": "b292c699",
   "metadata": {},
   "outputs": [],
   "source": [
    "month['Cpi'] = month.sum(axis=1)"
   ]
  },
  {
   "cell_type": "code",
   "execution_count": 110,
   "id": "fc3749c0",
   "metadata": {},
   "outputs": [
    {
     "data": {
      "text/plain": [
       "Year\n",
       "1913-01-01     118.600\n",
       "1914-01-01     120.200\n",
       "1915-01-01     121.300\n",
       "1916-01-01     130.600\n",
       "1917-01-01     153.900\n",
       "                ...   \n",
       "2016-01-01    2880.086\n",
       "2017-01-01    2941.435\n",
       "2018-01-01    3013.282\n",
       "2019-01-01    3067.889\n",
       "2020-01-01    3105.734\n",
       "Name: Cpi, Length: 108, dtype: float64"
      ]
     },
     "execution_count": 110,
     "metadata": {},
     "output_type": "execute_result"
    }
   ],
   "source": [
    "month['Cpi']"
   ]
  },
  {
   "cell_type": "markdown",
   "id": "aced1fe5",
   "metadata": {
    "jp-MarkdownHeadingCollapsed": true,
    "tags": []
   },
   "source": [
    "\n",
    "### Visualize our data\n",
    "\n",
    "For the entire range we see an upward and downward non-stationary trend."
   ]
  },
  {
   "cell_type": "code",
   "execution_count": 111,
   "id": "9afba650",
   "metadata": {},
   "outputs": [
    {
     "data": {
      "image/png": "[encoded data removed]",
      "text/plain": [
       "<Figure size 360x360 with 1 Axes>"
      ]
     },
     "metadata": {
      "needs_background": "light"
     },
     "output_type": "display_data"
    }
   ],
   "source": [
    "sns.displot(data=month['Cpi']);"
   ]
  },
  {
   "cell_type": "code",
   "execution_count": 112,
   "id": "bdc8ae79",
   "metadata": {},
   "outputs": [
    {
     "data": {
      "image/png": "[encoded data removed]",
      "text/plain": [
       "<Figure size 432x288 with 1 Axes>"
      ]
     },
     "metadata": {
      "needs_background": "light"
     },
     "output_type": "display_data"
    }
   ],
   "source": [
    "month['Cpi'].plot(grid=True);"
   ]
  },
  {
   "cell_type": "code",
   "execution_count": 113,
   "id": "824dda02",
   "metadata": {},
   "outputs": [
    {
     "data": {
      "image/png": "[encoded data removed]",
      "text/plain": [
       "<Figure size 432x288 with 1 Axes>"
      ]
     },
     "metadata": {
      "needs_background": "light"
     },
     "output_type": "display_data"
    }
   ],
   "source": [
    "# Comparing 2 previous decades\n",
    "plt.scatter(month['Cpi']['1990':'2000'], month['Cpi']['2000':'2010']);"
   ]
  },
  {
   "cell_type": "code",
   "execution_count": 114,
   "id": "82ae93ab",
   "metadata": {},
   "outputs": [
    {
     "data": {
      "image/png": "[encoded data removed]",
      "text/plain": [
       "<Figure size 432x288 with 1 Axes>"
      ]
     },
     "metadata": {
      "needs_background": "light"
     },
     "output_type": "display_data"
    }
   ],
   "source": [
    "month['Cpi']['1980':'1990'].plot();"
   ]
  },
  {
   "cell_type": "markdown",
   "id": "90ea1439",
   "metadata": {
    "jp-MarkdownHeadingCollapsed": true,
    "tags": []
   },
   "source": [
    "\n",
    "### Test for Stationarity\n",
    "\n",
    "To be capable of applying an **ARIMA** method, we will first need to add stationarity. First let's confirm that our time series is not stationary. A few methods exist for this, but we will use the **KPSS** method.\n",
    "\n"
   ]
  },
  {
   "cell_type": "code",
   "execution_count": 115,
   "id": "d34dab01",
   "metadata": {},
   "outputs": [
    {
     "data": {
      "text/plain": [
       "(0.9110032211266553, True)"
      ]
     },
     "execution_count": 115,
     "metadata": {},
     "output_type": "execute_result"
    }
   ],
   "source": [
    "from pmdarima.arima import ADFTest\n",
    "# Augmented Dickey-Fuller test\n",
    "\n",
    "adf_test = ADFTest(alpha=0.05)\n",
    "adf_test.should_diff(month['Cpi'])"
   ]
  },
  {
   "cell_type": "code",
   "execution_count": 116,
   "id": "73ec1a15",
   "metadata": {},
   "outputs": [],
   "source": [
    "#from statsmodels.tsa.stattools import adfuller\n",
    "## We acquire greater results through adfuller\n",
    "#\n",
    "#def adf_test(month):\n",
    "#    print(\"Results of Dickey-Fuller Test:\")\n",
    "#    dftest = adfuller(month['Cpi'], autolag=\"AIC\")\n",
    "#    dfoutput = pd.Series(\n",
    "#        dftest[0:4],\n",
    "#        index=[\n",
    "#            \"Test Statistic\",\n",
    "#            \"p-value\",\n",
    "#            \"#Lags Used\",\n",
    "#            \"Number of Observations Used\",\n",
    "#        ],\n",
    "#    )\n",
    "#    for key, value in dftest[4].items():\n",
    "#        dfoutput[\"Critical Value (%s)\" % key] = value\n",
    "#    print(dfoutput)\n",
    "#    \n",
    "#\n",
    "#    \n",
    "#adf_test(month)"
   ]
  },
  {
   "cell_type": "code",
   "execution_count": 117,
   "id": "baaaf873",
   "metadata": {},
   "outputs": [],
   "source": [
    "#from statsmodels.tsa.stattools import kpss\n",
    "#\n",
    "#\n",
    "#def kpss_test(month):\n",
    "#    print(\"Results of KPSS Test:\")\n",
    "#    kpsstest = kpss(month['Cpi'], regression=\"ct\", nlags=\"auto\")\n",
    "#    kpss_output = pd.Series(\n",
    "#        kpsstest[0:3], index=[\"Test Statistic\", \"p-value\", \"Lags Used\"]\n",
    "#    )\n",
    "#    for key, value in kpsstest[3].items():\n",
    "#        kpss_output[\"Critical Value (%s)\" % key] = value\n",
    "#    print(kpss_output)\n",
    "#    \n",
    "#    \n",
    "#    \n",
    "#kpss_test(month)"
   ]
  },
  {
   "cell_type": "code",
   "execution_count": 118,
   "id": "605e5d22",
   "metadata": {},
   "outputs": [],
   "source": [
    "# Reject the null hypothesis - test statistic actual pvalue smaller\n",
    "#sm.tsa.stattools.kpss(month, regression='ct')"
   ]
  },
  {
   "cell_type": "code",
   "execution_count": 119,
   "id": "d1aa7c72",
   "metadata": {},
   "outputs": [
    {
     "data": {
      "image/png": "[encoded data removed]",
      "text/plain": [
       "<Figure size 432x288 with 4 Axes>"
      ]
     },
     "metadata": {
      "needs_background": "light"
     },
     "output_type": "display_data"
    }
   ],
   "source": [
    "from statsmodels.tsa.seasonal import seasonal_decompose\n",
    "\n",
    "seas_dcomp = seasonal_decompose(month['Cpi'],period=12,model='multiplicative')\n",
    "seas_dcomp.plot();"
   ]
  },
  {
   "cell_type": "markdown",
   "id": "0c6116df",
   "metadata": {
    "jp-MarkdownHeadingCollapsed": true,
    "tags": []
   },
   "source": [
    "\n",
    "### Make Series Stationary Using Log Transform\n"
   ]
  },
  {
   "cell_type": "code",
   "execution_count": 120,
   "id": "af4d29fd",
   "metadata": {},
   "outputs": [],
   "source": [
    "#Transform the data from non-statinary to stationary\n",
    "month_log = np.log(month['Cpi'])\n",
    "month_diff = month_log.diff().dropna()"
   ]
  },
  {
   "cell_type": "code",
   "execution_count": 121,
   "id": "e478442a",
   "metadata": {},
   "outputs": [
    {
     "name": "stdout",
     "output_type": "stream",
     "text": [
      "Test Statistic: -4.223977\n",
      "p-value: 0.000600\n",
      "Critical values:\n",
      "\t1%: -3.495\n",
      "\t5%: -2.890\n",
      "\t10%: -2.582\n"
     ]
    }
   ],
   "source": [
    "# Check for stationarity\n",
    "result = adfuller(month_diff)\n",
    "print('Test Statistic: %f' %result[0])\n",
    "print('p-value: %f' %result[1])\n",
    "print('Critical values:')\n",
    "for key, value in result[4].items ():\n",
    "     print('\\t%s: %.3f' %(key, value))"
   ]
  },
  {
   "cell_type": "code",
   "execution_count": 122,
   "id": "952cec9b",
   "metadata": {},
   "outputs": [
    {
     "name": "stdout",
     "output_type": "stream",
     "text": [
      "Test Statistic: 0.080000\n",
      "p-value: 0.100000\n",
      "Critical values:\n",
      "\t10%: 0.119\n",
      "\t5%: 0.146\n",
      "\t2.5%: 0.176\n",
      "\t1%: 0.216\n"
     ]
    }
   ],
   "source": [
    "result_kpss_ct_log=kpss(month_diff,regression=\"ct\")\n",
    "print('Test Statistic: %f' % np.round(result_kpss_ct_log[0],2))\n",
    "print('p-value: %f' %result_kpss_ct_log[1])\n",
    "print('Critical values:')\n",
    "for key, value in result_kpss_ct_log[3].items():\n",
    "     print('\\t%s: %.3f' %(key, value))"
   ]
  },
  {
   "cell_type": "code",
   "execution_count": 123,
   "id": "c052bf20",
   "metadata": {},
   "outputs": [],
   "source": [
    "#month_new = month['Cpi']\n",
    "#month_24 = month_new[777:-7]\n",
    "#month_24.shape"
   ]
  },
  {
   "cell_type": "code",
   "execution_count": 124,
   "id": "062e8404",
   "metadata": {},
   "outputs": [
    {
     "data": {
      "image/png": "[encoded data removed]",
      "text/plain": [
       "<Figure size 1080x576 with 1 Axes>"
      ]
     },
     "metadata": {
      "needs_background": "light"
     },
     "output_type": "display_data"
    }
   ],
   "source": [
    "# Before and After confirmation\n",
    "plt.figure(figsize=(15,8))\n",
    "plt.plot(month_diff,label=\"after\")\n",
    "plt.plot(month['Cpi'],label=\"before\")\n",
    "plt.tick_params(\n",
    "    axis='x',        \n",
    "    which='both',\n",
    "    color='orange',\n",
    "    bottom=False,      \n",
    "    top=False,        \n",
    "    labelbottom=True)\n",
    "plt.legend()\n",
    "plt.show()"
   ]
  },
  {
   "cell_type": "code",
   "execution_count": 125,
   "id": "9e9f138b",
   "metadata": {},
   "outputs": [
    {
     "data": {
      "image/png": "[encoded data removed]",
      "text/plain": [
       "<Figure size 432x288 with 1 Axes>"
      ]
     },
     "metadata": {
      "needs_background": "light"
     },
     "output_type": "display_data"
    }
   ],
   "source": [
    "# Closer display\n",
    "month_diff.plot()\n",
    "plt.tick_params(\n",
    "    axis='x',        \n",
    "    which='both',\n",
    "    color='orange',\n",
    "    bottom=False,      \n",
    "    top=False,        \n",
    "    labelbottom=True)\n",
    "plt.show();"
   ]
  },
  {
   "cell_type": "markdown",
   "id": "c8945f61",
   "metadata": {
    "jp-MarkdownHeadingCollapsed": true,
    "tags": []
   },
   "source": [
    "\n",
    "### ACF/PACF\n",
    "\n",
    "We can use these two functions to allow us to see at which level of lag is most significant towards the current value.\n"
   ]
  },
  {
   "cell_type": "code",
   "execution_count": 126,
   "id": "1092e132",
   "metadata": {},
   "outputs": [],
   "source": [
    "# First order \n",
    "#month['Rate_diff'] = month['Rate'].diff(periods=12)\n",
    "#month['Rate'] = month.dropna()"
   ]
  },
  {
   "cell_type": "code",
   "execution_count": 127,
   "id": "de921f7d",
   "metadata": {},
   "outputs": [
    {
     "data": {
      "text/plain": [
       "array([ 1.        ,  0.97226177,  0.94376403,  0.91502436,  0.886538  ,\n",
       "        0.8582401 ,  0.82958629,  0.79984949,  0.77005225,  0.73962653,\n",
       "        0.70905068,  0.67903199,  0.64867557,  0.61695212,  0.58617789,\n",
       "        0.55576657,  0.52590167,  0.49665389,  0.46761193,  0.43849604,\n",
       "        0.40901101,  0.37980182,  0.35119183,  0.32264484,  0.29384551,\n",
       "        0.26517594,  0.23680402,  0.20863375,  0.18058638,  0.1528698 ,\n",
       "        0.12562478,  0.0991824 ,  0.0737833 ,  0.049211  ,  0.02533696,\n",
       "        0.00220955, -0.02072474, -0.04325359, -0.06520567, -0.08669941,\n",
       "       -0.10716312])"
      ]
     },
     "execution_count": 127,
     "metadata": {},
     "output_type": "execute_result"
    }
   ],
   "source": [
    "# Autocorrelation\n",
    "acf_month = acf(month['Cpi'])\n",
    "acf_month"
   ]
  },
  {
   "cell_type": "markdown",
   "id": "3466f9f8",
   "metadata": {},
   "source": [
    "Nice, we can definitely tell the difference, but let's see if we can do better"
   ]
  },
  {
   "cell_type": "markdown",
   "id": "3e502e38",
   "metadata": {},
   "source": [
    "Most important is ?"
   ]
  },
  {
   "cell_type": "code",
   "execution_count": 128,
   "id": "19a56bff",
   "metadata": {},
   "outputs": [
    {
     "data": {
      "image/png": "[encoded data removed]",
      "text/plain": [
       "<Figure size 432x288 with 1 Axes>"
      ]
     },
     "metadata": {
      "needs_background": "light"
     },
     "output_type": "display_data"
    }
   ],
   "source": [
    "plot_acf(month_diff, lags=12);"
   ]
  },
  {
   "cell_type": "code",
   "execution_count": 129,
   "id": "0a6f77b8",
   "metadata": {
    "scrolled": true
   },
   "outputs": [
    {
     "data": {
      "text/plain": [
       "array([ 1.  ,  0.98, -0.04, -0.03, -0.01, -0.02, -0.03, -0.05, -0.02,\n",
       "       -0.04, -0.03, -0.01, -0.04, -0.07,  0.  , -0.02, -0.02, -0.01,\n",
       "       -0.02, -0.03, -0.05, -0.02, -0.02, -0.04, -0.05, -0.04, -0.03,\n",
       "       -0.04, -0.04, -0.04, -0.03, -0.02, -0.01, -0.02, -0.03, -0.03,\n",
       "       -0.05, -0.05, -0.04, -0.05, -0.03])"
      ]
     },
     "execution_count": 129,
     "metadata": {},
     "output_type": "execute_result"
    }
   ],
   "source": [
    "# Partial autocorrelation\n",
    "pacf_month = pacf(month['Cpi'])\n",
    "pacf_month.round(2)"
   ]
  },
  {
   "cell_type": "code",
   "execution_count": 130,
   "id": "195e6e25",
   "metadata": {},
   "outputs": [
    {
     "data": {
      "image/png": "[encoded data removed]",
      "text/plain": [
       "<Figure size 432x288 with 1 Axes>"
      ]
     },
     "metadata": {
      "needs_background": "light"
     },
     "output_type": "display_data"
    }
   ],
   "source": [
    "plot_pacf(pacf_month, lags=12);"
   ]
  },
  {
   "cell_type": "code",
   "execution_count": 131,
   "id": "db70b4e5",
   "metadata": {},
   "outputs": [
    {
     "data": {
      "image/png": "[encoded data removed]",
      "text/plain": [
       "<Figure size 432x288 with 1 Axes>"
      ]
     },
     "metadata": {
      "needs_background": "light"
     },
     "output_type": "display_data"
    }
   ],
   "source": [
    "# Visualize our plots\n",
    "plt.title('Consumer Price Index with First-order difference', size=25)\n",
    "plt.plot(month['Cpi'], label='CPI')\n",
    "plt.plot(month_diff, label='First-order difference', color='orange')\n",
    "plt.legend();"
   ]
  },
  {
   "cell_type": "markdown",
   "id": "dab47f11",
   "metadata": {},
   "source": [
    "\n",
    "## Auto-ARIMA"
   ]
  },
  {
   "cell_type": "code",
   "execution_count": 132,
   "id": "6d8bfdce",
   "metadata": {},
   "outputs": [
    {
     "name": "stdout",
     "output_type": "stream",
     "text": [
      "Performing stepwise search to minimize aic\n",
      " ARIMA(1,0,0)(0,1,0)[12] intercept   : AIC=-306.949, Time=0.25 sec\n",
      " ARIMA(0,0,0)(0,1,0)[12] intercept   : AIC=-241.643, Time=0.03 sec\n",
      " ARIMA(1,0,0)(1,1,0)[12] intercept   : AIC=-326.632, Time=0.54 sec\n",
      " ARIMA(0,0,1)(0,1,1)[12] intercept   : AIC=-316.789, Time=0.70 sec\n",
      " ARIMA(0,0,0)(0,1,0)[12]             : AIC=-243.282, Time=0.02 sec\n",
      " ARIMA(1,0,0)(2,1,0)[12] intercept   : AIC=-325.804, Time=2.00 sec\n",
      " ARIMA(1,0,0)(1,1,1)[12] intercept   : AIC=-327.542, Time=0.65 sec\n",
      " ARIMA(1,0,0)(0,1,1)[12] intercept   : AIC=-328.911, Time=0.74 sec\n",
      " ARIMA(1,0,0)(0,1,2)[12] intercept   : AIC=-327.315, Time=1.23 sec\n",
      " ARIMA(1,0,0)(1,1,2)[12] intercept   : AIC=-325.914, Time=1.33 sec\n",
      " ARIMA(0,0,0)(0,1,1)[12] intercept   : AIC=inf, Time=0.48 sec\n",
      " ARIMA(2,0,0)(0,1,1)[12] intercept   : AIC=-333.454, Time=0.70 sec\n",
      " ARIMA(2,0,0)(0,1,0)[12] intercept   : AIC=-312.584, Time=0.39 sec\n",
      " ARIMA(2,0,0)(1,1,1)[12] intercept   : AIC=-331.984, Time=0.75 sec\n",
      " ARIMA(2,0,0)(0,1,2)[12] intercept   : AIC=-331.861, Time=0.74 sec\n",
      " ARIMA(2,0,0)(1,1,0)[12] intercept   : AIC=-331.183, Time=0.76 sec\n",
      " ARIMA(2,0,0)(1,1,2)[12] intercept   : AIC=-330.387, Time=1.71 sec\n",
      " ARIMA(3,0,0)(0,1,1)[12] intercept   : AIC=-334.906, Time=0.73 sec\n",
      " ARIMA(3,0,0)(0,1,0)[12] intercept   : AIC=-318.678, Time=0.25 sec\n",
      " ARIMA(3,0,0)(1,1,1)[12] intercept   : AIC=-333.308, Time=1.12 sec\n",
      " ARIMA(3,0,0)(0,1,2)[12] intercept   : AIC=-333.356, Time=1.31 sec\n",
      " ARIMA(3,0,0)(1,1,0)[12] intercept   : AIC=-333.649, Time=1.22 sec\n",
      " ARIMA(3,0,0)(1,1,2)[12] intercept   : AIC=-331.765, Time=1.76 sec\n",
      " ARIMA(3,0,1)(0,1,1)[12] intercept   : AIC=-335.610, Time=0.83 sec\n",
      " ARIMA(3,0,1)(0,1,0)[12] intercept   : AIC=-319.781, Time=0.23 sec\n",
      " ARIMA(3,0,1)(1,1,1)[12] intercept   : AIC=-333.990, Time=0.99 sec\n",
      " ARIMA(3,0,1)(0,1,2)[12] intercept   : AIC=-333.943, Time=1.57 sec\n",
      " ARIMA(3,0,1)(1,1,0)[12] intercept   : AIC=-334.067, Time=0.65 sec\n",
      " ARIMA(3,0,1)(1,1,2)[12] intercept   : AIC=-332.158, Time=2.06 sec\n",
      " ARIMA(2,0,1)(0,1,1)[12] intercept   : AIC=-337.481, Time=1.08 sec\n",
      " ARIMA(2,0,1)(0,1,0)[12] intercept   : AIC=-320.328, Time=0.26 sec\n",
      " ARIMA(2,0,1)(1,1,1)[12] intercept   : AIC=-335.833, Time=0.91 sec\n",
      " ARIMA(2,0,1)(0,1,2)[12] intercept   : AIC=-335.898, Time=1.42 sec\n",
      " ARIMA(2,0,1)(1,1,0)[12] intercept   : AIC=-335.791, Time=0.91 sec\n",
      " ARIMA(2,0,1)(1,1,2)[12] intercept   : AIC=-334.250, Time=1.64 sec\n",
      " ARIMA(1,0,1)(0,1,1)[12] intercept   : AIC=-338.969, Time=0.37 sec\n",
      " ARIMA(1,0,1)(0,1,0)[12] intercept   : AIC=-322.210, Time=0.37 sec\n",
      " ARIMA(1,0,1)(1,1,1)[12] intercept   : AIC=-336.540, Time=0.80 sec\n",
      " ARIMA(1,0,1)(0,1,2)[12] intercept   : AIC=-337.367, Time=1.81 sec\n",
      " ARIMA(1,0,1)(1,1,0)[12] intercept   : AIC=-337.251, Time=0.25 sec\n",
      " ARIMA(1,0,1)(1,1,2)[12] intercept   : AIC=-335.723, Time=1.92 sec\n",
      " ARIMA(1,0,2)(0,1,1)[12] intercept   : AIC=-337.778, Time=1.15 sec\n",
      " ARIMA(0,0,2)(0,1,1)[12] intercept   : AIC=-337.061, Time=0.66 sec\n",
      " ARIMA(2,0,2)(0,1,1)[12] intercept   : AIC=-335.745, Time=1.00 sec\n",
      " ARIMA(1,0,1)(0,1,1)[12]             : AIC=-341.013, Time=1.27 sec\n",
      " ARIMA(1,0,1)(0,1,0)[12]             : AIC=-324.088, Time=0.23 sec\n",
      " ARIMA(1,0,1)(1,1,1)[12]             : AIC=-339.395, Time=0.57 sec\n",
      " ARIMA(1,0,1)(0,1,2)[12]             : AIC=-339.366, Time=1.72 sec\n",
      " ARIMA(1,0,1)(1,1,0)[12]             : AIC=-339.300, Time=0.37 sec\n",
      " ARIMA(1,0,1)(1,1,2)[12]             : AIC=-337.701, Time=1.15 sec\n",
      " ARIMA(0,0,1)(0,1,1)[12]             : AIC=-318.920, Time=0.41 sec\n",
      " ARIMA(1,0,0)(0,1,1)[12]             : AIC=-330.913, Time=0.44 sec\n",
      " ARIMA(2,0,1)(0,1,1)[12]             : AIC=-339.565, Time=0.98 sec\n",
      " ARIMA(1,0,2)(0,1,1)[12]             : AIC=-339.738, Time=0.94 sec\n",
      " ARIMA(0,0,0)(0,1,1)[12]             : AIC=inf, Time=0.32 sec\n",
      " ARIMA(0,0,2)(0,1,1)[12]             : AIC=-339.095, Time=0.63 sec\n",
      " ARIMA(2,0,0)(0,1,1)[12]             : AIC=-335.489, Time=0.65 sec\n",
      " ARIMA(2,0,2)(0,1,1)[12]             : AIC=-337.936, Time=0.76 sec\n",
      "\n",
      "Best model:  ARIMA(1,0,1)(0,1,1)[12]          \n",
      "Total fit time: 50.739 seconds\n"
     ]
    },
    {
     "data": {
      "text/html": [
       "<table class=\"simpletable\">\n",
       "<caption>SARIMAX Results</caption>\n",
       "<tr>\n",
       "  <th>Dep. Variable:</th>                  <td>y</td>               <th>  No. Observations:  </th>    <td>107</td>  \n",
       "</tr>\n",
       "<tr>\n",
       "  <th>Model:</th>           <td>SARIMAX(1, 0, 1)x(0, 1, 1, 12)</td> <th>  Log Likelihood     </th>  <td>174.507</td>\n",
       "</tr>\n",
       "<tr>\n",
       "  <th>Date:</th>                   <td>Sun, 17 Jul 2022</td>        <th>  AIC                </th> <td>-341.013</td>\n",
       "</tr>\n",
       "<tr>\n",
       "  <th>Time:</th>                       <td>11:42:31</td>            <th>  BIC                </th> <td>-330.798</td>\n",
       "</tr>\n",
       "<tr>\n",
       "  <th>Sample:</th>                         <td>0</td>               <th>  HQIC               </th> <td>-336.885</td>\n",
       "</tr>\n",
       "<tr>\n",
       "  <th></th>                             <td> - 107</td>             <th>                     </th>     <td> </td>   \n",
       "</tr>\n",
       "<tr>\n",
       "  <th>Covariance Type:</th>               <td>opg</td>              <th>                     </th>     <td> </td>   \n",
       "</tr>\n",
       "</table>\n",
       "<table class=\"simpletable\">\n",
       "<tr>\n",
       "      <td></td>        <th>coef</th>     <th>std err</th>      <th>z</th>      <th>P>|z|</th>  <th>[0.025</th>    <th>0.975]</th>  \n",
       "</tr>\n",
       "<tr>\n",
       "  <th>ar.L1</th>    <td>    0.3824</td> <td>    0.071</td> <td>    5.351</td> <td> 0.000</td> <td>    0.242</td> <td>    0.522</td>\n",
       "</tr>\n",
       "<tr>\n",
       "  <th>ma.L1</th>    <td>    0.5712</td> <td>    0.117</td> <td>    4.876</td> <td> 0.000</td> <td>    0.342</td> <td>    0.801</td>\n",
       "</tr>\n",
       "<tr>\n",
       "  <th>ma.S.L12</th> <td>   -0.6754</td> <td>    0.120</td> <td>   -5.650</td> <td> 0.000</td> <td>   -0.910</td> <td>   -0.441</td>\n",
       "</tr>\n",
       "<tr>\n",
       "  <th>sigma2</th>   <td>    0.0014</td> <td>    0.000</td> <td>    8.384</td> <td> 0.000</td> <td>    0.001</td> <td>    0.002</td>\n",
       "</tr>\n",
       "</table>\n",
       "<table class=\"simpletable\">\n",
       "<tr>\n",
       "  <th>Ljung-Box (L1) (Q):</th>     <td>0.01</td> <th>  Jarque-Bera (JB):  </th> <td>124.78</td>\n",
       "</tr>\n",
       "<tr>\n",
       "  <th>Prob(Q):</th>                <td>0.93</td> <th>  Prob(JB):          </th>  <td>0.00</td> \n",
       "</tr>\n",
       "<tr>\n",
       "  <th>Heteroskedasticity (H):</th> <td>0.06</td> <th>  Skew:              </th>  <td>1.10</td> \n",
       "</tr>\n",
       "<tr>\n",
       "  <th>Prob(H) (two-sided):</th>    <td>0.00</td> <th>  Kurtosis:          </th>  <td>8.16</td> \n",
       "</tr>\n",
       "</table><br/><br/>Warnings:<br/>[1] Covariance matrix calculated using the outer product of gradients (complex-step)."
      ],
      "text/plain": [
       "<class 'statsmodels.iolib.summary.Summary'>\n",
       "\"\"\"\n",
       "                                     SARIMAX Results                                      \n",
       "==========================================================================================\n",
       "Dep. Variable:                                  y   No. Observations:                  107\n",
       "Model:             SARIMAX(1, 0, 1)x(0, 1, 1, 12)   Log Likelihood                 174.507\n",
       "Date:                            Sun, 17 Jul 2022   AIC                           -341.013\n",
       "Time:                                    11:42:31   BIC                           -330.798\n",
       "Sample:                                         0   HQIC                          -336.885\n",
       "                                            - 107                                         \n",
       "Covariance Type:                              opg                                         \n",
       "==============================================================================\n",
       "                 coef    std err          z      P>|z|      [0.025      0.975]\n",
       "------------------------------------------------------------------------------\n",
       "ar.L1          0.3824      0.071      5.351      0.000       0.242       0.522\n",
       "ma.L1          0.5712      0.117      4.876      0.000       0.342       0.801\n",
       "ma.S.L12      -0.6754      0.120     -5.650      0.000      -0.910      -0.441\n",
       "sigma2         0.0014      0.000      8.384      0.000       0.001       0.002\n",
       "===================================================================================\n",
       "Ljung-Box (L1) (Q):                   0.01   Jarque-Bera (JB):               124.78\n",
       "Prob(Q):                              0.93   Prob(JB):                         0.00\n",
       "Heteroskedasticity (H):               0.06   Skew:                             1.10\n",
       "Prob(H) (two-sided):                  0.00   Kurtosis:                         8.16\n",
       "===================================================================================\n",
       "\n",
       "Warnings:\n",
       "[1] Covariance matrix calculated using the outer product of gradients (complex-step).\n",
       "\"\"\""
      ]
     },
     "execution_count": 132,
     "metadata": {},
     "output_type": "execute_result"
    }
   ],
   "source": [
    "from pmdarima import auto_arima\n",
    "\n",
    "month_fit = auto_arima(month_diff,start_p=1, d=0, start_q=0, \n",
    "                          max_p=3, max_d=3, max_q=3, start_P=0, \n",
    "                          D=1, start_Q=0, max_P=3, max_D=3,\n",
    "                          max_Q=3, m=12, seasonal=True, \n",
    "                          error_action='warn',trace = True,\n",
    "                          supress_warnings=True,stepwise = True,\n",
    "                          random_state=42,n_fits = 50 )\n",
    "\n",
    "month_fit.summary()"
   ]
  },
  {
   "cell_type": "markdown",
   "id": "8009618a",
   "metadata": {
    "jp-MarkdownHeadingCollapsed": true,
    "tags": []
   },
   "source": [
    "\n",
    "## SARIMAX\n",
    "\n",
    "Using the SARIMAX model we will incorporate two orders. The first-order is p,d,q and the other is P,D,Q,m to accountfor seasonality."
   ]
  },
  {
   "cell_type": "code",
   "execution_count": 139,
   "id": "f0d614af",
   "metadata": {},
   "outputs": [],
   "source": [
    "# Without validation\n",
    "#train = month['Cpi'][:-105]\n",
    "#test = month['Cpi'][-105:]\n",
    "train = month['Cpi'].iloc[:len(month['Cpi'])-3]\n",
    "test = month['Cpi'].iloc[len(month['Cpi'])-3:] "
   ]
  },
  {
   "cell_type": "code",
   "execution_count": 163,
   "id": "33b515e4",
   "metadata": {},
   "outputs": [
    {
     "name": "stderr",
     "output_type": "stream",
     "text": [
      " This problem is unconstrained.\n"
     ]
    },
    {
     "name": "stdout",
     "output_type": "stream",
     "text": [
      "RUNNING THE L-BFGS-B CODE\n",
      "\n",
      "           * * *\n",
      "\n",
      "Machine precision = 2.220D-16\n",
      " N =           14     M =           10\n",
      "\n",
      "At X0         0 variables are exactly at the bounds\n",
      "\n",
      "At iterate    0    f=  1.38861D+02    |proj g|=  3.12609D+02\n",
      "\n",
      "At iterate    5    f=  5.02172D+00    |proj g|=  2.60721D-01\n",
      "\n",
      "At iterate   10    f=  4.67138D+00    |proj g|=  2.91920D-01\n",
      "\n",
      "At iterate   15    f=  4.48146D+00    |proj g|=  1.48152D-01\n",
      "\n",
      "At iterate   20    f=  4.43391D+00    |proj g|=  7.53451D-02\n",
      "\n",
      "At iterate   25    f=  4.42177D+00    |proj g|=  1.00263D-01\n",
      "\n",
      "At iterate   30    f=  4.41258D+00    |proj g|=  7.34408D-02\n",
      "\n",
      "At iterate   35    f=  4.37890D+00    |proj g|=  7.56805D-02\n",
      "\n",
      "At iterate   40    f=  4.37114D+00    |proj g|=  1.70024D-02\n",
      "\n",
      "At iterate   45    f=  4.35805D+00    |proj g|=  1.57302D-01\n",
      "\n",
      "At iterate   50    f=  4.33575D+00    |proj g|=  1.70757D-01\n",
      "\n",
      "           * * *\n",
      "\n",
      "Tit   = total number of iterations\n",
      "Tnf   = total number of function evaluations\n",
      "Tnint = total number of segments explored during Cauchy searches\n",
      "Skip  = number of BFGS updates skipped\n",
      "Nact  = number of active bounds at final generalized Cauchy point\n",
      "Projg = norm of the final projected gradient\n",
      "F     = final function value\n",
      "\n",
      "           * * *\n",
      "\n",
      "   N    Tit     Tnf  Tnint  Skip  Nact     Projg        F\n",
      "   14     50     67      1     0     0   1.708D-01   4.336D+00\n",
      "  F =   4.3357543419467115     \n",
      "\n",
      "STOP: TOTAL NO. of ITERATIONS REACHED LIMIT                 \n"
     ]
    },
    {
     "data": {
      "text/html": [
       "<table class=\"simpletable\">\n",
       "<caption>SARIMAX Results</caption>\n",
       "<tr>\n",
       "  <th>Dep. Variable:</th>          <td>Cpi</td>        <th>  No. Observations:  </th>    <td>107</td>  \n",
       "</tr>\n",
       "<tr>\n",
       "  <th>Model:</th>           <td>SARIMAX(1, 0, 12)</td> <th>  Log Likelihood     </th> <td>-463.926</td>\n",
       "</tr>\n",
       "<tr>\n",
       "  <th>Date:</th>            <td>Sun, 17 Jul 2022</td>  <th>  AIC                </th>  <td>955.851</td>\n",
       "</tr>\n",
       "<tr>\n",
       "  <th>Time:</th>                <td>11:53:42</td>      <th>  BIC                </th>  <td>993.271</td>\n",
       "</tr>\n",
       "<tr>\n",
       "  <th>Sample:</th>             <td>01-01-1913</td>     <th>  HQIC               </th>  <td>971.021</td>\n",
       "</tr>\n",
       "<tr>\n",
       "  <th></th>                   <td>- 01-01-2019</td>    <th>                     </th>     <td> </td>   \n",
       "</tr>\n",
       "<tr>\n",
       "  <th>Covariance Type:</th>        <td>opg</td>        <th>                     </th>     <td> </td>   \n",
       "</tr>\n",
       "</table>\n",
       "<table class=\"simpletable\">\n",
       "<tr>\n",
       "     <td></td>       <th>coef</th>     <th>std err</th>      <th>z</th>      <th>P>|z|</th>  <th>[0.025</th>    <th>0.975]</th>  \n",
       "</tr>\n",
       "<tr>\n",
       "  <th>ar.L1</th>  <td>    0.9966</td> <td>    0.006</td> <td>  172.827</td> <td> 0.000</td> <td>    0.985</td> <td>    1.008</td>\n",
       "</tr>\n",
       "<tr>\n",
       "  <th>ma.L1</th>  <td>    0.8942</td> <td>   16.687</td> <td>    0.054</td> <td> 0.957</td> <td>  -31.812</td> <td>   33.600</td>\n",
       "</tr>\n",
       "<tr>\n",
       "  <th>ma.L2</th>  <td>    0.5310</td> <td>   35.761</td> <td>    0.015</td> <td> 0.988</td> <td>  -69.560</td> <td>   70.622</td>\n",
       "</tr>\n",
       "<tr>\n",
       "  <th>ma.L3</th>  <td>    0.3302</td> <td>    4.892</td> <td>    0.067</td> <td> 0.946</td> <td>   -9.258</td> <td>    9.918</td>\n",
       "</tr>\n",
       "<tr>\n",
       "  <th>ma.L4</th>  <td>    0.3742</td> <td>   11.869</td> <td>    0.032</td> <td> 0.975</td> <td>  -22.888</td> <td>   23.636</td>\n",
       "</tr>\n",
       "<tr>\n",
       "  <th>ma.L5</th>  <td>    0.2647</td> <td>   28.485</td> <td>    0.009</td> <td> 0.993</td> <td>  -55.565</td> <td>   56.095</td>\n",
       "</tr>\n",
       "<tr>\n",
       "  <th>ma.L6</th>  <td>    0.4089</td> <td>    5.740</td> <td>    0.071</td> <td> 0.943</td> <td>  -10.842</td> <td>   11.660</td>\n",
       "</tr>\n",
       "<tr>\n",
       "  <th>ma.L7</th>  <td>    0.2245</td> <td>   16.344</td> <td>    0.014</td> <td> 0.989</td> <td>  -31.809</td> <td>   32.258</td>\n",
       "</tr>\n",
       "<tr>\n",
       "  <th>ma.L8</th>  <td>    0.2789</td> <td>   26.992</td> <td>    0.010</td> <td> 0.992</td> <td>  -52.624</td> <td>   53.182</td>\n",
       "</tr>\n",
       "<tr>\n",
       "  <th>ma.L9</th>  <td>    0.2394</td> <td>    7.933</td> <td>    0.030</td> <td> 0.976</td> <td>  -15.310</td> <td>   15.789</td>\n",
       "</tr>\n",
       "<tr>\n",
       "  <th>ma.L10</th> <td>    0.3317</td> <td>   18.902</td> <td>    0.018</td> <td> 0.986</td> <td>  -36.715</td> <td>   37.379</td>\n",
       "</tr>\n",
       "<tr>\n",
       "  <th>ma.L11</th> <td>    0.9406</td> <td>   22.485</td> <td>    0.042</td> <td> 0.967</td> <td>  -43.130</td> <td>   45.011</td>\n",
       "</tr>\n",
       "<tr>\n",
       "  <th>ma.L12</th> <td>    0.7420</td> <td>   26.941</td> <td>    0.028</td> <td> 0.978</td> <td>  -52.062</td> <td>   53.546</td>\n",
       "</tr>\n",
       "<tr>\n",
       "  <th>sigma2</th> <td>  316.3160</td> <td> 1.15e+04</td> <td>    0.028</td> <td> 0.978</td> <td>-2.22e+04</td> <td> 2.28e+04</td>\n",
       "</tr>\n",
       "</table>\n",
       "<table class=\"simpletable\">\n",
       "<tr>\n",
       "  <th>Ljung-Box (L1) (Q):</th>     <td>1.50</td> <th>  Jarque-Bera (JB):  </th> <td>39.43</td>\n",
       "</tr>\n",
       "<tr>\n",
       "  <th>Prob(Q):</th>                <td>0.22</td> <th>  Prob(JB):          </th> <td>0.00</td> \n",
       "</tr>\n",
       "<tr>\n",
       "  <th>Heteroskedasticity (H):</th> <td>4.29</td> <th>  Skew:              </th> <td>-0.05</td>\n",
       "</tr>\n",
       "<tr>\n",
       "  <th>Prob(H) (two-sided):</th>    <td>0.00</td> <th>  Kurtosis:          </th> <td>5.97</td> \n",
       "</tr>\n",
       "</table><br/><br/>Warnings:<br/>[1] Covariance matrix calculated using the outer product of gradients (complex-step)."
      ],
      "text/plain": [
       "<class 'statsmodels.iolib.summary.Summary'>\n",
       "\"\"\"\n",
       "                               SARIMAX Results                                \n",
       "==============================================================================\n",
       "Dep. Variable:                    Cpi   No. Observations:                  107\n",
       "Model:              SARIMAX(1, 0, 12)   Log Likelihood                -463.926\n",
       "Date:                Sun, 17 Jul 2022   AIC                            955.851\n",
       "Time:                        11:53:42   BIC                            993.271\n",
       "Sample:                    01-01-1913   HQIC                           971.021\n",
       "                         - 01-01-2019                                         \n",
       "Covariance Type:                  opg                                         \n",
       "==============================================================================\n",
       "                 coef    std err          z      P>|z|      [0.025      0.975]\n",
       "------------------------------------------------------------------------------\n",
       "ar.L1          0.9966      0.006    172.827      0.000       0.985       1.008\n",
       "ma.L1          0.8942     16.687      0.054      0.957     -31.812      33.600\n",
       "ma.L2          0.5310     35.761      0.015      0.988     -69.560      70.622\n",
       "ma.L3          0.3302      4.892      0.067      0.946      -9.258       9.918\n",
       "ma.L4          0.3742     11.869      0.032      0.975     -22.888      23.636\n",
       "ma.L5          0.2647     28.485      0.009      0.993     -55.565      56.095\n",
       "ma.L6          0.4089      5.740      0.071      0.943     -10.842      11.660\n",
       "ma.L7          0.2245     16.344      0.014      0.989     -31.809      32.258\n",
       "ma.L8          0.2789     26.992      0.010      0.992     -52.624      53.182\n",
       "ma.L9          0.2394      7.933      0.030      0.976     -15.310      15.789\n",
       "ma.L10         0.3317     18.902      0.018      0.986     -36.715      37.379\n",
       "ma.L11         0.9406     22.485      0.042      0.967     -43.130      45.011\n",
       "ma.L12         0.7420     26.941      0.028      0.978     -52.062      53.546\n",
       "sigma2       316.3160   1.15e+04      0.028      0.978   -2.22e+04    2.28e+04\n",
       "===================================================================================\n",
       "Ljung-Box (L1) (Q):                   1.50   Jarque-Bera (JB):                39.43\n",
       "Prob(Q):                              0.22   Prob(JB):                         0.00\n",
       "Heteroskedasticity (H):               4.29   Skew:                            -0.05\n",
       "Prob(H) (two-sided):                  0.00   Kurtosis:                         5.97\n",
       "===================================================================================\n",
       "\n",
       "Warnings:\n",
       "[1] Covariance matrix calculated using the outer product of gradients (complex-step).\n",
       "\"\"\""
      ]
     },
     "execution_count": 163,
     "metadata": {},
     "output_type": "execute_result"
    }
   ],
   "source": [
    "# Split data into train / test sets\n",
    "train = month['Cpi'].iloc[:len(month['Cpi'])-3]\n",
    "test = month['Cpi'].iloc[len(month['Cpi'])-3:] # set one year(12 months) for testing\n",
    "  \n",
    "from statsmodels.tsa.statespace.sarimax import SARIMAX\n",
    "  \n",
    "model = SARIMAX(train,\n",
    "                order = (1, 0, 12))\n",
    "  \n",
    "result = model.fit()\n",
    "result.summary()"
   ]
  },
  {
   "cell_type": "code",
   "execution_count": 164,
   "id": "6b66f92a",
   "metadata": {},
   "outputs": [
    {
     "data": {
      "image/png": "[encoded data removed]",
      "text/plain": [
       "<Figure size 432x288 with 1 Axes>"
      ]
     },
     "metadata": {
      "needs_background": "light"
     },
     "output_type": "display_data"
    }
   ],
   "source": [
    "start = len(train)\n",
    "end = len(train) + len(test) - 1\n",
    "  \n",
    "# Predictions for one-year against the test set\n",
    "predictions = result.predict(start, end,\n",
    "                             typ = 'levels').rename(\"Predictions\")\n",
    "  \n",
    "# plot predictions and actual values\n",
    "predictions.plot(legend = True);\n",
    "test.plot(legend = True);"
   ]
  },
  {
   "cell_type": "code",
   "execution_count": 103,
   "id": "14ca7325",
   "metadata": {},
   "outputs": [
    {
     "data": {
      "text/plain": [
       "1701381.6093058842"
      ]
     },
     "execution_count": 103,
     "metadata": {},
     "output_type": "execute_result"
    }
   ],
   "source": [
    "from sklearn.metrics import mean_squared_error\n",
    "from statsmodels.tools.eval_measures import rmse\n",
    "# Mse - always non-negative and values close to zero are better\n",
    "# Incorporates both the variance of the estimator and its bias.\n",
    "\n",
    "rmse(test, predictions)\n",
    "mean_squared_error(test, predictions)"
   ]
  },
  {
   "cell_type": "code",
   "execution_count": 68,
   "id": "d2f13e34",
   "metadata": {},
   "outputs": [
    {
     "name": "stderr",
     "output_type": "stream",
     "text": [
      " This problem is unconstrained.\n"
     ]
    },
    {
     "name": "stdout",
     "output_type": "stream",
     "text": [
      "RUNNING THE L-BFGS-B CODE\n",
      "\n",
      "           * * *\n",
      "\n",
      "Machine precision = 2.220D-16\n",
      " N =            5     M =           10\n",
      "\n",
      "At X0         0 variables are exactly at the bounds\n",
      "\n",
      "At iterate    0    f=  4.78768D-01    |proj g|=  4.18212D-01\n",
      "\n",
      "At iterate    5    f=  4.55447D-01    |proj g|=  9.05535D-03\n",
      "\n",
      "At iterate   10    f=  4.53726D-01    |proj g|=  3.39751D-02\n",
      "\n",
      "At iterate   15    f=  4.38783D-01    |proj g|=  1.97481D-02\n",
      "\n",
      "At iterate   20    f=  4.37914D-01    |proj g|=  8.11173D-04\n",
      "\n",
      "           * * *\n",
      "\n",
      "Tit   = total number of iterations\n",
      "Tnf   = total number of function evaluations\n",
      "Tnint = total number of segments explored during Cauchy searches\n",
      "Skip  = number of BFGS updates skipped\n",
      "Nact  = number of active bounds at final generalized Cauchy point\n",
      "Projg = norm of the final projected gradient\n",
      "F     = final function value\n",
      "\n",
      "           * * *\n",
      "\n",
      "   N    Tit     Tnf  Tnint  Skip  Nact     Projg        F\n",
      "    5     24     35      1     0     0   1.711D-04   4.379D-01\n",
      "  F =  0.43791299394802530     \n",
      "\n",
      "CONVERGENCE: REL_REDUCTION_OF_F_<=_FACTR*EPSMCH             \n"
     ]
    },
    {
     "data": {
      "image/png": "[encoded data removed]",
      "text/plain": [
       "<Figure size 864x360 with 1 Axes>"
      ]
     },
     "metadata": {
      "needs_background": "light"
     },
     "output_type": "display_data"
    }
   ],
   "source": [
    "# Train the model on the full dataset\n",
    "model = model = SARIMAX(month_diff, \n",
    "                        order = (0, 1, 1), \n",
    "                        seasonal_order =(2, 1, 1, 12))\n",
    "result = model.fit()\n",
    "  \n",
    "# Forecast for the next 3 years\n",
    "forecast = result.predict(start = len(month_diff), \n",
    "                          end = (len(month_diff)-1) + 3 * 12, \n",
    "                          typ = 'levels').rename('Forecast')\n",
    "  \n",
    "# Plot the forecast values\n",
    "month_diff.plot(figsize = (12, 5), legend = True)\n",
    "forecast.plot(legend = True);\n"
   ]
  },
  {
   "cell_type": "code",
   "execution_count": 180,
   "id": "9b71f2e4",
   "metadata": {},
   "outputs": [],
   "source": [
    "#from sklearn.model_selection import train_test_split\n",
    "#train, val = train_test_split(month, test_size=len(test),  \n",
    "#                              random_state=42)"
   ]
  },
  {
   "cell_type": "code",
   "execution_count": 69,
   "id": "7abb01e1",
   "metadata": {},
   "outputs": [
    {
     "data": {
      "image/png": "[encoded data removed]",
      "text/plain": [
       "<Figure size 432x288 with 1 Axes>"
      ]
     },
     "metadata": {
      "needs_background": "light"
     },
     "output_type": "display_data"
    }
   ],
   "source": [
    "start = len(month_diff)\n",
    "end = len(month_diff) + len(test) - 1\n",
    "  \n",
    "# Predictions for one-year against the test set\n",
    "predictions = result.predict(start, end,\n",
    "                             typ = 'levels').rename(\"Predictions\")\n",
    "  \n",
    "# plot predictions and actual values\n",
    "predictions.plot(legend = True);\n",
    "test.plot(legend = True);"
   ]
  },
  {
   "cell_type": "markdown",
   "id": "144e2c1d",
   "metadata": {},
   "source": [
    "\n",
    "### Alternate version\n"
   ]
  },
  {
   "cell_type": "code",
   "execution_count": 178,
   "id": "28a06216",
   "metadata": {},
   "outputs": [
    {
     "name": "stdout",
     "output_type": "stream",
     "text": [
      "                                      SARIMAX Results                                       \n",
      "============================================================================================\n",
      "Dep. Variable:                          D.DS100.Jan   No. Observations:                    6\n",
      "Model:             SARIMAX(2, 0, 1)x(1, 0, [], 100)   Log Likelihood                   6.201\n",
      "Date:                              Sun, 17 Jul 2022   AIC                             -2.402\n",
      "Time:                                      00:39:40   BIC                             -3.443\n",
      "Sample:                                  01-01-2015   HQIC                            -6.570\n",
      "                                       - 01-01-2020                                         \n",
      "Covariance Type:                                opg                                         \n",
      "==============================================================================\n",
      "                 coef    std err          z      P>|z|      [0.025      0.975]\n",
      "------------------------------------------------------------------------------\n",
      "ar.L1         -0.2636      2.906     -0.091      0.928      -5.960       5.433\n",
      "ar.L2         -0.4316      2.010     -0.215      0.830      -4.371       3.507\n",
      "ma.L1          0.5701      4.177      0.136      0.891      -7.616       8.756\n",
      "ar.S.L100  -8.539e-07   2.08e-06     -0.411      0.681   -4.92e-06    3.22e-06\n",
      "sigma2         0.0065      0.030      0.217      0.828      -0.052       0.065\n",
      "===================================================================================\n",
      "Ljung-Box (L1) (Q):                   2.26   Jarque-Bera (JB):                 0.71\n",
      "Prob(Q):                              0.13   Prob(JB):                         0.70\n",
      "Heteroskedasticity (H):               0.34   Skew:                             0.65\n",
      "Prob(H) (two-sided):                  0.50   Kurtosis:                         1.93\n",
      "===================================================================================\n",
      "\n",
      "Warnings:\n",
      "[1] Covariance matrix calculated using the outer product of gradients (complex-step).\n",
      "[2] Covariance matrix is singular or near-singular, with condition number 3.55e+25. Standard errors may be unstable.\n"
     ]
    }
   ],
   "source": [
    "mod = sm.tsa.statespace.SARIMAX(month_diff, order=(2,1,1), seasonal_order=(1,1,0,100), simple_differencing=True)\n",
    "res = mod.fit(disp=False)\n",
    "print(res.summary())"
   ]
  },
  {
   "cell_type": "code",
   "execution_count": 179,
   "id": "8e57d773",
   "metadata": {},
   "outputs": [
    {
     "data": {
      "text/html": [
       "<div>\n",
       "<style scoped>\n",
       "    .dataframe tbody tr th:only-of-type {\n",
       "        vertical-align: middle;\n",
       "    }\n",
       "\n",
       "    .dataframe tbody tr th {\n",
       "        vertical-align: top;\n",
       "    }\n",
       "\n",
       "    .dataframe thead th {\n",
       "        text-align: right;\n",
       "    }\n",
       "</style>\n",
       "<table border=\"1\" class=\"dataframe\">\n",
       "  <thead>\n",
       "    <tr style=\"text-align: right;\">\n",
       "      <th></th>\n",
       "      <th>lower D.DS100.Jan</th>\n",
       "      <th>upper D.DS100.Jan</th>\n",
       "    </tr>\n",
       "  </thead>\n",
       "  <tbody>\n",
       "    <tr>\n",
       "      <th>2015-01-01</th>\n",
       "      <td>-0.187692</td>\n",
       "      <td>0.187692</td>\n",
       "    </tr>\n",
       "    <tr>\n",
       "      <th>2016-01-01</th>\n",
       "      <td>-0.197454</td>\n",
       "      <td>0.176173</td>\n",
       "    </tr>\n",
       "    <tr>\n",
       "      <th>2017-01-01</th>\n",
       "      <td>-0.101536</td>\n",
       "      <td>0.228092</td>\n",
       "    </tr>\n",
       "    <tr>\n",
       "      <th>2018-01-01</th>\n",
       "      <td>-0.243448</td>\n",
       "      <td>0.076101</td>\n",
       "    </tr>\n",
       "    <tr>\n",
       "      <th>2019-01-01</th>\n",
       "      <td>-0.130516</td>\n",
       "      <td>0.186059</td>\n",
       "    </tr>\n",
       "    <tr>\n",
       "      <th>2020-01-01</th>\n",
       "      <td>-0.117566</td>\n",
       "      <td>0.198072</td>\n",
       "    </tr>\n",
       "  </tbody>\n",
       "</table>\n",
       "</div>"
      ],
      "text/plain": [
       "            lower D.DS100.Jan  upper D.DS100.Jan\n",
       "2015-01-01          -0.187692           0.187692\n",
       "2016-01-01          -0.197454           0.176173\n",
       "2017-01-01          -0.101536           0.228092\n",
       "2018-01-01          -0.243448           0.076101\n",
       "2019-01-01          -0.130516           0.186059\n",
       "2020-01-01          -0.117566           0.198072"
      ]
     },
     "execution_count": 179,
     "metadata": {},
     "output_type": "execute_result"
    }
   ],
   "source": [
    "# In-sample one-step-ahead predictions\n",
    "predict = res.get_prediction()\n",
    "predict_ci = predict.conf_int()\n",
    "predict_ci"
   ]
  },
  {
   "cell_type": "code",
   "execution_count": null,
   "id": "09684861",
   "metadata": {},
   "outputs": [],
   "source": []
  }
 ],
 "metadata": {
  "kernelspec": {
   "display_name": "NNse",
   "language": "python",
   "name": "u4-s1-nns"
  },
  "language_info": {
   "codemirror_mode": {
    "name": "ipython",
    "version": 3
   },
   "file_extension": ".py",
   "mimetype": "text/x-python",
   "name": "python",
   "nbconvert_exporter": "python",
   "pygments_lexer": "ipython3",
   "version": "3.8.5"
  }
 },
 "nbformat": 4,
 "nbformat_minor": 5
}
