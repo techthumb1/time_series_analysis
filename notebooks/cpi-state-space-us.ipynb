{
 "cells": [
  {
   "cell_type": "code",
   "execution_count": null,
   "id": "bfdc0c48",
   "metadata": {},
   "outputs": [],
   "source": [
    "#pip install pmdarima"
   ]
  },
  {
   "cell_type": "markdown",
   "id": "de80a258",
   "metadata": {},
   "source": [
    "# CPI State Space Model Using ARIMA Method\n",
    "\n",
    "[10 year US Government Bond Yields (long-term interest rate)](https://datahub.io/core/bond-yields-us-10y#readme)\n",
    "***\n",
    "\n",
    "### Steps for ARIMA implementation\n",
    "\n",
    "- **Load the data**: The first step for model building is of course to load the dataset\n",
    "- **Preprocessing**: Depending on the dataset, the steps of preprocessing will be defined. This will include creating timestamps, converting the dtype of date/time column, making the series univariate, etc.\n",
    "- **Make series stationary**: In order to satisfy the assumption, it is necessary to make the series stationary. This would include checking the stationarity of the series and performing required transformations\n",
    "- **Determine d value**: For making the series stationary, the number of times the difference operation was performed will be taken as the d value\n",
    "- **Create ACF and PACF plots**: This is the most important step in ARIMA implementation. ACF PACF plots are used to determine the input parameters for our ARIMA model\n",
    "- **Determine the p and q values**: Read the values of p and q from the plots in the previous step\n",
    "- **Fit ARIMA model**: Using the processed data and parameter values we calculated from the previous steps, fit the ARIMA model\n",
    "- **Predict values on validation set**: Predict the future values\n",
    "- **Calculate RMSE**: To check the performance of the model, check the RMSE value using the predictions and actual values on the validation set\n",
    "***\n",
    "\n",
    "### Load the Data\n",
    "\n",
    "We will include Statsmodels into our workflow which we will use specifically for its powerful TSA models."
   ]
  },
  {
   "cell_type": "code",
   "execution_count": 16,
   "id": "1166c4c2",
   "metadata": {},
   "outputs": [
    {
     "name": "stdout",
     "output_type": "stream",
     "text": [
      "Matplotlib: 3.3.2\n",
      "Pandas: 1.1.3\n",
      "Numpy: 1.23.0\n",
      "StatsModel: 0.12.2\n",
      "Scipy: 1.5.2\n"
     ]
    }
   ],
   "source": [
    "# Importing required libraries\n",
    "import pandas as pd\n",
    "import numpy as np\n",
    "import seaborn as sns\n",
    "import matplotlib\n",
    "import matplotlib.pyplot as plt\n",
    "\n",
    "import statsmodels.api as sm\n",
    "import statsmodels\n",
    "from statsmodels.tsa.statespace.sarimax import SARIMAX\n",
    "from statsmodels.tsa.seasonal import seasonal_decompose\n",
    "from statsmodels.tsa.stattools import acf, pacf\n",
    "from statsmodels.graphics.tsaplots import plot_acf, plot_pacf\n",
    "from statsmodels.tsa.stattools import adfuller\n",
    "from pmdarima.arima import ADFTest\n",
    "from statsmodels.tsa.stattools import kpss\n",
    "\n",
    "import scipy\n",
    "from scipy.stats import pearsonr\n",
    "\n",
    "from sklearn.metrics import mean_squared_error\n",
    "from statsmodels.tools.eval_measures import rmse\n",
    "\n",
    "#matplotlib.rcParams['figure.figsize'] = [8, 3]\n",
    "%matplotlib inline\n",
    "\n",
    "import warnings\n",
    "warnings.filterwarnings(\"ignore\")\n",
    "\n",
    "#from matplotlib import rcParams\n",
    "#from cycler import cycler\n",
    "\n",
    "#rcParams['figure.figsize'] = 18, 5\n",
    "#rcParams['axes.spines.top'] = True\n",
    "#rcParams['axes.spines.right'] = True\n",
    "#rcParams['axes.prop_cycle'] = cycler(color=['#365977'])\n",
    "#rcParams['lines.linewidth'] = 2.5\n",
    "\n",
    "print('Matplotlib:',matplotlib.__version__)\n",
    "print('Pandas:',pd.__version__)\n",
    "print('Numpy:',np.__version__)\n",
    "print('StatsModel:',statsmodels.__version__)\n",
    "print('Scipy:',scipy.__version__)"
   ]
  },
  {
   "cell_type": "code",
   "execution_count": 160,
   "id": "742654d7",
   "metadata": {},
   "outputs": [
    {
     "name": "stdout",
     "output_type": "stream",
     "text": [
      "(110, 13)\n"
     ]
    },
    {
     "data": {
      "text/html": [
       "<div>\n",
       "<style scoped>\n",
       "    .dataframe tbody tr th:only-of-type {\n",
       "        vertical-align: middle;\n",
       "    }\n",
       "\n",
       "    .dataframe tbody tr th {\n",
       "        vertical-align: top;\n",
       "    }\n",
       "\n",
       "    .dataframe thead th {\n",
       "        text-align: right;\n",
       "    }\n",
       "</style>\n",
       "<table border=\"1\" class=\"dataframe\">\n",
       "  <thead>\n",
       "    <tr style=\"text-align: right;\">\n",
       "      <th></th>\n",
       "      <th>Series ID</th>\n",
       "      <th>Jan</th>\n",
       "      <th>Feb</th>\n",
       "      <th>Mar</th>\n",
       "      <th>Apr</th>\n",
       "      <th>May</th>\n",
       "      <th>Jun</th>\n",
       "      <th>Jul</th>\n",
       "      <th>Aug</th>\n",
       "      <th>Sep</th>\n",
       "      <th>Oct</th>\n",
       "      <th>Nov</th>\n",
       "      <th>Dec</th>\n",
       "    </tr>\n",
       "    <tr>\n",
       "      <th>Year</th>\n",
       "      <th></th>\n",
       "      <th></th>\n",
       "      <th></th>\n",
       "      <th></th>\n",
       "      <th></th>\n",
       "      <th></th>\n",
       "      <th></th>\n",
       "      <th></th>\n",
       "      <th></th>\n",
       "      <th></th>\n",
       "      <th></th>\n",
       "      <th></th>\n",
       "      <th></th>\n",
       "    </tr>\n",
       "  </thead>\n",
       "  <tbody>\n",
       "    <tr>\n",
       "      <th>1913-01-01</th>\n",
       "      <td>CUUR0000SA0</td>\n",
       "      <td>9.8</td>\n",
       "      <td>9.8</td>\n",
       "      <td>9.8</td>\n",
       "      <td>9.8</td>\n",
       "      <td>9.7</td>\n",
       "      <td>9.8</td>\n",
       "      <td>9.9</td>\n",
       "      <td>9.9</td>\n",
       "      <td>10.0</td>\n",
       "      <td>10.0</td>\n",
       "      <td>10.1</td>\n",
       "      <td>10.0</td>\n",
       "    </tr>\n",
       "    <tr>\n",
       "      <th>1914-01-01</th>\n",
       "      <td>CUUR0000SA1</td>\n",
       "      <td>10.0</td>\n",
       "      <td>9.9</td>\n",
       "      <td>9.9</td>\n",
       "      <td>9.8</td>\n",
       "      <td>9.9</td>\n",
       "      <td>9.9</td>\n",
       "      <td>10.0</td>\n",
       "      <td>10.2</td>\n",
       "      <td>10.2</td>\n",
       "      <td>10.1</td>\n",
       "      <td>10.2</td>\n",
       "      <td>10.1</td>\n",
       "    </tr>\n",
       "    <tr>\n",
       "      <th>1915-01-01</th>\n",
       "      <td>CUUR0000SA2</td>\n",
       "      <td>10.1</td>\n",
       "      <td>10.0</td>\n",
       "      <td>9.9</td>\n",
       "      <td>10.0</td>\n",
       "      <td>10.1</td>\n",
       "      <td>10.1</td>\n",
       "      <td>10.1</td>\n",
       "      <td>10.1</td>\n",
       "      <td>10.1</td>\n",
       "      <td>10.2</td>\n",
       "      <td>10.3</td>\n",
       "      <td>10.3</td>\n",
       "    </tr>\n",
       "    <tr>\n",
       "      <th>1916-01-01</th>\n",
       "      <td>CUUR0000SA3</td>\n",
       "      <td>10.4</td>\n",
       "      <td>10.4</td>\n",
       "      <td>10.5</td>\n",
       "      <td>10.6</td>\n",
       "      <td>10.7</td>\n",
       "      <td>10.8</td>\n",
       "      <td>10.8</td>\n",
       "      <td>10.9</td>\n",
       "      <td>11.1</td>\n",
       "      <td>11.3</td>\n",
       "      <td>11.5</td>\n",
       "      <td>11.6</td>\n",
       "    </tr>\n",
       "    <tr>\n",
       "      <th>1917-01-01</th>\n",
       "      <td>CUUR0000SA4</td>\n",
       "      <td>11.7</td>\n",
       "      <td>12.0</td>\n",
       "      <td>12.0</td>\n",
       "      <td>12.6</td>\n",
       "      <td>12.8</td>\n",
       "      <td>13.0</td>\n",
       "      <td>12.8</td>\n",
       "      <td>13.0</td>\n",
       "      <td>13.3</td>\n",
       "      <td>13.5</td>\n",
       "      <td>13.5</td>\n",
       "      <td>13.7</td>\n",
       "    </tr>\n",
       "  </tbody>\n",
       "</table>\n",
       "</div>"
      ],
      "text/plain": [
       "              Series ID   Jan   Feb   Mar   Apr   May   Jun   Jul   Aug   Sep  \\\n",
       "Year                                                                            \n",
       "1913-01-01  CUUR0000SA0   9.8   9.8   9.8   9.8   9.7   9.8   9.9   9.9  10.0   \n",
       "1914-01-01  CUUR0000SA1  10.0   9.9   9.9   9.8   9.9   9.9  10.0  10.2  10.2   \n",
       "1915-01-01  CUUR0000SA2  10.1  10.0   9.9  10.0  10.1  10.1  10.1  10.1  10.1   \n",
       "1916-01-01  CUUR0000SA3  10.4  10.4  10.5  10.6  10.7  10.8  10.8  10.9  11.1   \n",
       "1917-01-01  CUUR0000SA4  11.7  12.0  12.0  12.6  12.8  13.0  12.8  13.0  13.3   \n",
       "\n",
       "             Oct   Nov   Dec  \n",
       "Year                          \n",
       "1913-01-01  10.0  10.1  10.0  \n",
       "1914-01-01  10.1  10.2  10.1  \n",
       "1915-01-01  10.2  10.3  10.3  \n",
       "1916-01-01  11.3  11.5  11.6  \n",
       "1917-01-01  13.5  13.5  13.7  "
      ]
     },
     "execution_count": 160,
     "metadata": {},
     "output_type": "execute_result"
    }
   ],
   "source": [
    "# read in cpi data\\\n",
    "month = pd.read_csv('/Users/jasonrobinson/Documents/Projects/bls_project/data/cpi_avg_price_data.csv', parse_dates=['Year'], index_col='Year')\n",
    "       \n",
    "print(month.shape)\n",
    "month .head()"
   ]
  },
  {
   "cell_type": "code",
   "execution_count": 161,
   "id": "05f9d9d0",
   "metadata": {},
   "outputs": [],
   "source": [
    "month = month.drop('Series ID', axis=1)"
   ]
  },
  {
   "cell_type": "code",
   "execution_count": 162,
   "id": "f5270e0b",
   "metadata": {},
   "outputs": [
    {
     "data": {
      "image/png": "[encoded data removed]",
      "text/plain": [
       "<Figure size 432x288 with 1 Axes>"
      ]
     },
     "metadata": {
      "needs_background": "light"
     },
     "output_type": "display_data"
    }
   ],
   "source": [
    "month.plot();"
   ]
  },
  {
   "cell_type": "code",
   "execution_count": 163,
   "id": "b0972372",
   "metadata": {},
   "outputs": [
    {
     "data": {
      "text/html": [
       "<div>\n",
       "<style scoped>\n",
       "    .dataframe tbody tr th:only-of-type {\n",
       "        vertical-align: middle;\n",
       "    }\n",
       "\n",
       "    .dataframe tbody tr th {\n",
       "        vertical-align: top;\n",
       "    }\n",
       "\n",
       "    .dataframe thead th {\n",
       "        text-align: right;\n",
       "    }\n",
       "</style>\n",
       "<table border=\"1\" class=\"dataframe\">\n",
       "  <thead>\n",
       "    <tr style=\"text-align: right;\">\n",
       "      <th></th>\n",
       "      <th>Jan</th>\n",
       "      <th>Feb</th>\n",
       "      <th>Mar</th>\n",
       "      <th>Apr</th>\n",
       "      <th>May</th>\n",
       "      <th>Jun</th>\n",
       "      <th>Jul</th>\n",
       "      <th>Aug</th>\n",
       "      <th>Sep</th>\n",
       "      <th>Oct</th>\n",
       "      <th>Nov</th>\n",
       "      <th>Dec</th>\n",
       "    </tr>\n",
       "    <tr>\n",
       "      <th>Year</th>\n",
       "      <th></th>\n",
       "      <th></th>\n",
       "      <th></th>\n",
       "      <th></th>\n",
       "      <th></th>\n",
       "      <th></th>\n",
       "      <th></th>\n",
       "      <th></th>\n",
       "      <th></th>\n",
       "      <th></th>\n",
       "      <th></th>\n",
       "      <th></th>\n",
       "    </tr>\n",
       "  </thead>\n",
       "  <tbody>\n",
       "    <tr>\n",
       "      <th>1913-01-01</th>\n",
       "      <td>9.800</td>\n",
       "      <td>9.800</td>\n",
       "      <td>9.800</td>\n",
       "      <td>9.800</td>\n",
       "      <td>9.700</td>\n",
       "      <td>9.800</td>\n",
       "      <td>9.900</td>\n",
       "      <td>9.900</td>\n",
       "      <td>10.000</td>\n",
       "      <td>10.000</td>\n",
       "      <td>10.100</td>\n",
       "      <td>10.000</td>\n",
       "    </tr>\n",
       "    <tr>\n",
       "      <th>1914-01-01</th>\n",
       "      <td>10.000</td>\n",
       "      <td>9.900</td>\n",
       "      <td>9.900</td>\n",
       "      <td>9.800</td>\n",
       "      <td>9.900</td>\n",
       "      <td>9.900</td>\n",
       "      <td>10.000</td>\n",
       "      <td>10.200</td>\n",
       "      <td>10.200</td>\n",
       "      <td>10.100</td>\n",
       "      <td>10.200</td>\n",
       "      <td>10.100</td>\n",
       "    </tr>\n",
       "    <tr>\n",
       "      <th>1915-01-01</th>\n",
       "      <td>10.100</td>\n",
       "      <td>10.000</td>\n",
       "      <td>9.900</td>\n",
       "      <td>10.000</td>\n",
       "      <td>10.100</td>\n",
       "      <td>10.100</td>\n",
       "      <td>10.100</td>\n",
       "      <td>10.100</td>\n",
       "      <td>10.100</td>\n",
       "      <td>10.200</td>\n",
       "      <td>10.300</td>\n",
       "      <td>10.300</td>\n",
       "    </tr>\n",
       "    <tr>\n",
       "      <th>1916-01-01</th>\n",
       "      <td>10.400</td>\n",
       "      <td>10.400</td>\n",
       "      <td>10.500</td>\n",
       "      <td>10.600</td>\n",
       "      <td>10.700</td>\n",
       "      <td>10.800</td>\n",
       "      <td>10.800</td>\n",
       "      <td>10.900</td>\n",
       "      <td>11.100</td>\n",
       "      <td>11.300</td>\n",
       "      <td>11.500</td>\n",
       "      <td>11.600</td>\n",
       "    </tr>\n",
       "    <tr>\n",
       "      <th>1917-01-01</th>\n",
       "      <td>11.700</td>\n",
       "      <td>12.000</td>\n",
       "      <td>12.000</td>\n",
       "      <td>12.600</td>\n",
       "      <td>12.800</td>\n",
       "      <td>13.000</td>\n",
       "      <td>12.800</td>\n",
       "      <td>13.000</td>\n",
       "      <td>13.300</td>\n",
       "      <td>13.500</td>\n",
       "      <td>13.500</td>\n",
       "      <td>13.700</td>\n",
       "    </tr>\n",
       "    <tr>\n",
       "      <th>...</th>\n",
       "      <td>...</td>\n",
       "      <td>...</td>\n",
       "      <td>...</td>\n",
       "      <td>...</td>\n",
       "      <td>...</td>\n",
       "      <td>...</td>\n",
       "      <td>...</td>\n",
       "      <td>...</td>\n",
       "      <td>...</td>\n",
       "      <td>...</td>\n",
       "      <td>...</td>\n",
       "      <td>...</td>\n",
       "    </tr>\n",
       "    <tr>\n",
       "      <th>2016-01-01</th>\n",
       "      <td>236.916</td>\n",
       "      <td>237.111</td>\n",
       "      <td>238.132</td>\n",
       "      <td>239.261</td>\n",
       "      <td>240.229</td>\n",
       "      <td>241.018</td>\n",
       "      <td>240.628</td>\n",
       "      <td>240.849</td>\n",
       "      <td>241.428</td>\n",
       "      <td>241.729</td>\n",
       "      <td>241.353</td>\n",
       "      <td>241.432</td>\n",
       "    </tr>\n",
       "    <tr>\n",
       "      <th>2017-01-01</th>\n",
       "      <td>242.839</td>\n",
       "      <td>243.603</td>\n",
       "      <td>243.801</td>\n",
       "      <td>244.524</td>\n",
       "      <td>244.733</td>\n",
       "      <td>244.955</td>\n",
       "      <td>244.786</td>\n",
       "      <td>245.519</td>\n",
       "      <td>246.819</td>\n",
       "      <td>246.663</td>\n",
       "      <td>246.669</td>\n",
       "      <td>246.524</td>\n",
       "    </tr>\n",
       "    <tr>\n",
       "      <th>2018-01-01</th>\n",
       "      <td>247.867</td>\n",
       "      <td>248.991</td>\n",
       "      <td>249.554</td>\n",
       "      <td>250.546</td>\n",
       "      <td>251.588</td>\n",
       "      <td>251.989</td>\n",
       "      <td>252.006</td>\n",
       "      <td>252.146</td>\n",
       "      <td>252.439</td>\n",
       "      <td>252.885</td>\n",
       "      <td>252.038</td>\n",
       "      <td>251.233</td>\n",
       "    </tr>\n",
       "    <tr>\n",
       "      <th>2019-01-01</th>\n",
       "      <td>251.712</td>\n",
       "      <td>252.776</td>\n",
       "      <td>254.202</td>\n",
       "      <td>255.548</td>\n",
       "      <td>256.092</td>\n",
       "      <td>256.143</td>\n",
       "      <td>256.571</td>\n",
       "      <td>256.558</td>\n",
       "      <td>256.759</td>\n",
       "      <td>257.346</td>\n",
       "      <td>257.208</td>\n",
       "      <td>256.974</td>\n",
       "    </tr>\n",
       "    <tr>\n",
       "      <th>2020-01-01</th>\n",
       "      <td>257.971</td>\n",
       "      <td>258.678</td>\n",
       "      <td>258.115</td>\n",
       "      <td>256.389</td>\n",
       "      <td>256.394</td>\n",
       "      <td>257.797</td>\n",
       "      <td>259.101</td>\n",
       "      <td>259.918</td>\n",
       "      <td>260.280</td>\n",
       "      <td>260.388</td>\n",
       "      <td>260.229</td>\n",
       "      <td>260.474</td>\n",
       "    </tr>\n",
       "  </tbody>\n",
       "</table>\n",
       "<p>108 rows × 12 columns</p>\n",
       "</div>"
      ],
      "text/plain": [
       "                Jan      Feb      Mar      Apr      May      Jun      Jul  \\\n",
       "Year                                                                        \n",
       "1913-01-01    9.800    9.800    9.800    9.800    9.700    9.800    9.900   \n",
       "1914-01-01   10.000    9.900    9.900    9.800    9.900    9.900   10.000   \n",
       "1915-01-01   10.100   10.000    9.900   10.000   10.100   10.100   10.100   \n",
       "1916-01-01   10.400   10.400   10.500   10.600   10.700   10.800   10.800   \n",
       "1917-01-01   11.700   12.000   12.000   12.600   12.800   13.000   12.800   \n",
       "...             ...      ...      ...      ...      ...      ...      ...   \n",
       "2016-01-01  236.916  237.111  238.132  239.261  240.229  241.018  240.628   \n",
       "2017-01-01  242.839  243.603  243.801  244.524  244.733  244.955  244.786   \n",
       "2018-01-01  247.867  248.991  249.554  250.546  251.588  251.989  252.006   \n",
       "2019-01-01  251.712  252.776  254.202  255.548  256.092  256.143  256.571   \n",
       "2020-01-01  257.971  258.678  258.115  256.389  256.394  257.797  259.101   \n",
       "\n",
       "                Aug      Sep      Oct      Nov      Dec  \n",
       "Year                                                     \n",
       "1913-01-01    9.900   10.000   10.000   10.100   10.000  \n",
       "1914-01-01   10.200   10.200   10.100   10.200   10.100  \n",
       "1915-01-01   10.100   10.100   10.200   10.300   10.300  \n",
       "1916-01-01   10.900   11.100   11.300   11.500   11.600  \n",
       "1917-01-01   13.000   13.300   13.500   13.500   13.700  \n",
       "...             ...      ...      ...      ...      ...  \n",
       "2016-01-01  240.849  241.428  241.729  241.353  241.432  \n",
       "2017-01-01  245.519  246.819  246.663  246.669  246.524  \n",
       "2018-01-01  252.146  252.439  252.885  252.038  251.233  \n",
       "2019-01-01  256.558  256.759  257.346  257.208  256.974  \n",
       "2020-01-01  259.918  260.280  260.388  260.229  260.474  \n",
       "\n",
       "[108 rows x 12 columns]"
      ]
     },
     "execution_count": 163,
     "metadata": {},
     "output_type": "execute_result"
    }
   ],
   "source": [
    "months = month[:-2]\n",
    "months"
   ]
  },
  {
   "cell_type": "markdown",
   "id": "299e64c0",
   "metadata": {},
   "source": [
    "**Task**: Either use univariate or multivariate time series analysis.\n",
    "If multivariate incorporate method to sum or average annual value for specific year"
   ]
  },
  {
   "cell_type": "code",
   "execution_count": 164,
   "id": "f3633581",
   "metadata": {},
   "outputs": [
    {
     "data": {
      "text/plain": [
       "12"
      ]
     },
     "execution_count": 164,
     "metadata": {},
     "output_type": "execute_result"
    }
   ],
   "source": [
    "len(months.columns)"
   ]
  },
  {
   "cell_type": "code",
   "execution_count": 165,
   "id": "f8a081cc",
   "metadata": {},
   "outputs": [
    {
     "name": "stdout",
     "output_type": "stream",
     "text": [
      "<class 'pandas.core.frame.DataFrame'>\n",
      "DatetimeIndex: 108 entries, 1913-01-01 to 2020-01-01\n",
      "Data columns (total 12 columns):\n",
      " #   Column  Non-Null Count  Dtype  \n",
      "---  ------  --------------  -----  \n",
      " 0   Jan     108 non-null    float64\n",
      " 1   Feb     108 non-null    float64\n",
      " 2   Mar     108 non-null    float64\n",
      " 3   Apr     108 non-null    float64\n",
      " 4   May     108 non-null    float64\n",
      " 5   Jun     108 non-null    float64\n",
      " 6   Jul     108 non-null    float64\n",
      " 7   Aug     108 non-null    float64\n",
      " 8   Sep     108 non-null    float64\n",
      " 9   Oct     108 non-null    float64\n",
      " 10  Nov     108 non-null    float64\n",
      " 11  Dec     108 non-null    float64\n",
      "dtypes: float64(12)\n",
      "memory usage: 11.0 KB\n"
     ]
    }
   ],
   "source": [
    "months.info()"
   ]
  },
  {
   "cell_type": "code",
   "execution_count": 222,
   "id": "6e4efe5d",
   "metadata": {},
   "outputs": [
    {
     "data": {
      "text/plain": [
       "Year\n",
       "1913-01-01     118.600\n",
       "1914-01-01     120.200\n",
       "1915-01-01     121.300\n",
       "1916-01-01     130.600\n",
       "1917-01-01     153.900\n",
       "                ...   \n",
       "2015-01-01    2844.204\n",
       "2016-01-01    2880.086\n",
       "2017-01-01    2941.435\n",
       "2018-01-01    3013.282\n",
       "2019-01-01    3067.889\n",
       "Length: 107, dtype: float64"
      ]
     },
     "execution_count": 222,
     "metadata": {},
     "output_type": "execute_result"
    }
   ],
   "source": [
    "# Sum each row for univariate analysis\n",
    "month = months.sum(axis=1)\n",
    "month['CPI'] = month[month[:-1]]"
   ]
  },
  {
   "cell_type": "markdown",
   "id": "aced1fe5",
   "metadata": {},
   "source": [
    "\n",
    "### Visualize our data\n",
    "\n",
    "For the entire range we see an upward and downward non-stationary trend."
   ]
  },
  {
   "cell_type": "code",
   "execution_count": 169,
   "id": "bdc8ae79",
   "metadata": {},
   "outputs": [
    {
     "data": {
      "image/png": "[encoded data removed]",
      "text/plain": [
       "<Figure size 432x288 with 1 Axes>"
      ]
     },
     "metadata": {
      "needs_background": "light"
     },
     "output_type": "display_data"
    }
   ],
   "source": [
    "month.plot(grid=True);"
   ]
  },
  {
   "cell_type": "code",
   "execution_count": 173,
   "id": "bf90dd1c",
   "metadata": {},
   "outputs": [
    {
     "data": {
      "image/png": "[encoded data removed]",
      "text/plain": [
       "<Figure size 432x288 with 1 Axes>"
      ]
     },
     "metadata": {
      "needs_background": "light"
     },
     "output_type": "display_data"
    }
   ],
   "source": [
    "# 2011 - 2019\n",
    "months[\"Jan\"][-10:-1].plot();"
   ]
  },
  {
   "cell_type": "code",
   "execution_count": 174,
   "id": "6b6a5026",
   "metadata": {},
   "outputs": [],
   "source": [
    "month['Cpi'] = months['Jan']"
   ]
  },
  {
   "cell_type": "code",
   "execution_count": 175,
   "id": "c9a89f90",
   "metadata": {},
   "outputs": [],
   "source": [
    "# Train and test set\n",
    "train = month['Cpi'].iloc[ :105]\n",
    "test = month['Cpi'].iloc[105:]"
   ]
  },
  {
   "cell_type": "code",
   "execution_count": 176,
   "id": "824dda02",
   "metadata": {
    "scrolled": false
   },
   "outputs": [
    {
     "data": {
      "image/png": "[encoded data removed]",
      "text/plain": [
       "<Figure size 432x288 with 1 Axes>"
      ]
     },
     "metadata": {
      "needs_background": "light"
     },
     "output_type": "display_data"
    }
   ],
   "source": [
    "# Comparing 2 previous decades\n",
    "plt.scatter(month['Cpi']['1990':'2000'], month['Cpi']['2000':'2010']);"
   ]
  },
  {
   "cell_type": "code",
   "execution_count": 177,
   "id": "82ae93ab",
   "metadata": {},
   "outputs": [
    {
     "data": {
      "image/png": "[encoded data removed]",
      "text/plain": [
       "<Figure size 432x288 with 1 Axes>"
      ]
     },
     "metadata": {
      "needs_background": "light"
     },
     "output_type": "display_data"
    }
   ],
   "source": [
    "month['Cpi']['1980':'1990'].plot();"
   ]
  },
  {
   "cell_type": "code",
   "execution_count": 133,
   "id": "7b0e02c3",
   "metadata": {},
   "outputs": [
    {
     "data": {
      "image/png": "[encoded data removed]",
      "text/plain": [
       "<Figure size 432x288 with 1 Axes>"
      ]
     },
     "metadata": {
      "needs_background": "light"
     },
     "output_type": "display_data"
    }
   ],
   "source": [
    "plt.plot(month['2010':'2020']);"
   ]
  },
  {
   "cell_type": "code",
   "execution_count": 178,
   "id": "1d063ff2",
   "metadata": {},
   "outputs": [
    {
     "data": {
      "text/plain": [
       "Year\n",
       "1913-01-01      9.800\n",
       "1914-01-01     10.000\n",
       "1915-01-01     10.100\n",
       "1916-01-01     10.400\n",
       "1917-01-01     11.700\n",
       "               ...   \n",
       "2016-01-01    236.916\n",
       "2017-01-01    242.839\n",
       "2018-01-01    247.867\n",
       "2019-01-01    251.712\n",
       "2020-01-01    257.971\n",
       "Name: Jan, Length: 108, dtype: float64"
      ]
     },
     "execution_count": 178,
     "metadata": {},
     "output_type": "execute_result"
    }
   ],
   "source": [
    "month['Cpi']"
   ]
  },
  {
   "cell_type": "markdown",
   "id": "90ea1439",
   "metadata": {},
   "source": [
    "\n",
    "### Test for Stationarity\n",
    "\n",
    "To be capable of applying an **ARIMA** method, we will first need to add stationarity. First let's confirm that our time series is not stationary. A few methods exist for this, but we will use the **KPSS** method.\n",
    "\n"
   ]
  },
  {
   "cell_type": "code",
   "execution_count": 179,
   "id": "d34dab01",
   "metadata": {},
   "outputs": [
    {
     "data": {
      "text/plain": [
       "(0.9608148277615423, True)"
      ]
     },
     "execution_count": 179,
     "metadata": {},
     "output_type": "execute_result"
    }
   ],
   "source": [
    "from pmdarima.arima import ADFTest\n",
    "# Augmented Dickey-Fuller test\n",
    "\n",
    "adf_test = ADFTest(alpha=0.05)\n",
    "adf_test.should_diff(month['Cpi'])"
   ]
  },
  {
   "cell_type": "code",
   "execution_count": 180,
   "id": "73ec1a15",
   "metadata": {},
   "outputs": [
    {
     "name": "stdout",
     "output_type": "stream",
     "text": [
      "Results of Dickey-Fuller Test:\n",
      "Test Statistic                   1.298417\n",
      "p-value                          0.996600\n",
      "#Lags Used                       5.000000\n",
      "Number of Observations Used    102.000000\n",
      "Critical Value (1%)             -3.496149\n",
      "Critical Value (5%)             -2.890321\n",
      "Critical Value (10%)            -2.582122\n",
      "dtype: float64\n"
     ]
    }
   ],
   "source": [
    "from statsmodels.tsa.stattools import adfuller\n",
    "# We acquire greater results through adfuller\n",
    "\n",
    "def adf_test(month):\n",
    "    print(\"Results of Dickey-Fuller Test:\")\n",
    "    dftest = adfuller(month['Cpi'], autolag=\"AIC\")\n",
    "    dfoutput = pd.Series(\n",
    "        dftest[0:4],\n",
    "        index=[\n",
    "            \"Test Statistic\",\n",
    "            \"p-value\",\n",
    "            \"#Lags Used\",\n",
    "            \"Number of Observations Used\",\n",
    "        ],\n",
    "    )\n",
    "    for key, value in dftest[4].items():\n",
    "        dfoutput[\"Critical Value (%s)\" % key] = value\n",
    "    print(dfoutput)\n",
    "    \n",
    "\n",
    "    \n",
    "adf_test(month)"
   ]
  },
  {
   "cell_type": "code",
   "execution_count": 181,
   "id": "baaaf873",
   "metadata": {},
   "outputs": [
    {
     "name": "stdout",
     "output_type": "stream",
     "text": [
      "Results of KPSS Test:\n",
      "Test Statistic           0.410999\n",
      "p-value                  0.010000\n",
      "Lags Used                6.000000\n",
      "Critical Value (10%)     0.119000\n",
      "Critical Value (5%)      0.146000\n",
      "Critical Value (2.5%)    0.176000\n",
      "Critical Value (1%)      0.216000\n",
      "dtype: float64\n"
     ]
    }
   ],
   "source": [
    "from statsmodels.tsa.stattools import kpss\n",
    "\n",
    "\n",
    "def kpss_test(month):\n",
    "    print(\"Results of KPSS Test:\")\n",
    "    kpsstest = kpss(month['Cpi'], regression=\"ct\", nlags=\"auto\")\n",
    "    kpss_output = pd.Series(\n",
    "        kpsstest[0:3], index=[\"Test Statistic\", \"p-value\", \"Lags Used\"]\n",
    "    )\n",
    "    for key, value in kpsstest[3].items():\n",
    "        kpss_output[\"Critical Value (%s)\" % key] = value\n",
    "    print(kpss_output)\n",
    "    \n",
    "    \n",
    "    \n",
    "kpss_test(month)"
   ]
  },
  {
   "cell_type": "code",
   "execution_count": 182,
   "id": "605e5d22",
   "metadata": {},
   "outputs": [],
   "source": [
    "# Reject the null hypothesis - test statistic actual pvalue smaller\n",
    "#sm.tsa.stattools.kpss(month, regression='ct')"
   ]
  },
  {
   "cell_type": "code",
   "execution_count": 184,
   "id": "d1aa7c72",
   "metadata": {},
   "outputs": [
    {
     "data": {
      "image/png": "[encoded data removed]",
      "text/plain": [
       "<Figure size 432x288 with 4 Axes>"
      ]
     },
     "metadata": {
      "needs_background": "light"
     },
     "output_type": "display_data"
    }
   ],
   "source": [
    "from statsmodels.tsa.seasonal import seasonal_decompose\n",
    "\n",
    "seas_dcomp = seasonal_decompose(month['Cpi'],period=12,model='multiplicative')\n",
    "seas_dcomp.plot();"
   ]
  },
  {
   "cell_type": "markdown",
   "id": "f16c7580",
   "metadata": {},
   "source": [
    "# Apply Exponential Smoothing\n",
    "\n",
    "ARIMA method not returning good predictions, possibly due <br>to no level of seasonality within the data.\n",
    "\n",
    "Current solution: Use data that will fit the model"
   ]
  },
  {
   "cell_type": "markdown",
   "id": "0c6116df",
   "metadata": {},
   "source": [
    "\n",
    "### Make Series Stationary\n"
   ]
  },
  {
   "cell_type": "code",
   "execution_count": 185,
   "id": "af4d29fd",
   "metadata": {},
   "outputs": [],
   "source": [
    "#Transform the data from non-statinary to stationary\n",
    "month_log = np.sqrt(month['Cpi'])\n",
    "month_diff = month_log.diff().dropna()"
   ]
  },
  {
   "cell_type": "code",
   "execution_count": 186,
   "id": "e478442a",
   "metadata": {},
   "outputs": [
    {
     "name": "stdout",
     "output_type": "stream",
     "text": [
      "Test Statistic: -2.559826\n",
      "p-value: 0.101588\n",
      "Critical values:\n",
      "\t1%: -3.495\n",
      "\t5%: -2.890\n",
      "\t10%: -2.582\n"
     ]
    }
   ],
   "source": [
    "# Check for stationarity\n",
    "result = adfuller(month_diff)\n",
    "print('Test Statistic: %f' %result[0])\n",
    "print('p-value: %f' %result[1])\n",
    "print('Critical values:')\n",
    "for key, value in result[4].items ():\n",
    "     print('\\t%s: %.3f' %(key, value))"
   ]
  },
  {
   "cell_type": "code",
   "execution_count": 187,
   "id": "952cec9b",
   "metadata": {},
   "outputs": [
    {
     "name": "stdout",
     "output_type": "stream",
     "text": [
      "Test Statistic: 0.090000\n",
      "p-value: 0.100000\n",
      "Critical values:\n",
      "\t10%: 0.119\n",
      "\t5%: 0.146\n",
      "\t2.5%: 0.176\n",
      "\t1%: 0.216\n"
     ]
    }
   ],
   "source": [
    "result_kpss_ct_log=kpss(month_diff,regression=\"ct\")\n",
    "print('Test Statistic: %f' % np.round(result_kpss_ct_log[0],2))\n",
    "print('p-value: %f' %result_kpss_ct_log[1])\n",
    "print('Critical values:')\n",
    "for key, value in result_kpss_ct_log[3].items():\n",
    "     print('\\t%s: %.3f' %(key, value))"
   ]
  },
  {
   "cell_type": "code",
   "execution_count": null,
   "id": "c052bf20",
   "metadata": {},
   "outputs": [],
   "source": [
    "#month_new = month['Cpi']\n",
    "#month_24 = month_new[777:-7]\n",
    "#month_24.shape"
   ]
  },
  {
   "cell_type": "code",
   "execution_count": 189,
   "id": "062e8404",
   "metadata": {},
   "outputs": [
    {
     "data": {
      "image/png": "[encoded data removed]",
      "text/plain": [
       "<Figure size 1080x576 with 1 Axes>"
      ]
     },
     "metadata": {
      "needs_background": "light"
     },
     "output_type": "display_data"
    }
   ],
   "source": [
    "# Before and After confirmation\n",
    "plt.figure(figsize=(15,8))\n",
    "plt.plot(month_diff,label=\"after\")\n",
    "plt.plot(month['Cpi'],label=\"before\")\n",
    "plt.tick_params(\n",
    "    axis='x',        \n",
    "    which='both',\n",
    "    color='orange',\n",
    "    bottom=False,      \n",
    "    top=False,        \n",
    "    labelbottom=True)\n",
    "plt.legend()\n",
    "plt.show()"
   ]
  },
  {
   "cell_type": "code",
   "execution_count": 190,
   "id": "9e9f138b",
   "metadata": {},
   "outputs": [
    {
     "data": {
      "image/png": "[encoded data removed]",
      "text/plain": [
       "<Figure size 432x288 with 1 Axes>"
      ]
     },
     "metadata": {
      "needs_background": "light"
     },
     "output_type": "display_data"
    }
   ],
   "source": [
    "# Closer display\n",
    "month_diff.plot()\n",
    "plt.tick_params(\n",
    "    axis='x',        \n",
    "    which='both',\n",
    "    color='orange',\n",
    "    bottom=False,      \n",
    "    top=False,        \n",
    "    labelbottom=True)\n",
    "plt.show();"
   ]
  },
  {
   "cell_type": "markdown",
   "id": "c8945f61",
   "metadata": {},
   "source": [
    "\n",
    "### ACF/PACF\n",
    "\n",
    "We can use these two functions to allow us to see at which level of lag is most significant towards the current value.\n"
   ]
  },
  {
   "cell_type": "code",
   "execution_count": null,
   "id": "1092e132",
   "metadata": {},
   "outputs": [],
   "source": [
    "# First order \n",
    "#month['Rate_diff'] = month['Rate'].diff(periods=12)\n",
    "#month['Rate'] = month.dropna()"
   ]
  },
  {
   "cell_type": "code",
   "execution_count": 191,
   "id": "de921f7d",
   "metadata": {},
   "outputs": [
    {
     "data": {
      "text/plain": [
       "array([ 1.00000000e+00,  9.71455342e-01,  9.43034806e-01,  9.14135189e-01,\n",
       "        8.85254019e-01,  8.56696956e-01,  8.27849678e-01,  7.97802257e-01,\n",
       "        7.67684102e-01,  7.37219883e-01,  7.06967370e-01,  6.76344560e-01,\n",
       "        6.45988964e-01,  6.14423740e-01,  5.84103544e-01,  5.53744846e-01,\n",
       "        5.24293620e-01,  4.95234989e-01,  4.66045150e-01,  4.37014993e-01,\n",
       "        4.07381767e-01,  3.78353133e-01,  3.49640789e-01,  3.20758774e-01,\n",
       "        2.91647881e-01,  2.62941205e-01,  2.34502426e-01,  2.06255757e-01,\n",
       "        1.78090192e-01,  1.50290540e-01,  1.22806423e-01,  9.66204525e-02,\n",
       "        7.14384986e-02,  4.70214765e-02,  2.31836446e-02, -4.80756783e-04,\n",
       "       -2.33595419e-02, -4.57999443e-02, -6.77767536e-02, -8.91807924e-02,\n",
       "       -1.09005795e-01])"
      ]
     },
     "execution_count": 191,
     "metadata": {},
     "output_type": "execute_result"
    }
   ],
   "source": [
    "# Autocorrelation\n",
    "acf_month = acf(month['Cpi'])\n",
    "acf_month"
   ]
  },
  {
   "cell_type": "markdown",
   "id": "3466f9f8",
   "metadata": {},
   "source": [
    "Nice, we can definitely tell the difference, but let's see if we can do better"
   ]
  },
  {
   "cell_type": "markdown",
   "id": "3e502e38",
   "metadata": {},
   "source": [
    "Most important is ?"
   ]
  },
  {
   "cell_type": "code",
   "execution_count": 192,
   "id": "19a56bff",
   "metadata": {},
   "outputs": [
    {
     "data": {
      "image/png": "[encoded data removed]",
      "text/plain": [
       "<Figure size 432x288 with 1 Axes>"
      ]
     },
     "metadata": {
      "needs_background": "light"
     },
     "output_type": "display_data"
    }
   ],
   "source": [
    "plot_acf(month_diff, lags=12);"
   ]
  },
  {
   "cell_type": "code",
   "execution_count": 193,
   "id": "0a6f77b8",
   "metadata": {
    "scrolled": true
   },
   "outputs": [
    {
     "data": {
      "text/plain": [
       "array([ 1.  ,  0.98, -0.02, -0.03, -0.02, -0.01, -0.03, -0.06, -0.03,\n",
       "       -0.03, -0.02, -0.04, -0.02, -0.06,  0.01, -0.03, -0.  , -0.02,\n",
       "       -0.04, -0.03, -0.06, -0.02, -0.03, -0.04, -0.05, -0.03, -0.04,\n",
       "       -0.04, -0.05, -0.04, -0.04, -0.01, -0.01, -0.03, -0.03, -0.05,\n",
       "       -0.03, -0.05, -0.05, -0.04, -0.  ])"
      ]
     },
     "execution_count": 193,
     "metadata": {},
     "output_type": "execute_result"
    }
   ],
   "source": [
    "# Partial autocorrelation\n",
    "pacf_month = pacf(month['Cpi'])\n",
    "pacf_month.round(2)"
   ]
  },
  {
   "cell_type": "code",
   "execution_count": 194,
   "id": "195e6e25",
   "metadata": {},
   "outputs": [
    {
     "data": {
      "image/png": "[encoded data removed]",
      "text/plain": [
       "<Figure size 432x288 with 1 Axes>"
      ]
     },
     "metadata": {
      "needs_background": "light"
     },
     "output_type": "display_data"
    }
   ],
   "source": [
    "plot_pacf(pacf_month, lags=12);"
   ]
  },
  {
   "cell_type": "code",
   "execution_count": 196,
   "id": "db70b4e5",
   "metadata": {},
   "outputs": [
    {
     "data": {
      "image/png": "[encoded data removed]",
      "text/plain": [
       "<Figure size 432x288 with 1 Axes>"
      ]
     },
     "metadata": {
      "needs_background": "light"
     },
     "output_type": "display_data"
    }
   ],
   "source": [
    "# Visualize our plots\n",
    "plt.title('Consumer Price Index with First-order difference', size=25)\n",
    "plt.plot(month['Cpi'], label='CPI')\n",
    "plt.plot(month_diff, label='First-order difference', color='orange')\n",
    "plt.legend();"
   ]
  },
  {
   "cell_type": "markdown",
   "id": "dab47f11",
   "metadata": {},
   "source": [
    "\n",
    "## Auto-ARIMA"
   ]
  },
  {
   "cell_type": "code",
   "execution_count": 214,
   "id": "6d8bfdce",
   "metadata": {},
   "outputs": [
    {
     "name": "stdout",
     "output_type": "stream",
     "text": [
      "Performing stepwise search to minimize aic\n",
      " ARIMA(1,0,0)(0,1,0)[100] intercept   : AIC=-8.330, Time=1.28 sec\n",
      " ARIMA(0,0,0)(0,1,0)[100] intercept   : AIC=-7.901, Time=0.82 sec\n",
      " ARIMA(1,0,0)(1,1,0)[100] intercept   : AIC=-6.330, Time=5.96 sec\n",
      " ARIMA(0,0,1)(0,1,1)[100] intercept   : AIC=-6.621, Time=13.57 sec\n",
      " ARIMA(0,0,0)(0,1,0)[100]             : AIC=-8.228, Time=0.56 sec\n",
      " ARIMA(1,0,0)(0,1,1)[100] intercept   : AIC=-6.330, Time=7.35 sec\n",
      " ARIMA(1,0,0)(1,1,1)[100] intercept   : AIC=-4.330, Time=12.83 sec\n",
      " ARIMA(2,0,0)(0,1,0)[100] intercept   : AIC=-6.676, Time=2.16 sec\n",
      " ARIMA(1,0,1)(0,1,0)[100] intercept   : AIC=-6.811, Time=5.39 sec\n",
      " ARIMA(0,0,1)(0,1,0)[100] intercept   : AIC=-8.621, Time=4.02 sec\n",
      " ARIMA(0,0,1)(1,1,0)[100] intercept   : AIC=-6.621, Time=13.62 sec\n",
      " ARIMA(0,0,1)(1,1,1)[100] intercept   : AIC=-4.621, Time=19.11 sec\n",
      " ARIMA(0,0,2)(0,1,0)[100] intercept   : AIC=-6.777, Time=2.78 sec\n",
      " ARIMA(1,0,2)(0,1,0)[100] intercept   : AIC=-4.814, Time=2.57 sec\n",
      " ARIMA(0,0,1)(0,1,0)[100]             : AIC=-10.112, Time=2.14 sec\n",
      " ARIMA(0,0,1)(1,1,0)[100]             : AIC=-8.115, Time=12.47 sec\n",
      " ARIMA(0,0,1)(0,1,1)[100]             : AIC=-8.114, Time=14.96 sec\n",
      " ARIMA(0,0,1)(1,1,1)[100]             : AIC=-6.115, Time=10.22 sec\n",
      " ARIMA(1,0,1)(0,1,0)[100]             : AIC=-8.567, Time=1.52 sec\n",
      " ARIMA(0,0,2)(0,1,0)[100]             : AIC=-8.492, Time=2.19 sec\n",
      " ARIMA(1,0,0)(0,1,0)[100]             : AIC=-9.970, Time=1.00 sec\n",
      " ARIMA(1,0,2)(0,1,0)[100]             : AIC=-6.585, Time=3.01 sec\n",
      "\n",
      "Best model:  ARIMA(0,0,1)(0,1,0)[100]          \n",
      "Total fit time: 139.671 seconds\n"
     ]
    },
    {
     "data": {
      "text/html": [
       "<table class=\"simpletable\">\n",
       "<caption>SARIMAX Results</caption>\n",
       "<tr>\n",
       "  <th>Dep. Variable:</th>                   <td>y</td>                <th>  No. Observations:  </th>   <td>107</td>  \n",
       "</tr>\n",
       "<tr>\n",
       "  <th>Model:</th>           <td>SARIMAX(0, 0, 1)x(0, 1, [], 100)</td> <th>  Log Likelihood     </th>  <td>7.056</td> \n",
       "</tr>\n",
       "<tr>\n",
       "  <th>Date:</th>                    <td>Wed, 13 Jul 2022</td>         <th>  AIC                </th> <td>-10.112</td>\n",
       "</tr>\n",
       "<tr>\n",
       "  <th>Time:</th>                        <td>23:50:16</td>             <th>  BIC                </th> <td>-10.220</td>\n",
       "</tr>\n",
       "<tr>\n",
       "  <th>Sample:</th>                          <td>0</td>                <th>  HQIC               </th> <td>-11.449</td>\n",
       "</tr>\n",
       "<tr>\n",
       "  <th></th>                              <td> - 107</td>              <th>                     </th>    <td> </td>   \n",
       "</tr>\n",
       "<tr>\n",
       "  <th>Covariance Type:</th>                <td>opg</td>               <th>                     </th>    <td> </td>   \n",
       "</tr>\n",
       "</table>\n",
       "<table class=\"simpletable\">\n",
       "<tr>\n",
       "     <td></td>       <th>coef</th>     <th>std err</th>      <th>z</th>      <th>P>|z|</th>  <th>[0.025</th>    <th>0.975]</th>  \n",
       "</tr>\n",
       "<tr>\n",
       "  <th>ma.L1</th>  <td>    0.9681</td> <td>    4.180</td> <td>    0.232</td> <td> 0.817</td> <td>   -7.224</td> <td>    9.160</td>\n",
       "</tr>\n",
       "<tr>\n",
       "  <th>sigma2</th> <td>    0.0059</td> <td>    0.023</td> <td>    0.258</td> <td> 0.796</td> <td>   -0.039</td> <td>    0.050</td>\n",
       "</tr>\n",
       "</table>\n",
       "<table class=\"simpletable\">\n",
       "<tr>\n",
       "  <th>Ljung-Box (L1) (Q):</th>     <td>0.07</td> <th>  Jarque-Bera (JB):  </th> <td>0.86</td>\n",
       "</tr>\n",
       "<tr>\n",
       "  <th>Prob(Q):</th>                <td>0.79</td> <th>  Prob(JB):          </th> <td>0.65</td>\n",
       "</tr>\n",
       "<tr>\n",
       "  <th>Heteroskedasticity (H):</th> <td>1.93</td> <th>  Skew:              </th> <td>0.65</td>\n",
       "</tr>\n",
       "<tr>\n",
       "  <th>Prob(H) (two-sided):</th>    <td>0.68</td> <th>  Kurtosis:          </th> <td>1.87</td>\n",
       "</tr>\n",
       "</table><br/><br/>Warnings:<br/>[1] Covariance matrix calculated using the outer product of gradients (complex-step)."
      ],
      "text/plain": [
       "<class 'statsmodels.iolib.summary.Summary'>\n",
       "\"\"\"\n",
       "                                      SARIMAX Results                                       \n",
       "============================================================================================\n",
       "Dep. Variable:                                    y   No. Observations:                  107\n",
       "Model:             SARIMAX(0, 0, 1)x(0, 1, [], 100)   Log Likelihood                   7.056\n",
       "Date:                              Wed, 13 Jul 2022   AIC                            -10.112\n",
       "Time:                                      23:50:16   BIC                            -10.220\n",
       "Sample:                                           0   HQIC                           -11.449\n",
       "                                              - 107                                         \n",
       "Covariance Type:                                opg                                         \n",
       "==============================================================================\n",
       "                 coef    std err          z      P>|z|      [0.025      0.975]\n",
       "------------------------------------------------------------------------------\n",
       "ma.L1          0.9681      4.180      0.232      0.817      -7.224       9.160\n",
       "sigma2         0.0059      0.023      0.258      0.796      -0.039       0.050\n",
       "===================================================================================\n",
       "Ljung-Box (L1) (Q):                   0.07   Jarque-Bera (JB):                 0.86\n",
       "Prob(Q):                              0.79   Prob(JB):                         0.65\n",
       "Heteroskedasticity (H):               1.93   Skew:                             0.65\n",
       "Prob(H) (two-sided):                  0.68   Kurtosis:                         1.87\n",
       "===================================================================================\n",
       "\n",
       "Warnings:\n",
       "[1] Covariance matrix calculated using the outer product of gradients (complex-step).\n",
       "\"\"\""
      ]
     },
     "execution_count": 214,
     "metadata": {},
     "output_type": "execute_result"
    }
   ],
   "source": [
    "from pmdarima import auto_arima\n",
    "\n",
    "month_fit = auto_arima(month_diff,start_p=1, d=0, start_q=0, \n",
    "                          max_p=3, max_d=3, max_q=3, start_P=0, \n",
    "                          D=1, start_Q=0, max_P=3, max_D=3,\n",
    "                          max_Q=3, m=100, seasonal=True, \n",
    "                          error_action='warn',trace = True,\n",
    "                          supress_warnings=True,stepwise = True,\n",
    "                          random_state=42,n_fits = 50 )\n",
    "\n",
    "month_fit.summary()"
   ]
  },
  {
   "cell_type": "markdown",
   "id": "8009618a",
   "metadata": {},
   "source": [
    "\n",
    "## SARIMAX\n",
    "\n",
    "Using the SARIMAX model we will incorporate two orders. The first-order is p,d,q and the other is P,D,Q,m to accountfor seasonality."
   ]
  },
  {
   "cell_type": "code",
   "execution_count": 210,
   "id": "33b515e4",
   "metadata": {},
   "outputs": [
    {
     "name": "stdout",
     "output_type": "stream",
     "text": [
      "RUNNING THE L-BFGS-B CODE\n",
      "\n",
      "           * * *\n",
      "\n",
      "Machine precision = 2.220D-16\n",
      " N =            4     M =           10\n",
      "\n",
      "At X0         0 variables are exactly at the bounds\n",
      "\n",
      "At iterate    0    f=  1.93794D+00    |proj g|=  2.06881D-02\n",
      "\n",
      "At iterate    5    f=  1.93533D+00    |proj g|=  5.39602D-02\n",
      "\n",
      "At iterate   10    f=  1.93204D+00    |proj g|=  1.58452D-03\n",
      "\n",
      "           * * *\n",
      "\n",
      "Tit   = total number of iterations\n",
      "Tnf   = total number of function evaluations\n",
      "Tnint = total number of segments explored during Cauchy searches\n",
      "Skip  = number of BFGS updates skipped\n",
      "Nact  = number of active bounds at final generalized Cauchy point\n",
      "Projg = norm of the final projected gradient\n",
      "F     = final function value\n",
      "\n",
      "           * * *\n",
      "\n",
      "   N    Tit     Tnf  Tnint  Skip  Nact     Projg        F\n",
      "    4     14     17      1     0     0   4.631D-06   1.932D+00\n",
      "  F =   1.9320414850953616     \n",
      "\n",
      "CONVERGENCE: NORM_OF_PROJECTED_GRADIENT_<=_PGTOL            \n"
     ]
    },
    {
     "name": "stderr",
     "output_type": "stream",
     "text": [
      " This problem is unconstrained.\n"
     ]
    },
    {
     "data": {
      "text/html": [
       "<table class=\"simpletable\">\n",
       "<caption>SARIMAX Results</caption>\n",
       "<tr>\n",
       "  <th>Dep. Variable:</th>          <td>Jan</td>       <th>  No. Observations:  </th>    <td>105</td>  \n",
       "</tr>\n",
       "<tr>\n",
       "  <th>Model:</th>           <td>SARIMAX(2, 1, 1)</td> <th>  Log Likelihood     </th> <td>-202.864</td>\n",
       "</tr>\n",
       "<tr>\n",
       "  <th>Date:</th>            <td>Wed, 13 Jul 2022</td> <th>  AIC                </th>  <td>413.729</td>\n",
       "</tr>\n",
       "<tr>\n",
       "  <th>Time:</th>                <td>23:38:50</td>     <th>  BIC                </th>  <td>424.306</td>\n",
       "</tr>\n",
       "<tr>\n",
       "  <th>Sample:</th>             <td>01-01-1913</td>    <th>  HQIC               </th>  <td>418.014</td>\n",
       "</tr>\n",
       "<tr>\n",
       "  <th></th>                   <td>- 01-01-2017</td>   <th>                     </th>     <td> </td>   \n",
       "</tr>\n",
       "<tr>\n",
       "  <th>Covariance Type:</th>        <td>opg</td>       <th>                     </th>     <td> </td>   \n",
       "</tr>\n",
       "</table>\n",
       "<table class=\"simpletable\">\n",
       "<tr>\n",
       "     <td></td>       <th>coef</th>     <th>std err</th>      <th>z</th>      <th>P>|z|</th>  <th>[0.025</th>    <th>0.975]</th>  \n",
       "</tr>\n",
       "<tr>\n",
       "  <th>ar.L1</th>  <td>    0.2109</td> <td>    0.163</td> <td>    1.290</td> <td> 0.197</td> <td>   -0.110</td> <td>    0.531</td>\n",
       "</tr>\n",
       "<tr>\n",
       "  <th>ar.L2</th>  <td>    0.6390</td> <td>    0.145</td> <td>    4.419</td> <td> 0.000</td> <td>    0.356</td> <td>    0.922</td>\n",
       "</tr>\n",
       "<tr>\n",
       "  <th>ma.L1</th>  <td>    0.3929</td> <td>    0.203</td> <td>    1.936</td> <td> 0.053</td> <td>   -0.005</td> <td>    0.791</td>\n",
       "</tr>\n",
       "<tr>\n",
       "  <th>sigma2</th> <td>    2.8518</td> <td>    0.319</td> <td>    8.938</td> <td> 0.000</td> <td>    2.226</td> <td>    3.477</td>\n",
       "</tr>\n",
       "</table>\n",
       "<table class=\"simpletable\">\n",
       "<tr>\n",
       "  <th>Ljung-Box (L1) (Q):</th>     <td>0.17</td> <th>  Jarque-Bera (JB):  </th> <td>13.38</td>\n",
       "</tr>\n",
       "<tr>\n",
       "  <th>Prob(Q):</th>                <td>0.68</td> <th>  Prob(JB):          </th> <td>0.00</td> \n",
       "</tr>\n",
       "<tr>\n",
       "  <th>Heteroskedasticity (H):</th> <td>4.53</td> <th>  Skew:              </th> <td>-0.31</td>\n",
       "</tr>\n",
       "<tr>\n",
       "  <th>Prob(H) (two-sided):</th>    <td>0.00</td> <th>  Kurtosis:          </th> <td>4.65</td> \n",
       "</tr>\n",
       "</table><br/><br/>Warnings:<br/>[1] Covariance matrix calculated using the outer product of gradients (complex-step)."
      ],
      "text/plain": [
       "<class 'statsmodels.iolib.summary.Summary'>\n",
       "\"\"\"\n",
       "                               SARIMAX Results                                \n",
       "==============================================================================\n",
       "Dep. Variable:                    Jan   No. Observations:                  105\n",
       "Model:               SARIMAX(2, 1, 1)   Log Likelihood                -202.864\n",
       "Date:                Wed, 13 Jul 2022   AIC                            413.729\n",
       "Time:                        23:38:50   BIC                            424.306\n",
       "Sample:                    01-01-1913   HQIC                           418.014\n",
       "                         - 01-01-2017                                         \n",
       "Covariance Type:                  opg                                         \n",
       "==============================================================================\n",
       "                 coef    std err          z      P>|z|      [0.025      0.975]\n",
       "------------------------------------------------------------------------------\n",
       "ar.L1          0.2109      0.163      1.290      0.197      -0.110       0.531\n",
       "ar.L2          0.6390      0.145      4.419      0.000       0.356       0.922\n",
       "ma.L1          0.3929      0.203      1.936      0.053      -0.005       0.791\n",
       "sigma2         2.8518      0.319      8.938      0.000       2.226       3.477\n",
       "===================================================================================\n",
       "Ljung-Box (L1) (Q):                   0.17   Jarque-Bera (JB):                13.38\n",
       "Prob(Q):                              0.68   Prob(JB):                         0.00\n",
       "Heteroskedasticity (H):               4.53   Skew:                            -0.31\n",
       "Prob(H) (two-sided):                  0.00   Kurtosis:                         4.65\n",
       "===================================================================================\n",
       "\n",
       "Warnings:\n",
       "[1] Covariance matrix calculated using the outer product of gradients (complex-step).\n",
       "\"\"\""
      ]
     },
     "execution_count": 210,
     "metadata": {},
     "output_type": "execute_result"
    }
   ],
   "source": [
    "# Split data into train / test sets\n",
    "#train = month['Cpi'].iloc[:len(month['Cpi'])-12]\n",
    "#test = month['Cpi'].iloc[len(month['Cpi'])-12:] # set one year(12 months) for testing\n",
    "  \n",
    "from statsmodels.tsa.statespace.sarimax import SARIMAX\n",
    "  \n",
    "model = SARIMAX(train, \n",
    "                order = (2, 1, 1))\n",
    "  \n",
    "result = model.fit()\n",
    "result.summary()"
   ]
  },
  {
   "cell_type": "code",
   "execution_count": 215,
   "id": "6b66f92a",
   "metadata": {},
   "outputs": [
    {
     "data": {
      "image/png": "[encoded data removed]",
      "text/plain": [
       "<Figure size 432x288 with 1 Axes>"
      ]
     },
     "metadata": {
      "needs_background": "light"
     },
     "output_type": "display_data"
    }
   ],
   "source": [
    "start = len(train)\n",
    "end = len(train) + len(test) - 1\n",
    "  \n",
    "# Predictions for one-year against the test set\n",
    "predictions = result.predict(start, end,\n",
    "                             typ = 'levels').rename(\"Predictions\")\n",
    "  \n",
    "# plot predictions and actual values\n",
    "predictions.plot(legend = True);\n",
    "test.plot(legend = True);"
   ]
  },
  {
   "cell_type": "code",
   "execution_count": 216,
   "id": "14ca7325",
   "metadata": {},
   "outputs": [
    {
     "data": {
      "text/plain": [
       "0.6599693464243701"
      ]
     },
     "execution_count": 216,
     "metadata": {},
     "output_type": "execute_result"
    }
   ],
   "source": [
    "from sklearn.metrics import mean_squared_error\n",
    "from statsmodels.tools.eval_measures import rmse\n",
    "# Mse - always non-negative and values close to zero are better\n",
    "# Incorporates both the variance of the estimator and its bias.\n",
    "\n",
    "rmse(test, predictions)\n",
    "mean_squared_error(test, predictions)"
   ]
  },
  {
   "cell_type": "code",
   "execution_count": 217,
   "id": "d2f13e34",
   "metadata": {},
   "outputs": [
    {
     "name": "stdout",
     "output_type": "stream",
     "text": [
      "RUNNING THE L-BFGS-B CODE\n",
      "\n",
      "           * * *\n",
      "\n",
      "Machine precision = 2.220D-16\n",
      " N =            5     M =           10\n",
      "\n",
      "At X0         0 variables are exactly at the bounds\n",
      "\n",
      "At iterate    0    f= -5.21803D-01    |proj g|=  1.72747D+00\n",
      "\n",
      "At iterate    5    f= -5.47862D-01    |proj g|=  2.46768D-01\n",
      "\n",
      "At iterate   10    f= -5.53599D-01    |proj g|=  2.95641D-02\n"
     ]
    },
    {
     "name": "stderr",
     "output_type": "stream",
     "text": [
      " This problem is unconstrained.\n"
     ]
    },
    {
     "name": "stdout",
     "output_type": "stream",
     "text": [
      "\n",
      "At iterate   15    f= -5.54483D-01    |proj g|=  2.17798D-01\n",
      "\n",
      "At iterate   20    f= -5.55024D-01    |proj g|=  1.08743D-01\n",
      "\n",
      "At iterate   25    f= -5.58160D-01    |proj g|=  5.52938D-01\n",
      "\n",
      "At iterate   30    f= -5.72245D-01    |proj g|=  1.74922D-01\n",
      "\n",
      "At iterate   35    f= -5.75929D-01    |proj g|=  5.21963D-03\n",
      "\n",
      "           * * *\n",
      "\n",
      "Tit   = total number of iterations\n",
      "Tnf   = total number of function evaluations\n",
      "Tnint = total number of segments explored during Cauchy searches\n",
      "Skip  = number of BFGS updates skipped\n",
      "Nact  = number of active bounds at final generalized Cauchy point\n",
      "Projg = norm of the final projected gradient\n",
      "F     = final function value\n",
      "\n",
      "           * * *\n",
      "\n",
      "   N    Tit     Tnf  Tnint  Skip  Nact     Projg        F\n",
      "    5     39     53      1     0     0   2.295D-03  -5.761D-01\n",
      "  F = -0.57606391255235079     \n",
      "\n",
      "CONVERGENCE: REL_REDUCTION_OF_F_<=_FACTR*EPSMCH             \n"
     ]
    },
    {
     "data": {
      "image/png": "[encoded data removed]",
      "text/plain": [
       "<Figure size 864x360 with 1 Axes>"
      ]
     },
     "metadata": {
      "needs_background": "light"
     },
     "output_type": "display_data"
    }
   ],
   "source": [
    "# Train the model on the full dataset\n",
    "model = model = SARIMAX(month_diff, \n",
    "                        order = (0, 1, 1), \n",
    "                        seasonal_order =(2, 1, 1, 12))\n",
    "result = model.fit()\n",
    "  \n",
    "# Forecast for the next 3 years\n",
    "forecast = result.predict(start = len(month_diff), \n",
    "                          end = (len(month_diff)-1) + 3 * 3\n",
    "                          , \n",
    "                          typ = 'levels').rename('Forecast')\n",
    "  \n",
    "# Plot the forecast values\n",
    "month_diff.plot(figsize = (12, 5), legend = True)\n",
    "forecast.plot(legend = True);\n"
   ]
  },
  {
   "cell_type": "markdown",
   "id": "144e2c1d",
   "metadata": {},
   "source": [
    "\n",
    "### Alternate version\n"
   ]
  },
  {
   "cell_type": "code",
   "execution_count": 218,
   "id": "28a06216",
   "metadata": {},
   "outputs": [
    {
     "name": "stdout",
     "output_type": "stream",
     "text": [
      "                                      SARIMAX Results                                      \n",
      "===========================================================================================\n",
      "Dep. Variable:                         D.DS100.Jan   No. Observations:                    7\n",
      "Model:             SARIMAX(2, 0, 0)x(1, 0, 0, 100)   Log Likelihood                 -15.771\n",
      "Date:                             Wed, 13 Jul 2022   AIC                             39.542\n",
      "Time:                                     23:58:43   BIC                             39.326\n",
      "Sample:                                 01-01-2014   HQIC                            36.868\n",
      "                                      - 01-01-2020                                         \n",
      "Covariance Type:                               opg                                         \n",
      "==============================================================================\n",
      "                 coef    std err          z      P>|z|      [0.025      0.975]\n",
      "------------------------------------------------------------------------------\n",
      "ar.L1          0.3981      0.579      0.688      0.491      -0.736       1.532\n",
      "ar.L2          0.3421      0.490      0.698      0.485      -0.619       1.303\n",
      "ar.S.L100     -0.0323   3.83e+06  -8.43e-09      1.000    -7.5e+06     7.5e+06\n",
      "sigma2         4.7894   1.18e+06   4.05e-06      1.000   -2.32e+06    2.32e+06\n",
      "===================================================================================\n",
      "Ljung-Box (L1) (Q):                   0.99   Jarque-Bera (JB):                 0.64\n",
      "Prob(Q):                              0.32   Prob(JB):                         0.73\n",
      "Heteroskedasticity (H):               0.49   Skew:                            -0.31\n",
      "Prob(H) (two-sided):                  0.66   Kurtosis:                         1.66\n",
      "===================================================================================\n",
      "\n",
      "Warnings:\n",
      "[1] Covariance matrix calculated using the outer product of gradients (complex-step).\n"
     ]
    }
   ],
   "source": [
    "mod = sm.tsa.statespace.SARIMAX(month['Cpi'], order=(2,1,0), seasonal_order=(1,1,0,100), simple_differencing=True)\n",
    "res = mod.fit(disp=False)\n",
    "print(res.summary())"
   ]
  },
  {
   "cell_type": "code",
   "execution_count": 219,
   "id": "8e57d773",
   "metadata": {},
   "outputs": [
    {
     "data": {
      "text/html": [
       "<div>\n",
       "<style scoped>\n",
       "    .dataframe tbody tr th:only-of-type {\n",
       "        vertical-align: middle;\n",
       "    }\n",
       "\n",
       "    .dataframe tbody tr th {\n",
       "        vertical-align: top;\n",
       "    }\n",
       "\n",
       "    .dataframe thead th {\n",
       "        text-align: right;\n",
       "    }\n",
       "</style>\n",
       "<table border=\"1\" class=\"dataframe\">\n",
       "  <thead>\n",
       "    <tr style=\"text-align: right;\">\n",
       "      <th></th>\n",
       "      <th>lower D.DS100.Jan</th>\n",
       "      <th>upper D.DS100.Jan</th>\n",
       "    </tr>\n",
       "  </thead>\n",
       "  <tbody>\n",
       "    <tr>\n",
       "      <th>2014-01-01</th>\n",
       "      <td>-5.736895</td>\n",
       "      <td>5.736895</td>\n",
       "    </tr>\n",
       "    <tr>\n",
       "      <th>2015-01-01</th>\n",
       "      <td>-2.487733</td>\n",
       "      <td>6.646482</td>\n",
       "    </tr>\n",
       "    <tr>\n",
       "      <th>2016-01-01</th>\n",
       "      <td>-3.239148</td>\n",
       "      <td>5.343961</td>\n",
       "    </tr>\n",
       "    <tr>\n",
       "      <th>2017-01-01</th>\n",
       "      <td>-3.239052</td>\n",
       "      <td>5.344058</td>\n",
       "    </tr>\n",
       "    <tr>\n",
       "      <th>2018-01-01</th>\n",
       "      <td>-1.455770</td>\n",
       "      <td>7.127340</td>\n",
       "    </tr>\n",
       "    <tr>\n",
       "      <th>2019-01-01</th>\n",
       "      <td>-1.623910</td>\n",
       "      <td>6.959199</td>\n",
       "    </tr>\n",
       "    <tr>\n",
       "      <th>2020-01-01</th>\n",
       "      <td>-2.822815</td>\n",
       "      <td>5.760294</td>\n",
       "    </tr>\n",
       "  </tbody>\n",
       "</table>\n",
       "</div>"
      ],
      "text/plain": [
       "            lower D.DS100.Jan  upper D.DS100.Jan\n",
       "2014-01-01          -5.736895           5.736895\n",
       "2015-01-01          -2.487733           6.646482\n",
       "2016-01-01          -3.239148           5.343961\n",
       "2017-01-01          -3.239052           5.344058\n",
       "2018-01-01          -1.455770           7.127340\n",
       "2019-01-01          -1.623910           6.959199\n",
       "2020-01-01          -2.822815           5.760294"
      ]
     },
     "execution_count": 219,
     "metadata": {},
     "output_type": "execute_result"
    }
   ],
   "source": [
    "# In-sample one-step-ahead predictions\n",
    "predict = res.get_prediction()\n",
    "predict_ci = predict.conf_int()\n",
    "predict_ci"
   ]
  },
  {
   "cell_type": "code",
   "execution_count": null,
   "id": "09684861",
   "metadata": {},
   "outputs": [],
   "source": []
  }
 ],
 "metadata": {
  "kernelspec": {
   "display_name": "NNse",
   "language": "python",
   "name": "u4-s1-nns"
  },
  "language_info": {
   "codemirror_mode": {
    "name": "ipython",
    "version": 3
   },
   "file_extension": ".py",
   "mimetype": "text/x-python",
   "name": "python",
   "nbconvert_exporter": "python",
   "pygments_lexer": "ipython3",
   "version": "3.8.5"
  }
 },
 "nbformat": 4,
 "nbformat_minor": 5
}
